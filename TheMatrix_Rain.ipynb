{
 "cells": [
  {
   "cell_type": "code",
   "execution_count": 1,
   "metadata": {},
   "outputs": [
    {
     "name": "stdout",
     "output_type": "stream",
     "text": [
      "pygame 2.5.2 (SDL 2.28.3, Python 3.11.5)\n",
      "Hello from the pygame community. https://www.pygame.org/contribute.html\n"
     ]
    }
   ],
   "source": [
    "import pygame\n",
    "import random\n",
    "\n",
    "# Initialize pygame\n",
    "pygame.init()\n",
    "\n",
    "# Constants\n",
    "WIDTH, HEIGHT = 800, 600\n",
    "GREEN = (0, 255, 0)\n",
    "FONT_SIZE = 20\n",
    "FONT_NAME = \"Courier New\"\n",
    "MATRIX_COLS = WIDTH // FONT_SIZE\n",
    "MATRIX_ROWS = HEIGHT // FONT_SIZE\n",
    "\n",
    "# Create the screen\n",
    "screen = pygame.display.set_mode((WIDTH, HEIGHT))\n",
    "pygame.display.set_caption(\"Matrix Rain\")\n",
    "\n",
    "# Create a list to store falling characters\n",
    "falling_chars = []\n",
    "\n",
    "# Create a font\n",
    "font = pygame.font.Font(None, FONT_SIZE)\n",
    "\n",
    "# Generate random falling characters\n",
    "for _ in range(MATRIX_COLS):\n",
    "    x = random.randint(0, WIDTH)\n",
    "    y = random.randint(-MATRIX_ROWS, 0)\n",
    "    speed = random.randint(1, 5)\n",
    "    char = random.choice(\"0123456789ABCDEFGHIJKLMNOPQRSTUVWXYZ\") \n",
    "    falling_chars.append([x, y, speed, char])\n",
    "\n",
    "# Game loop\n",
    "running = True\n",
    "while running:\n",
    "    for event in pygame.event.get():\n",
    "        if event.type == pygame.QUIT:\n",
    "            running = False\n",
    "\n",
    "    # Clear the screen\n",
    "    screen.fill((0, 0, 0))\n",
    "\n",
    "    # Update and draw falling characters\n",
    "    for char_info in falling_chars:\n",
    "        char_info[1] += char_info[2]\n",
    "        x, y, char = char_info[0], char_info[1], char_info[3]\n",
    "        text_surface = font.render(char, True, GREEN)\n",
    "        screen.blit(text_surface, (x, y))\n",
    "\n",
    "        # Reset character position if it goes off the screen\n",
    "        if y > HEIGHT:\n",
    "            char_info[1] = random.randint(-MATRIX_ROWS, 0)\n",
    "\n",
    "    pygame.display.flip()\n",
    "\n",
    "# Quit the game\n",
    "pygame.quit()\n"
   ]
  }
 ],
 "metadata": {
  "kernelspec": {
   "display_name": "Python 3",
   "language": "python",
   "name": "python3"
  },
  "language_info": {
   "codemirror_mode": {
    "name": "ipython",
    "version": 3
   },
   "file_extension": ".py",
   "mimetype": "text/x-python",
   "name": "python",
   "nbconvert_exporter": "python",
   "pygments_lexer": "ipython3",
   "version": "3.11.5"
  },
  "orig_nbformat": 4
 },
 "nbformat": 4,
 "nbformat_minor": 2
}
