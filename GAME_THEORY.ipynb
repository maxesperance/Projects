{
  "nbformat": 4,
  "nbformat_minor": 0,
  "metadata": {
    "colab": {
      "provenance": [],
      "collapsed_sections": [
        "WcpzRMA29faN",
        "JaXEMJmM56jN"
      ]
    },
    "kernelspec": {
      "name": "python3",
      "display_name": "Python 3"
    },
    "language_info": {
      "name": "python"
    }
  },
  "cells": [
    {
      "cell_type": "markdown",
      "source": [
        "# **GAME THEORY**"
      ],
      "metadata": {
        "id": "k2Xehu1_jnFI"
      }
    },
    {
      "cell_type": "markdown",
      "source": [
        "# **GAME 1: MJ, Lebron and The Prisoners Dillema**"
      ],
      "metadata": {
        "id": "WcpzRMA29faN"
      }
    },
    {
      "cell_type": "markdown",
      "source": [
        "Study of rational interaction within groups. Essentially, whenever you deal with another person, you’re playing a game."
      ],
      "metadata": {
        "id": "RvS-eoKjj2OC"
      }
    },
    {
      "cell_type": "markdown",
      "source": [
        "**The Prisoners’ Dilemma:** The two players are Mike and LeBron. They were both abducted by Aliens then separated into different UFO's where they must confess on who is actually the GOAT . The aliens interrogating our players don’t have enough evidence, they need a confession. \n",
        "\n",
        "*Here are the strategies and payoffs for our players :*\n",
        "\n",
        "If one player says himself while the other stays silent, the confessor receives GOAT status and 100,000 Alien currency while the other is abducted in space for 1500 Alien Years (230 Earth Years).\n",
        "\n",
        "If both players abide by the code and stay silent, each player gets no GOAT status, the debates can go on and they both return to Earth after 1 Year.\n",
        "\n",
        "If both players claim themselves, they each get abducted for 150 Alien years (23 Earth years).\n",
        "\n",
        "**Staying silent is the \"OG\" strategy and Confessing the (Larry) \"BIRD\" strategy .** \n"
      ],
      "metadata": {
        "id": "zlRBmuJRkGfd"
      }
    },
    {
      "cell_type": "code",
      "source": [
        "#Load Necessary Packages\n",
        "import numpy as np\n",
        "import pandas as pd\n",
        "import nashpy as nash\n",
        "import quantecon as qe"
      ],
      "metadata": {
        "id": "YFNYiREjrt60"
      },
      "execution_count": null,
      "outputs": []
    },
    {
      "cell_type": "code",
      "source": [
        "#pip install nashpy"
      ],
      "metadata": {
        "id": "_X24CT_CrcEF"
      },
      "execution_count": null,
      "outputs": []
    },
    {
      "cell_type": "code",
      "source": [
        "#pip install quantecon"
      ],
      "metadata": {
        "id": "n3OP30rWtKQ7"
      },
      "execution_count": null,
      "outputs": []
    },
    {
      "cell_type": "markdown",
      "source": [
        "**Create Mikes’s payoff matrix:**\n"
      ],
      "metadata": {
        "id": "eJK__EgkmvvZ"
      }
    },
    {
      "cell_type": "code",
      "execution_count": null,
      "metadata": {
        "colab": {
          "base_uri": "https://localhost:8080/",
          "height": 112
        },
        "id": "h8fnfYQqjebG",
        "outputId": "a82b1b54-05f9-454e-b5e8-4ea52f11b4be"
      },
      "outputs": [
        {
          "output_type": "execute_result",
          "data": {
            "text/plain": [
              "      OG  BIRD\n",
              "OG    -1  -230\n",
              "BIRD   0   -23"
            ],
            "text/html": [
              "\n",
              "  <div id=\"df-804bdaab-d588-4cde-be0f-5a6e79c14cac\">\n",
              "    <div class=\"colab-df-container\">\n",
              "      <div>\n",
              "<style scoped>\n",
              "    .dataframe tbody tr th:only-of-type {\n",
              "        vertical-align: middle;\n",
              "    }\n",
              "\n",
              "    .dataframe tbody tr th {\n",
              "        vertical-align: top;\n",
              "    }\n",
              "\n",
              "    .dataframe thead th {\n",
              "        text-align: right;\n",
              "    }\n",
              "</style>\n",
              "<table border=\"1\" class=\"dataframe\">\n",
              "  <thead>\n",
              "    <tr style=\"text-align: right;\">\n",
              "      <th></th>\n",
              "      <th>OG</th>\n",
              "      <th>BIRD</th>\n",
              "    </tr>\n",
              "  </thead>\n",
              "  <tbody>\n",
              "    <tr>\n",
              "      <th>OG</th>\n",
              "      <td>-1</td>\n",
              "      <td>-230</td>\n",
              "    </tr>\n",
              "    <tr>\n",
              "      <th>BIRD</th>\n",
              "      <td>0</td>\n",
              "      <td>-23</td>\n",
              "    </tr>\n",
              "  </tbody>\n",
              "</table>\n",
              "</div>\n",
              "      <button class=\"colab-df-convert\" onclick=\"convertToInteractive('df-804bdaab-d588-4cde-be0f-5a6e79c14cac')\"\n",
              "              title=\"Convert this dataframe to an interactive table.\"\n",
              "              style=\"display:none;\">\n",
              "        \n",
              "  <svg xmlns=\"http://www.w3.org/2000/svg\" height=\"24px\"viewBox=\"0 0 24 24\"\n",
              "       width=\"24px\">\n",
              "    <path d=\"M0 0h24v24H0V0z\" fill=\"none\"/>\n",
              "    <path d=\"M18.56 5.44l.94 2.06.94-2.06 2.06-.94-2.06-.94-.94-2.06-.94 2.06-2.06.94zm-11 1L8.5 8.5l.94-2.06 2.06-.94-2.06-.94L8.5 2.5l-.94 2.06-2.06.94zm10 10l.94 2.06.94-2.06 2.06-.94-2.06-.94-.94-2.06-.94 2.06-2.06.94z\"/><path d=\"M17.41 7.96l-1.37-1.37c-.4-.4-.92-.59-1.43-.59-.52 0-1.04.2-1.43.59L10.3 9.45l-7.72 7.72c-.78.78-.78 2.05 0 2.83L4 21.41c.39.39.9.59 1.41.59.51 0 1.02-.2 1.41-.59l7.78-7.78 2.81-2.81c.8-.78.8-2.07 0-2.86zM5.41 20L4 18.59l7.72-7.72 1.47 1.35L5.41 20z\"/>\n",
              "  </svg>\n",
              "      </button>\n",
              "      \n",
              "  <style>\n",
              "    .colab-df-container {\n",
              "      display:flex;\n",
              "      flex-wrap:wrap;\n",
              "      gap: 12px;\n",
              "    }\n",
              "\n",
              "    .colab-df-convert {\n",
              "      background-color: #E8F0FE;\n",
              "      border: none;\n",
              "      border-radius: 50%;\n",
              "      cursor: pointer;\n",
              "      display: none;\n",
              "      fill: #1967D2;\n",
              "      height: 32px;\n",
              "      padding: 0 0 0 0;\n",
              "      width: 32px;\n",
              "    }\n",
              "\n",
              "    .colab-df-convert:hover {\n",
              "      background-color: #E2EBFA;\n",
              "      box-shadow: 0px 1px 2px rgba(60, 64, 67, 0.3), 0px 1px 3px 1px rgba(60, 64, 67, 0.15);\n",
              "      fill: #174EA6;\n",
              "    }\n",
              "\n",
              "    [theme=dark] .colab-df-convert {\n",
              "      background-color: #3B4455;\n",
              "      fill: #D2E3FC;\n",
              "    }\n",
              "\n",
              "    [theme=dark] .colab-df-convert:hover {\n",
              "      background-color: #434B5C;\n",
              "      box-shadow: 0px 1px 3px 1px rgba(0, 0, 0, 0.15);\n",
              "      filter: drop-shadow(0px 1px 2px rgba(0, 0, 0, 0.3));\n",
              "      fill: #FFFFFF;\n",
              "    }\n",
              "  </style>\n",
              "\n",
              "      <script>\n",
              "        const buttonEl =\n",
              "          document.querySelector('#df-804bdaab-d588-4cde-be0f-5a6e79c14cac button.colab-df-convert');\n",
              "        buttonEl.style.display =\n",
              "          google.colab.kernel.accessAllowed ? 'block' : 'none';\n",
              "\n",
              "        async function convertToInteractive(key) {\n",
              "          const element = document.querySelector('#df-804bdaab-d588-4cde-be0f-5a6e79c14cac');\n",
              "          const dataTable =\n",
              "            await google.colab.kernel.invokeFunction('convertToInteractive',\n",
              "                                                     [key], {});\n",
              "          if (!dataTable) return;\n",
              "\n",
              "          const docLinkHtml = 'Like what you see? Visit the ' +\n",
              "            '<a target=\"_blank\" href=https://colab.research.google.com/notebooks/data_table.ipynb>data table notebook</a>'\n",
              "            + ' to learn more about interactive tables.';\n",
              "          element.innerHTML = '';\n",
              "          dataTable['output_type'] = 'display_data';\n",
              "          await google.colab.output.renderOutput(dataTable, element);\n",
              "          const docLink = document.createElement('div');\n",
              "          docLink.innerHTML = docLinkHtml;\n",
              "          element.appendChild(docLink);\n",
              "        }\n",
              "      </script>\n",
              "    </div>\n",
              "  </div>\n",
              "  "
            ]
          },
          "metadata": {},
          "execution_count": 32
        }
      ],
      "source": [
        "# create an array with Mike's payoffs\n",
        "x = np.array([[-1, -230],[0, -23]])\n",
        "# re-label the rows and columns\n",
        "mike=pd.DataFrame(x, columns=['OG', 'BIRD'])\n",
        "mike.index = ['OG', 'BIRD']\n",
        "mike"
      ]
    },
    {
      "cell_type": "markdown",
      "source": [
        "Mike is represented by the rows while Randy is represented by the columns. For example, if Mike plays OG while LeBron plays BIRD, Mike’s payoff is -230 (the number of years he is abducted by Aliens). If Mike plays BIRD and LeBron plays OG, Mike's payoff is 0 (no years Abducted time)."
      ],
      "metadata": {
        "id": "mKpYEAn4oFmr"
      }
    },
    {
      "cell_type": "markdown",
      "source": [
        "**Create LeBron’s payoff matrix:** \n"
      ],
      "metadata": {
        "id": "WNID-jQ9qazw"
      }
    },
    {
      "cell_type": "code",
      "source": [
        "# create LeBron's payoff matrix\n",
        "# LeBron's payoff matrix is the transpose of Mike's\n",
        "lebron=mike.T\n",
        "lebron"
      ],
      "metadata": {
        "colab": {
          "base_uri": "https://localhost:8080/",
          "height": 112
        },
        "id": "hJ8p21KoqsNB",
        "outputId": "0959733f-6eb5-4e06-bfeb-b3759d7a4c38"
      },
      "execution_count": null,
      "outputs": [
        {
          "output_type": "execute_result",
          "data": {
            "text/plain": [
              "       OG  BIRD\n",
              "OG     -1     0\n",
              "BIRD -230   -23"
            ],
            "text/html": [
              "\n",
              "  <div id=\"df-fc39afd9-f075-4047-8c6b-baa52d2acb01\">\n",
              "    <div class=\"colab-df-container\">\n",
              "      <div>\n",
              "<style scoped>\n",
              "    .dataframe tbody tr th:only-of-type {\n",
              "        vertical-align: middle;\n",
              "    }\n",
              "\n",
              "    .dataframe tbody tr th {\n",
              "        vertical-align: top;\n",
              "    }\n",
              "\n",
              "    .dataframe thead th {\n",
              "        text-align: right;\n",
              "    }\n",
              "</style>\n",
              "<table border=\"1\" class=\"dataframe\">\n",
              "  <thead>\n",
              "    <tr style=\"text-align: right;\">\n",
              "      <th></th>\n",
              "      <th>OG</th>\n",
              "      <th>BIRD</th>\n",
              "    </tr>\n",
              "  </thead>\n",
              "  <tbody>\n",
              "    <tr>\n",
              "      <th>OG</th>\n",
              "      <td>-1</td>\n",
              "      <td>0</td>\n",
              "    </tr>\n",
              "    <tr>\n",
              "      <th>BIRD</th>\n",
              "      <td>-230</td>\n",
              "      <td>-23</td>\n",
              "    </tr>\n",
              "  </tbody>\n",
              "</table>\n",
              "</div>\n",
              "      <button class=\"colab-df-convert\" onclick=\"convertToInteractive('df-fc39afd9-f075-4047-8c6b-baa52d2acb01')\"\n",
              "              title=\"Convert this dataframe to an interactive table.\"\n",
              "              style=\"display:none;\">\n",
              "        \n",
              "  <svg xmlns=\"http://www.w3.org/2000/svg\" height=\"24px\"viewBox=\"0 0 24 24\"\n",
              "       width=\"24px\">\n",
              "    <path d=\"M0 0h24v24H0V0z\" fill=\"none\"/>\n",
              "    <path d=\"M18.56 5.44l.94 2.06.94-2.06 2.06-.94-2.06-.94-.94-2.06-.94 2.06-2.06.94zm-11 1L8.5 8.5l.94-2.06 2.06-.94-2.06-.94L8.5 2.5l-.94 2.06-2.06.94zm10 10l.94 2.06.94-2.06 2.06-.94-2.06-.94-.94-2.06-.94 2.06-2.06.94z\"/><path d=\"M17.41 7.96l-1.37-1.37c-.4-.4-.92-.59-1.43-.59-.52 0-1.04.2-1.43.59L10.3 9.45l-7.72 7.72c-.78.78-.78 2.05 0 2.83L4 21.41c.39.39.9.59 1.41.59.51 0 1.02-.2 1.41-.59l7.78-7.78 2.81-2.81c.8-.78.8-2.07 0-2.86zM5.41 20L4 18.59l7.72-7.72 1.47 1.35L5.41 20z\"/>\n",
              "  </svg>\n",
              "      </button>\n",
              "      \n",
              "  <style>\n",
              "    .colab-df-container {\n",
              "      display:flex;\n",
              "      flex-wrap:wrap;\n",
              "      gap: 12px;\n",
              "    }\n",
              "\n",
              "    .colab-df-convert {\n",
              "      background-color: #E8F0FE;\n",
              "      border: none;\n",
              "      border-radius: 50%;\n",
              "      cursor: pointer;\n",
              "      display: none;\n",
              "      fill: #1967D2;\n",
              "      height: 32px;\n",
              "      padding: 0 0 0 0;\n",
              "      width: 32px;\n",
              "    }\n",
              "\n",
              "    .colab-df-convert:hover {\n",
              "      background-color: #E2EBFA;\n",
              "      box-shadow: 0px 1px 2px rgba(60, 64, 67, 0.3), 0px 1px 3px 1px rgba(60, 64, 67, 0.15);\n",
              "      fill: #174EA6;\n",
              "    }\n",
              "\n",
              "    [theme=dark] .colab-df-convert {\n",
              "      background-color: #3B4455;\n",
              "      fill: #D2E3FC;\n",
              "    }\n",
              "\n",
              "    [theme=dark] .colab-df-convert:hover {\n",
              "      background-color: #434B5C;\n",
              "      box-shadow: 0px 1px 3px 1px rgba(0, 0, 0, 0.15);\n",
              "      filter: drop-shadow(0px 1px 2px rgba(0, 0, 0, 0.3));\n",
              "      fill: #FFFFFF;\n",
              "    }\n",
              "  </style>\n",
              "\n",
              "      <script>\n",
              "        const buttonEl =\n",
              "          document.querySelector('#df-fc39afd9-f075-4047-8c6b-baa52d2acb01 button.colab-df-convert');\n",
              "        buttonEl.style.display =\n",
              "          google.colab.kernel.accessAllowed ? 'block' : 'none';\n",
              "\n",
              "        async function convertToInteractive(key) {\n",
              "          const element = document.querySelector('#df-fc39afd9-f075-4047-8c6b-baa52d2acb01');\n",
              "          const dataTable =\n",
              "            await google.colab.kernel.invokeFunction('convertToInteractive',\n",
              "                                                     [key], {});\n",
              "          if (!dataTable) return;\n",
              "\n",
              "          const docLinkHtml = 'Like what you see? Visit the ' +\n",
              "            '<a target=\"_blank\" href=https://colab.research.google.com/notebooks/data_table.ipynb>data table notebook</a>'\n",
              "            + ' to learn more about interactive tables.';\n",
              "          element.innerHTML = '';\n",
              "          dataTable['output_type'] = 'display_data';\n",
              "          await google.colab.output.renderOutput(dataTable, element);\n",
              "          const docLink = document.createElement('div');\n",
              "          docLink.innerHTML = docLinkHtml;\n",
              "          element.appendChild(docLink);\n",
              "        }\n",
              "      </script>\n",
              "    </div>\n",
              "  </div>\n",
              "  "
            ]
          },
          "metadata": {},
          "execution_count": 33
        }
      ]
    },
    {
      "cell_type": "markdown",
      "source": [
        "**Alternative Way: **"
      ],
      "metadata": {
        "id": "snUINGlCr_Mm"
      }
    },
    {
      "cell_type": "code",
      "source": [
        "# Mike's payoffs (row player)\n",
        "x = np.array([[-1, -230],[0, -23]]) \n",
        "# LeBron's payoffs (column player)\n",
        "y = x.T\n",
        "import nashpy as nash\n",
        "prisoners_dilemma = nash.Game(x,y)\n",
        "prisoners_dilemma"
      ],
      "metadata": {
        "colab": {
          "base_uri": "https://localhost:8080/"
        },
        "id": "CAc7PqBLreVs",
        "outputId": "370cb878-81e3-4e77-ef2c-81dbcf96ccf5"
      },
      "execution_count": null,
      "outputs": [
        {
          "output_type": "execute_result",
          "data": {
            "text/plain": [
              "Bi matrix game with payoff matrices:\n",
              "\n",
              "Row player:\n",
              "[[  -1 -230]\n",
              " [   0  -23]]\n",
              "\n",
              "Column player:\n",
              "[[  -1    0]\n",
              " [-230  -23]]"
            ]
          },
          "metadata": {},
          "execution_count": 34
        }
      ]
    },
    {
      "cell_type": "markdown",
      "source": [
        "**Payoff Table:** \n",
        "\n",
        "The payoff table is a bi-matrix which contains Mike's and LeBron’s payoff matrices written together."
      ],
      "metadata": {
        "id": "jqtV36n0sn7J"
      }
    },
    {
      "cell_type": "code",
      "source": [
        "# create a list containing both players payoffs\n",
        "po = [[(-1,-1), (-230,0)], [(0,-230), (-23,-23)]]\n",
        "w = qe.game_theory.NormalFormGame(po)\n",
        "print(w)"
      ],
      "metadata": {
        "colab": {
          "base_uri": "https://localhost:8080/"
        },
        "id": "OXgIvMIiskW3",
        "outputId": "96ba8c6a-de6c-4c78-8745-ef5de19ccf07"
      },
      "execution_count": null,
      "outputs": [
        {
          "output_type": "stream",
          "name": "stdout",
          "text": [
            "2-player NormalFormGame with payoff profile array:\n",
            "[[[  -1,   -1],  [-230,    0]],\n",
            " [[   0, -230],  [ -23,  -23]]]\n"
          ]
        }
      ]
    },
    {
      "cell_type": "markdown",
      "source": [
        "The strategy profiles for our game are: {(OG, OG), (OG, BIRD), (BIRD, OG), (BIRD, BIRD)}"
      ],
      "metadata": {
        "id": "n8tlyJ1euDdY"
      }
    },
    {
      "cell_type": "markdown",
      "source": [
        "Write a function to further crystalize our understanding:"
      ],
      "metadata": {
        "id": "PVMpttEFucTf"
      }
    },
    {
      "cell_type": "code",
      "source": [
        "# write the payoff function\n",
        "def payoff_function (x=str, y=str):\n",
        "    if x == 'OG' and y == 'OG':\n",
        "        print('Mike {}'.format(-1),':','LeBron {}'.format(-1))\n",
        "    elif x == 'OG' and y == 'BIRD':\n",
        "        print('Mike {}'.format(-230),':','LeBron {}'.format(0))\n",
        "    elif x == 'BIRD' and y == 'BIRD':\n",
        "        print('Mike {}'.format(-23),':','LeBron {}'.format(-23), ':', \"NE\")\n",
        "    else:\n",
        "        print('Mike {}'.format(0),':','LeBron {}'.format(-230))"
      ],
      "metadata": {
        "id": "aww9tLeBuAe0"
      },
      "execution_count": null,
      "outputs": []
    },
    {
      "cell_type": "markdown",
      "source": [
        "Strategy Prolie: (BIRD, OG) = (0, -230). Function Output:"
      ],
      "metadata": {
        "id": "wf1uK4Kl25tp"
      }
    },
    {
      "cell_type": "code",
      "source": [
        "payoff_function('BIRD', 'OG')"
      ],
      "metadata": {
        "colab": {
          "base_uri": "https://localhost:8080/"
        },
        "id": "LgttVWLy21z1",
        "outputId": "29b109b7-c7c7-476f-efa8-32d47caf1699"
      },
      "execution_count": null,
      "outputs": [
        {
          "output_type": "stream",
          "name": "stdout",
          "text": [
            "Mike 0 : LeBron -230\n"
          ]
        }
      ]
    },
    {
      "cell_type": "markdown",
      "source": [
        "Initially neither player knows what the other player will do when deciding or making a choice. Hence NE is a pair of choices/strategies/expectations where neither player wants to change their behaviour even after the strategy/choice of the other player is revealed.\n",
        "\n",
        "\n",
        "**Nash Equilibrium (NE):** optimal choice of Player A given Player B’s choice coincides with optimal choice of Player B given Player A’s choice. "
      ],
      "metadata": {
        "id": "hCs-3XgU6G5Q"
      }
    },
    {
      "cell_type": "markdown",
      "source": [
        "**Game is being played simultaneously:** \n",
        "\n",
        "Each player maximizes their payoffs by playing BIRD (it’s the only possible way either player can avoid getting being abducted). So, if our players are rational and look to maximize their preferences, they’ll always play hawk. In competitive terms, BIRD strictly dominates OG because all competitors want to win and be the best. Therefore, the outcome of our game will be (BIRD, BIRD). This represents the Nash equilibrium:"
      ],
      "metadata": {
        "id": "otkNCslV3Xhu"
      }
    },
    {
      "cell_type": "code",
      "source": [
        "payoff_function('BIRD', 'BIRD')"
      ],
      "metadata": {
        "colab": {
          "base_uri": "https://localhost:8080/"
        },
        "id": "mx2ysey_4I-L",
        "outputId": "0716b05a-4735-4eb2-e3ea-ea7eae9710c9"
      },
      "execution_count": null,
      "outputs": [
        {
          "output_type": "stream",
          "name": "stdout",
          "text": [
            "Mike -23 : LeBron -23 : NE\n"
          ]
        }
      ]
    },
    {
      "cell_type": "markdown",
      "source": [
        "**They get 23 years each and lets forget that they wore 6 and 45**"
      ],
      "metadata": {
        "id": "R67C7LJ34XeR"
      }
    },
    {
      "cell_type": "markdown",
      "source": [
        "# **GAME 2: Mixed Strategy Game**"
      ],
      "metadata": {
        "id": "JaXEMJmM56jN"
      }
    },
    {
      "cell_type": "markdown",
      "source": [
        "Humans, often might make a choice and not stick to it . So, instead what the players can do is **randomize **their strategies."
      ],
      "metadata": {
        "id": "D4l-lkBx63ps"
      }
    },
    {
      "cell_type": "markdown",
      "source": [
        "In this game, if player B chooses left , then player A’s pay-offs are either 4 or 0. While, when player B chooses right, player A’s pay-offs are 0 or 2. Hence, if B chooses left A should choose Top and if B chooses Right then A should choose Bottom. This, optimal choice of A is dependent on what choice B makes."
      ],
      "metadata": {
        "id": "RFpSm2MP5_4C"
      }
    },
    {
      "cell_type": "markdown",
      "source": [
        "In this game, strategy (Top, Left) is a Nash equilibrium because if A chooses Top, then the best thing for B is to choose Left because his pay-off for choosing left is 2 as opposed to 0 if he chooses bottom. Similarly if B chooses left then best choice for A is to choose Top, because he will get a higher pay-off of 4 if he chooses Top versus he will get 0 if he chooses Bottom.\n",
        "So, can there be multiple Nash equilibrium? The answer is Yes. In this game we just discussed, in fact we have 2 Nash equilibria- the strategy (Bottom, Right) is also a NE because if A chooses Bottom, B should choose Right and vice versa.\n"
      ],
      "metadata": {
        "id": "y1vDhtqP6lz9"
      }
    },
    {
      "cell_type": "markdown",
      "source": [
        "**Multiple Nash equilibria:** There can be multiple Nash equilibria where there is no unique solution that exists.\n",
        "\n",
        "No Nash Equilibira is also a possibility\n"
      ],
      "metadata": {
        "id": "Gv8mZ3of7oDz"
      }
    },
    {
      "cell_type": "code",
      "source": [
        "# Create the payoff matrix\n",
        "A = np.array([[23,0],[0,6]]) # A is the row player\n",
        "B = np.array([[6,0],[0,23]]) # B is the column player\n",
        "game2 = nash.Game(A,B)\n",
        "game2\n",
        "# Find the Nash Equilibrium with Support Enumeration\n",
        "equilibria = game2.support_enumeration()\n",
        "for eq in equilibria:\n",
        "    print(eq)"
      ],
      "metadata": {
        "colab": {
          "base_uri": "https://localhost:8080/"
        },
        "id": "Tkp93uQ95-EK",
        "outputId": "8893a804-8fc3-42fe-837d-8f89843e5849"
      },
      "execution_count": null,
      "outputs": [
        {
          "output_type": "stream",
          "name": "stdout",
          "text": [
            "(array([1., 0.]), array([1., 0.]))\n",
            "(array([0., 1.]), array([0., 1.]))\n",
            "(array([0.79310345, 0.20689655]), array([0.20689655, 0.79310345]))\n"
          ]
        }
      ]
    },
    {
      "cell_type": "markdown",
      "source": [
        "**Line 1:** “(array([1., 0.]), array([1., 0.])) “\n",
        "Interpretation: This is the first Nash equilibrium (Top, Left).Player A chooses strategy 1 i.e. ‘Top’ as given by ‘1’ in the first position of the first array and Player B chooses strategy 1 i.e. ‘Left’ as given by ‘1’ in the first position of the second array."
      ],
      "metadata": {
        "id": "n7nMlUQF63mj"
      }
    },
    {
      "cell_type": "markdown",
      "source": [
        "\n",
        "**Line 2:** “(array([0., 1.]), array([0., 1.])) “\n",
        "Interpretation: This is the second Nash equilibrium (Bottom, Right).Player A chooses strategy 2 i.e. ‘Bottom’ as given by ‘1’ in the second position of the first array and Player B chooses strategy 2 i.e. ‘Right’ as given by ‘1’ in the second position of the second array.\n"
      ],
      "metadata": {
        "id": "Kr5v1_OS63j0"
      }
    },
    {
      "cell_type": "markdown",
      "source": [
        "**`Mixed Strategy:`**"
      ],
      "metadata": {
        "id": "HZe6bQZH63aP"
      }
    },
    {
      "cell_type": "markdown",
      "source": [
        "**Line 3:** “(array([0.66666667, 0.33333333]), array([0.33333333, 0.66666667])) “\n",
        "Interpretation: Player A plays strategy 1 i.e. “Top” 66.67% of the times and strategy 2 i.e. “Bottom” 33.33% of the times while Player B plays strategy 1 i.e. “Left” 33.33% of the times and strategy 2 i.e. “Right” 66.67% of the times.\n",
        "Logically also, Player A should assign higher probability to “Top” and player B to “Right” because these give them higher pay-offs.\n",
        "This equilibrium is a mixed strategy Nash equilibrium and defined as\n",
        "“Each player chooses the optimal “frequency” with which to play his strategies given the frequency choices of the other player”"
      ],
      "metadata": {
        "id": "_tizXQom8Q1Q"
      }
    },
    {
      "cell_type": "markdown",
      "source": [
        "*Calculate the utility /pay-offs of Player A and Player B in the mixed strategy game?*"
      ],
      "metadata": {
        "id": "UOR1qtAL8Q4l"
      }
    },
    {
      "cell_type": "markdown",
      "source": [
        "![image.png](data:image/png;base64,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)"
      ],
      "metadata": {
        "id": "lTaF88LH8qmA"
      }
    },
    {
      "cell_type": "code",
      "source": [
        "# Calculate Utilities\n",
        "sigma_r = np.array([.79,.21])\n",
        "sigma_c = np.array([.21,.79])\n",
        "pd = nash.Game(A, B)\n",
        "pd[sigma_r, sigma_c]"
      ],
      "metadata": {
        "colab": {
          "base_uri": "https://localhost:8080/"
        },
        "id": "0O6Loqw46ytv",
        "outputId": "5eb2b439-ba7f-46c5-aab5-500d818f882c"
      },
      "execution_count": null,
      "outputs": [
        {
          "output_type": "execute_result",
          "data": {
            "text/plain": [
              "array([4.8111, 4.8111])"
            ]
          },
          "metadata": {},
          "execution_count": 46
        }
      ]
    },
    {
      "cell_type": "markdown",
      "source": [
        "**4.8 Years Abducted **"
      ],
      "metadata": {
        "id": "xIzdEoOU983p"
      }
    }
  ]
}