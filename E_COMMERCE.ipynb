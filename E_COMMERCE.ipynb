{
  "nbformat": 4,
  "nbformat_minor": 0,
  "metadata": {
    "colab": {
      "provenance": [],
      "collapsed_sections": [
        "GPXn7xOrgtZy",
        "ZDDMHEEXVYiY",
        "op9c638EHlt3"
      ]
    },
    "kernelspec": {
      "name": "python3",
      "display_name": "Python 3"
    },
    "language_info": {
      "name": "python"
    }
  },
  "cells": [
    {
      "cell_type": "markdown",
      "source": [
        "# **Ecommerce & Fraud**"
      ],
      "metadata": {
        "id": "NGFqzMoOLzbX"
      }
    },
    {
      "cell_type": "markdown",
      "source": [
        "# **Exploratory Data Analysis**"
      ],
      "metadata": {
        "id": "GPXn7xOrgtZy"
      }
    },
    {
      "cell_type": "code",
      "source": [
        "#Import necessary packages\n",
        "import numpy as np \n",
        "import pandas as pd \n",
        "from scipy.stats import iqr as sc\n",
        "import statsmodels.api as sm\n",
        "pd.set_option('max_columns', 100)\n",
        "\n",
        "#visualizing\n",
        "import matplotlib.pyplot as plt\n",
        "import matplotlib.image as mpimg\n",
        "from shapely.geometry import Point, Polygon\n",
        "import plotly.express as px\n",
        "import seaborn as sns\n",
        "import numpy as np\n",
        "import seaborn as sns\n",
        "sns.set()\n",
        "%matplotlib inline\n",
        "\n",
        "#metrics and split\n",
        "from sklearn.metrics import r2_score\n",
        "from sklearn.model_selection import train_test_split\n",
        "from sklearn.metrics import confusion_matrix\n",
        "from sklearn.metrics import accuracy_score\n",
        "from sklearn.metrics import classification_report\n",
        "\n",
        "#model imports\n",
        "from sklearn import linear_model\n",
        "from sklearn.tree import DecisionTreeRegressor\n",
        "from sklearn.ensemble import GradientBoostingRegressor\n",
        "from sklearn.neighbors import KNeighborsClassifier\n",
        "from sklearn.ensemble import RandomForestRegressor\n",
        "from sklearn.ensemble import RandomForestClassifier\n",
        "from sklearn.ensemble import  ExtraTreesRegressor\n",
        "from xgboost import XGBRegressor\n",
        "from sklearn.linear_model import LogisticRegression\n",
        "from sklearn.linear_model import LassoCV\n",
        "from sklearn.preprocessing import StandardScaler\n",
        "from sklearn.model_selection import GridSearchCV\n",
        "from sklearn.model_selection import train_test_split, cross_val_score\n",
        "from sklearn.linear_model import LinearRegression, LassoCV, RidgeCV\n",
        "from sklearn.metrics import mean_squared_error, r2_score"
      ],
      "metadata": {
        "id": "9gveWddCCjdf"
      },
      "execution_count": null,
      "outputs": []
    },
    {
      "cell_type": "code",
      "execution_count": null,
      "metadata": {
        "colab": {
          "base_uri": "https://localhost:8080/"
        },
        "id": "DqfsK3kygse-",
        "outputId": "a0feb631-8a99-459e-ed1b-0ffd22f5f867"
      },
      "outputs": [
        {
          "output_type": "execute_result",
          "data": {
            "text/plain": [
              "   Unnamed: 0              customerEmail       customerPhone  \\\n",
              "0           0     josephhoward@yahoo.com        400-108-5415   \n",
              "1           1     evansjeffery@yahoo.com      1-788-091-7546   \n",
              "2           2  andersonwilliam@yahoo.com        024.420.0375   \n",
              "3           3      rubenjuarez@yahoo.com  670.664.8168x94985   \n",
              "4           4           uchen@malone.com      1-981-877-0870   \n",
              "\n",
              "         customerDevice                        customerIPAddress  \\\n",
              "0  yyeiaxpltf82440jnb3v                             8.129.104.40   \n",
              "1  r0jpm7xaeqqa3kr6mzum                          219.173.211.202   \n",
              "2  4m7h5ipl1shyavt6vv2r  67b7:3db8:67e0:3bea:b9d0:90c1:2b60:b9f0   \n",
              "3  slovx60t0i558may4ks0  95de:8565:5a66:792c:26e0:6cfb:7d87:11af   \n",
              "4  j0pd24k5h8dl2fqu0cz4                           196.89.235.192   \n",
              "\n",
              "                              customerBillingAddress  No_Transactions  \\\n",
              "0            5493 Jones Islands\\nBrownside, CA 51896                2   \n",
              "1  356 Elizabeth Inlet Suite 120\\nPort Joshuabury...                3   \n",
              "2     8478 Sean Ridges Apt. 441\\nDavisberg, PR 72250                5   \n",
              "3  7769 Elizabeth Bridge Apt. 343\\nNortonstad, FM...                3   \n",
              "4  148 Russell Lodge Apt. 445\\nPort Jenniferside,...                7   \n",
              "\n",
              "   No_Orders  No_Payments  Fraud  \n",
              "0          2            1  False  \n",
              "1          3            7   True  \n",
              "2          3            2  False  \n",
              "3          3            1  False  \n",
              "4          7            6   True  "
            ],
            "text/html": [
              "\n",
              "  <div id=\"df-ca46827c-24db-4b13-8ae9-8cc2cc334bb6\">\n",
              "    <div class=\"colab-df-container\">\n",
              "      <div>\n",
              "<style scoped>\n",
              "    .dataframe tbody tr th:only-of-type {\n",
              "        vertical-align: middle;\n",
              "    }\n",
              "\n",
              "    .dataframe tbody tr th {\n",
              "        vertical-align: top;\n",
              "    }\n",
              "\n",
              "    .dataframe thead th {\n",
              "        text-align: right;\n",
              "    }\n",
              "</style>\n",
              "<table border=\"1\" class=\"dataframe\">\n",
              "  <thead>\n",
              "    <tr style=\"text-align: right;\">\n",
              "      <th></th>\n",
              "      <th>Unnamed: 0</th>\n",
              "      <th>customerEmail</th>\n",
              "      <th>customerPhone</th>\n",
              "      <th>customerDevice</th>\n",
              "      <th>customerIPAddress</th>\n",
              "      <th>customerBillingAddress</th>\n",
              "      <th>No_Transactions</th>\n",
              "      <th>No_Orders</th>\n",
              "      <th>No_Payments</th>\n",
              "      <th>Fraud</th>\n",
              "    </tr>\n",
              "  </thead>\n",
              "  <tbody>\n",
              "    <tr>\n",
              "      <th>0</th>\n",
              "      <td>0</td>\n",
              "      <td>josephhoward@yahoo.com</td>\n",
              "      <td>400-108-5415</td>\n",
              "      <td>yyeiaxpltf82440jnb3v</td>\n",
              "      <td>8.129.104.40</td>\n",
              "      <td>5493 Jones Islands\\nBrownside, CA 51896</td>\n",
              "      <td>2</td>\n",
              "      <td>2</td>\n",
              "      <td>1</td>\n",
              "      <td>False</td>\n",
              "    </tr>\n",
              "    <tr>\n",
              "      <th>1</th>\n",
              "      <td>1</td>\n",
              "      <td>evansjeffery@yahoo.com</td>\n",
              "      <td>1-788-091-7546</td>\n",
              "      <td>r0jpm7xaeqqa3kr6mzum</td>\n",
              "      <td>219.173.211.202</td>\n",
              "      <td>356 Elizabeth Inlet Suite 120\\nPort Joshuabury...</td>\n",
              "      <td>3</td>\n",
              "      <td>3</td>\n",
              "      <td>7</td>\n",
              "      <td>True</td>\n",
              "    </tr>\n",
              "    <tr>\n",
              "      <th>2</th>\n",
              "      <td>2</td>\n",
              "      <td>andersonwilliam@yahoo.com</td>\n",
              "      <td>024.420.0375</td>\n",
              "      <td>4m7h5ipl1shyavt6vv2r</td>\n",
              "      <td>67b7:3db8:67e0:3bea:b9d0:90c1:2b60:b9f0</td>\n",
              "      <td>8478 Sean Ridges Apt. 441\\nDavisberg, PR 72250</td>\n",
              "      <td>5</td>\n",
              "      <td>3</td>\n",
              "      <td>2</td>\n",
              "      <td>False</td>\n",
              "    </tr>\n",
              "    <tr>\n",
              "      <th>3</th>\n",
              "      <td>3</td>\n",
              "      <td>rubenjuarez@yahoo.com</td>\n",
              "      <td>670.664.8168x94985</td>\n",
              "      <td>slovx60t0i558may4ks0</td>\n",
              "      <td>95de:8565:5a66:792c:26e0:6cfb:7d87:11af</td>\n",
              "      <td>7769 Elizabeth Bridge Apt. 343\\nNortonstad, FM...</td>\n",
              "      <td>3</td>\n",
              "      <td>3</td>\n",
              "      <td>1</td>\n",
              "      <td>False</td>\n",
              "    </tr>\n",
              "    <tr>\n",
              "      <th>4</th>\n",
              "      <td>4</td>\n",
              "      <td>uchen@malone.com</td>\n",
              "      <td>1-981-877-0870</td>\n",
              "      <td>j0pd24k5h8dl2fqu0cz4</td>\n",
              "      <td>196.89.235.192</td>\n",
              "      <td>148 Russell Lodge Apt. 445\\nPort Jenniferside,...</td>\n",
              "      <td>7</td>\n",
              "      <td>7</td>\n",
              "      <td>6</td>\n",
              "      <td>True</td>\n",
              "    </tr>\n",
              "  </tbody>\n",
              "</table>\n",
              "</div>\n",
              "      <button class=\"colab-df-convert\" onclick=\"convertToInteractive('df-ca46827c-24db-4b13-8ae9-8cc2cc334bb6')\"\n",
              "              title=\"Convert this dataframe to an interactive table.\"\n",
              "              style=\"display:none;\">\n",
              "        \n",
              "  <svg xmlns=\"http://www.w3.org/2000/svg\" height=\"24px\"viewBox=\"0 0 24 24\"\n",
              "       width=\"24px\">\n",
              "    <path d=\"M0 0h24v24H0V0z\" fill=\"none\"/>\n",
              "    <path d=\"M18.56 5.44l.94 2.06.94-2.06 2.06-.94-2.06-.94-.94-2.06-.94 2.06-2.06.94zm-11 1L8.5 8.5l.94-2.06 2.06-.94-2.06-.94L8.5 2.5l-.94 2.06-2.06.94zm10 10l.94 2.06.94-2.06 2.06-.94-2.06-.94-.94-2.06-.94 2.06-2.06.94z\"/><path d=\"M17.41 7.96l-1.37-1.37c-.4-.4-.92-.59-1.43-.59-.52 0-1.04.2-1.43.59L10.3 9.45l-7.72 7.72c-.78.78-.78 2.05 0 2.83L4 21.41c.39.39.9.59 1.41.59.51 0 1.02-.2 1.41-.59l7.78-7.78 2.81-2.81c.8-.78.8-2.07 0-2.86zM5.41 20L4 18.59l7.72-7.72 1.47 1.35L5.41 20z\"/>\n",
              "  </svg>\n",
              "      </button>\n",
              "      \n",
              "  <style>\n",
              "    .colab-df-container {\n",
              "      display:flex;\n",
              "      flex-wrap:wrap;\n",
              "      gap: 12px;\n",
              "    }\n",
              "\n",
              "    .colab-df-convert {\n",
              "      background-color: #E8F0FE;\n",
              "      border: none;\n",
              "      border-radius: 50%;\n",
              "      cursor: pointer;\n",
              "      display: none;\n",
              "      fill: #1967D2;\n",
              "      height: 32px;\n",
              "      padding: 0 0 0 0;\n",
              "      width: 32px;\n",
              "    }\n",
              "\n",
              "    .colab-df-convert:hover {\n",
              "      background-color: #E2EBFA;\n",
              "      box-shadow: 0px 1px 2px rgba(60, 64, 67, 0.3), 0px 1px 3px 1px rgba(60, 64, 67, 0.15);\n",
              "      fill: #174EA6;\n",
              "    }\n",
              "\n",
              "    [theme=dark] .colab-df-convert {\n",
              "      background-color: #3B4455;\n",
              "      fill: #D2E3FC;\n",
              "    }\n",
              "\n",
              "    [theme=dark] .colab-df-convert:hover {\n",
              "      background-color: #434B5C;\n",
              "      box-shadow: 0px 1px 3px 1px rgba(0, 0, 0, 0.15);\n",
              "      filter: drop-shadow(0px 1px 2px rgba(0, 0, 0, 0.3));\n",
              "      fill: #FFFFFF;\n",
              "    }\n",
              "  </style>\n",
              "\n",
              "      <script>\n",
              "        const buttonEl =\n",
              "          document.querySelector('#df-ca46827c-24db-4b13-8ae9-8cc2cc334bb6 button.colab-df-convert');\n",
              "        buttonEl.style.display =\n",
              "          google.colab.kernel.accessAllowed ? 'block' : 'none';\n",
              "\n",
              "        async function convertToInteractive(key) {\n",
              "          const element = document.querySelector('#df-ca46827c-24db-4b13-8ae9-8cc2cc334bb6');\n",
              "          const dataTable =\n",
              "            await google.colab.kernel.invokeFunction('convertToInteractive',\n",
              "                                                     [key], {});\n",
              "          if (!dataTable) return;\n",
              "\n",
              "          const docLinkHtml = 'Like what you see? Visit the ' +\n",
              "            '<a target=\"_blank\" href=https://colab.research.google.com/notebooks/data_table.ipynb>data table notebook</a>'\n",
              "            + ' to learn more about interactive tables.';\n",
              "          element.innerHTML = '';\n",
              "          dataTable['output_type'] = 'display_data';\n",
              "          await google.colab.output.renderOutput(dataTable, element);\n",
              "          const docLink = document.createElement('div');\n",
              "          docLink.innerHTML = docLinkHtml;\n",
              "          element.appendChild(docLink);\n",
              "        }\n",
              "      </script>\n",
              "    </div>\n",
              "  </div>\n",
              "  "
            ]
          },
          "metadata": {},
          "execution_count": 430
        }
      ],
      "source": [
        "# load consumer dataset\n",
        "c = pd.read_csv('/content/drive/MyDrive/Colab Notebooks/customer.csv') \n",
        "#View\n",
        "c.head()"
      ]
    },
    {
      "cell_type": "code",
      "source": [
        "c.columns"
      ],
      "metadata": {
        "colab": {
          "base_uri": "https://localhost:8080/"
        },
        "id": "mvtinYzZh3zW",
        "outputId": "66d4eb9d-855f-4430-c14a-63db87dc17b2"
      },
      "execution_count": null,
      "outputs": [
        {
          "output_type": "execute_result",
          "data": {
            "text/plain": [
              "Index(['Unnamed: 0', 'customerEmail', 'customerPhone', 'customerDevice',\n",
              "       'customerIPAddress', 'customerBillingAddress', 'No_Transactions',\n",
              "       'No_Orders', 'No_Payments', 'Fraud'],\n",
              "      dtype='object')"
            ]
          },
          "metadata": {},
          "execution_count": 431
        }
      ]
    },
    {
      "cell_type": "code",
      "source": [
        "c.describe()"
      ],
      "metadata": {
        "colab": {
          "base_uri": "https://localhost:8080/"
        },
        "id": "VDxeBH1MiGLE",
        "outputId": "2ef5dc38-ed6f-417a-d607-9283cbe9c4b7"
      },
      "execution_count": null,
      "outputs": [
        {
          "output_type": "execute_result",
          "data": {
            "text/plain": [
              "       Unnamed: 0  No_Transactions   No_Orders  No_Payments\n",
              "count  168.000000       168.000000  168.000000   168.000000\n",
              "mean    83.500000         3.708333    2.845238     2.035714\n",
              "std     48.641546         2.801527    1.981919     2.113240\n",
              "min      0.000000         0.000000    0.000000     0.000000\n",
              "25%     41.750000         1.000000    1.000000     1.000000\n",
              "50%     83.500000         4.000000    3.000000     1.000000\n",
              "75%    125.250000         5.000000    4.000000     2.000000\n",
              "max    167.000000        15.000000    8.000000    15.000000"
            ],
            "text/html": [
              "\n",
              "  <div id=\"df-19e898e6-75f8-4a9c-b598-11399ae551e6\">\n",
              "    <div class=\"colab-df-container\">\n",
              "      <div>\n",
              "<style scoped>\n",
              "    .dataframe tbody tr th:only-of-type {\n",
              "        vertical-align: middle;\n",
              "    }\n",
              "\n",
              "    .dataframe tbody tr th {\n",
              "        vertical-align: top;\n",
              "    }\n",
              "\n",
              "    .dataframe thead th {\n",
              "        text-align: right;\n",
              "    }\n",
              "</style>\n",
              "<table border=\"1\" class=\"dataframe\">\n",
              "  <thead>\n",
              "    <tr style=\"text-align: right;\">\n",
              "      <th></th>\n",
              "      <th>Unnamed: 0</th>\n",
              "      <th>No_Transactions</th>\n",
              "      <th>No_Orders</th>\n",
              "      <th>No_Payments</th>\n",
              "    </tr>\n",
              "  </thead>\n",
              "  <tbody>\n",
              "    <tr>\n",
              "      <th>count</th>\n",
              "      <td>168.000000</td>\n",
              "      <td>168.000000</td>\n",
              "      <td>168.000000</td>\n",
              "      <td>168.000000</td>\n",
              "    </tr>\n",
              "    <tr>\n",
              "      <th>mean</th>\n",
              "      <td>83.500000</td>\n",
              "      <td>3.708333</td>\n",
              "      <td>2.845238</td>\n",
              "      <td>2.035714</td>\n",
              "    </tr>\n",
              "    <tr>\n",
              "      <th>std</th>\n",
              "      <td>48.641546</td>\n",
              "      <td>2.801527</td>\n",
              "      <td>1.981919</td>\n",
              "      <td>2.113240</td>\n",
              "    </tr>\n",
              "    <tr>\n",
              "      <th>min</th>\n",
              "      <td>0.000000</td>\n",
              "      <td>0.000000</td>\n",
              "      <td>0.000000</td>\n",
              "      <td>0.000000</td>\n",
              "    </tr>\n",
              "    <tr>\n",
              "      <th>25%</th>\n",
              "      <td>41.750000</td>\n",
              "      <td>1.000000</td>\n",
              "      <td>1.000000</td>\n",
              "      <td>1.000000</td>\n",
              "    </tr>\n",
              "    <tr>\n",
              "      <th>50%</th>\n",
              "      <td>83.500000</td>\n",
              "      <td>4.000000</td>\n",
              "      <td>3.000000</td>\n",
              "      <td>1.000000</td>\n",
              "    </tr>\n",
              "    <tr>\n",
              "      <th>75%</th>\n",
              "      <td>125.250000</td>\n",
              "      <td>5.000000</td>\n",
              "      <td>4.000000</td>\n",
              "      <td>2.000000</td>\n",
              "    </tr>\n",
              "    <tr>\n",
              "      <th>max</th>\n",
              "      <td>167.000000</td>\n",
              "      <td>15.000000</td>\n",
              "      <td>8.000000</td>\n",
              "      <td>15.000000</td>\n",
              "    </tr>\n",
              "  </tbody>\n",
              "</table>\n",
              "</div>\n",
              "      <button class=\"colab-df-convert\" onclick=\"convertToInteractive('df-19e898e6-75f8-4a9c-b598-11399ae551e6')\"\n",
              "              title=\"Convert this dataframe to an interactive table.\"\n",
              "              style=\"display:none;\">\n",
              "        \n",
              "  <svg xmlns=\"http://www.w3.org/2000/svg\" height=\"24px\"viewBox=\"0 0 24 24\"\n",
              "       width=\"24px\">\n",
              "    <path d=\"M0 0h24v24H0V0z\" fill=\"none\"/>\n",
              "    <path d=\"M18.56 5.44l.94 2.06.94-2.06 2.06-.94-2.06-.94-.94-2.06-.94 2.06-2.06.94zm-11 1L8.5 8.5l.94-2.06 2.06-.94-2.06-.94L8.5 2.5l-.94 2.06-2.06.94zm10 10l.94 2.06.94-2.06 2.06-.94-2.06-.94-.94-2.06-.94 2.06-2.06.94z\"/><path d=\"M17.41 7.96l-1.37-1.37c-.4-.4-.92-.59-1.43-.59-.52 0-1.04.2-1.43.59L10.3 9.45l-7.72 7.72c-.78.78-.78 2.05 0 2.83L4 21.41c.39.39.9.59 1.41.59.51 0 1.02-.2 1.41-.59l7.78-7.78 2.81-2.81c.8-.78.8-2.07 0-2.86zM5.41 20L4 18.59l7.72-7.72 1.47 1.35L5.41 20z\"/>\n",
              "  </svg>\n",
              "      </button>\n",
              "      \n",
              "  <style>\n",
              "    .colab-df-container {\n",
              "      display:flex;\n",
              "      flex-wrap:wrap;\n",
              "      gap: 12px;\n",
              "    }\n",
              "\n",
              "    .colab-df-convert {\n",
              "      background-color: #E8F0FE;\n",
              "      border: none;\n",
              "      border-radius: 50%;\n",
              "      cursor: pointer;\n",
              "      display: none;\n",
              "      fill: #1967D2;\n",
              "      height: 32px;\n",
              "      padding: 0 0 0 0;\n",
              "      width: 32px;\n",
              "    }\n",
              "\n",
              "    .colab-df-convert:hover {\n",
              "      background-color: #E2EBFA;\n",
              "      box-shadow: 0px 1px 2px rgba(60, 64, 67, 0.3), 0px 1px 3px 1px rgba(60, 64, 67, 0.15);\n",
              "      fill: #174EA6;\n",
              "    }\n",
              "\n",
              "    [theme=dark] .colab-df-convert {\n",
              "      background-color: #3B4455;\n",
              "      fill: #D2E3FC;\n",
              "    }\n",
              "\n",
              "    [theme=dark] .colab-df-convert:hover {\n",
              "      background-color: #434B5C;\n",
              "      box-shadow: 0px 1px 3px 1px rgba(0, 0, 0, 0.15);\n",
              "      filter: drop-shadow(0px 1px 2px rgba(0, 0, 0, 0.3));\n",
              "      fill: #FFFFFF;\n",
              "    }\n",
              "  </style>\n",
              "\n",
              "      <script>\n",
              "        const buttonEl =\n",
              "          document.querySelector('#df-19e898e6-75f8-4a9c-b598-11399ae551e6 button.colab-df-convert');\n",
              "        buttonEl.style.display =\n",
              "          google.colab.kernel.accessAllowed ? 'block' : 'none';\n",
              "\n",
              "        async function convertToInteractive(key) {\n",
              "          const element = document.querySelector('#df-19e898e6-75f8-4a9c-b598-11399ae551e6');\n",
              "          const dataTable =\n",
              "            await google.colab.kernel.invokeFunction('convertToInteractive',\n",
              "                                                     [key], {});\n",
              "          if (!dataTable) return;\n",
              "\n",
              "          const docLinkHtml = 'Like what you see? Visit the ' +\n",
              "            '<a target=\"_blank\" href=https://colab.research.google.com/notebooks/data_table.ipynb>data table notebook</a>'\n",
              "            + ' to learn more about interactive tables.';\n",
              "          element.innerHTML = '';\n",
              "          dataTable['output_type'] = 'display_data';\n",
              "          await google.colab.output.renderOutput(dataTable, element);\n",
              "          const docLink = document.createElement('div');\n",
              "          docLink.innerHTML = docLinkHtml;\n",
              "          element.appendChild(docLink);\n",
              "        }\n",
              "      </script>\n",
              "    </div>\n",
              "  </div>\n",
              "  "
            ]
          },
          "metadata": {},
          "execution_count": 432
        }
      ]
    },
    {
      "cell_type": "code",
      "source": [
        "# load consumer transaction dataset\n",
        "ct = pd.read_csv('/content/drive/MyDrive/Colab Notebooks/cust_transaction.csv') \n",
        "#View\n",
        "ct.head()"
      ],
      "metadata": {
        "colab": {
          "base_uri": "https://localhost:8080/"
        },
        "id": "HLfBgAhyg8_0",
        "outputId": "34211c81-67d3-4aa9-a86d-05528177d885"
      },
      "execution_count": null,
      "outputs": [
        {
          "output_type": "execute_result",
          "data": {
            "text/plain": [
              "   Unnamed: 0           customerEmail transactionId orderId paymentMethodId  \\\n",
              "0           0  josephhoward@yahoo.com      a9lcj51r  vjbdvd       wt07xm68b   \n",
              "1           1  josephhoward@yahoo.com      y4wcv03i  yp6x27       wt07xm68b   \n",
              "2           2  evansjeffery@yahoo.com      5mi94sfw  nlghpa       41ug157xz   \n",
              "3           3  evansjeffery@yahoo.com      br8ba1nu  uw0eeb       41ug157xz   \n",
              "4           4  evansjeffery@yahoo.com      a33145ss  bn44oh       y3xp697jx   \n",
              "\n",
              "   paymentMethodRegistrationFailure paymentMethodType paymentMethodProvider  \\\n",
              "0                                 1              card          JCB 16 digit   \n",
              "1                                 1              card          JCB 16 digit   \n",
              "2                                 0           bitcoin      American Express   \n",
              "3                                 0           bitcoin      American Express   \n",
              "4                                 1           bitcoin         VISA 16 digit   \n",
              "\n",
              "   transactionAmount  transactionFailed orderState  \n",
              "0                 18                  0    pending  \n",
              "1                 26                  0  fulfilled  \n",
              "2                 45                  0  fulfilled  \n",
              "3                 23                  0  fulfilled  \n",
              "4                 43                  1  fulfilled  "
            ],
            "text/html": [
              "\n",
              "  <div id=\"df-e368e522-2ff5-4f94-9ea8-e3bfb2909d63\">\n",
              "    <div class=\"colab-df-container\">\n",
              "      <div>\n",
              "<style scoped>\n",
              "    .dataframe tbody tr th:only-of-type {\n",
              "        vertical-align: middle;\n",
              "    }\n",
              "\n",
              "    .dataframe tbody tr th {\n",
              "        vertical-align: top;\n",
              "    }\n",
              "\n",
              "    .dataframe thead th {\n",
              "        text-align: right;\n",
              "    }\n",
              "</style>\n",
              "<table border=\"1\" class=\"dataframe\">\n",
              "  <thead>\n",
              "    <tr style=\"text-align: right;\">\n",
              "      <th></th>\n",
              "      <th>Unnamed: 0</th>\n",
              "      <th>customerEmail</th>\n",
              "      <th>transactionId</th>\n",
              "      <th>orderId</th>\n",
              "      <th>paymentMethodId</th>\n",
              "      <th>paymentMethodRegistrationFailure</th>\n",
              "      <th>paymentMethodType</th>\n",
              "      <th>paymentMethodProvider</th>\n",
              "      <th>transactionAmount</th>\n",
              "      <th>transactionFailed</th>\n",
              "      <th>orderState</th>\n",
              "    </tr>\n",
              "  </thead>\n",
              "  <tbody>\n",
              "    <tr>\n",
              "      <th>0</th>\n",
              "      <td>0</td>\n",
              "      <td>josephhoward@yahoo.com</td>\n",
              "      <td>a9lcj51r</td>\n",
              "      <td>vjbdvd</td>\n",
              "      <td>wt07xm68b</td>\n",
              "      <td>1</td>\n",
              "      <td>card</td>\n",
              "      <td>JCB 16 digit</td>\n",
              "      <td>18</td>\n",
              "      <td>0</td>\n",
              "      <td>pending</td>\n",
              "    </tr>\n",
              "    <tr>\n",
              "      <th>1</th>\n",
              "      <td>1</td>\n",
              "      <td>josephhoward@yahoo.com</td>\n",
              "      <td>y4wcv03i</td>\n",
              "      <td>yp6x27</td>\n",
              "      <td>wt07xm68b</td>\n",
              "      <td>1</td>\n",
              "      <td>card</td>\n",
              "      <td>JCB 16 digit</td>\n",
              "      <td>26</td>\n",
              "      <td>0</td>\n",
              "      <td>fulfilled</td>\n",
              "    </tr>\n",
              "    <tr>\n",
              "      <th>2</th>\n",
              "      <td>2</td>\n",
              "      <td>evansjeffery@yahoo.com</td>\n",
              "      <td>5mi94sfw</td>\n",
              "      <td>nlghpa</td>\n",
              "      <td>41ug157xz</td>\n",
              "      <td>0</td>\n",
              "      <td>bitcoin</td>\n",
              "      <td>American Express</td>\n",
              "      <td>45</td>\n",
              "      <td>0</td>\n",
              "      <td>fulfilled</td>\n",
              "    </tr>\n",
              "    <tr>\n",
              "      <th>3</th>\n",
              "      <td>3</td>\n",
              "      <td>evansjeffery@yahoo.com</td>\n",
              "      <td>br8ba1nu</td>\n",
              "      <td>uw0eeb</td>\n",
              "      <td>41ug157xz</td>\n",
              "      <td>0</td>\n",
              "      <td>bitcoin</td>\n",
              "      <td>American Express</td>\n",
              "      <td>23</td>\n",
              "      <td>0</td>\n",
              "      <td>fulfilled</td>\n",
              "    </tr>\n",
              "    <tr>\n",
              "      <th>4</th>\n",
              "      <td>4</td>\n",
              "      <td>evansjeffery@yahoo.com</td>\n",
              "      <td>a33145ss</td>\n",
              "      <td>bn44oh</td>\n",
              "      <td>y3xp697jx</td>\n",
              "      <td>1</td>\n",
              "      <td>bitcoin</td>\n",
              "      <td>VISA 16 digit</td>\n",
              "      <td>43</td>\n",
              "      <td>1</td>\n",
              "      <td>fulfilled</td>\n",
              "    </tr>\n",
              "  </tbody>\n",
              "</table>\n",
              "</div>\n",
              "      <button class=\"colab-df-convert\" onclick=\"convertToInteractive('df-e368e522-2ff5-4f94-9ea8-e3bfb2909d63')\"\n",
              "              title=\"Convert this dataframe to an interactive table.\"\n",
              "              style=\"display:none;\">\n",
              "        \n",
              "  <svg xmlns=\"http://www.w3.org/2000/svg\" height=\"24px\"viewBox=\"0 0 24 24\"\n",
              "       width=\"24px\">\n",
              "    <path d=\"M0 0h24v24H0V0z\" fill=\"none\"/>\n",
              "    <path d=\"M18.56 5.44l.94 2.06.94-2.06 2.06-.94-2.06-.94-.94-2.06-.94 2.06-2.06.94zm-11 1L8.5 8.5l.94-2.06 2.06-.94-2.06-.94L8.5 2.5l-.94 2.06-2.06.94zm10 10l.94 2.06.94-2.06 2.06-.94-2.06-.94-.94-2.06-.94 2.06-2.06.94z\"/><path d=\"M17.41 7.96l-1.37-1.37c-.4-.4-.92-.59-1.43-.59-.52 0-1.04.2-1.43.59L10.3 9.45l-7.72 7.72c-.78.78-.78 2.05 0 2.83L4 21.41c.39.39.9.59 1.41.59.51 0 1.02-.2 1.41-.59l7.78-7.78 2.81-2.81c.8-.78.8-2.07 0-2.86zM5.41 20L4 18.59l7.72-7.72 1.47 1.35L5.41 20z\"/>\n",
              "  </svg>\n",
              "      </button>\n",
              "      \n",
              "  <style>\n",
              "    .colab-df-container {\n",
              "      display:flex;\n",
              "      flex-wrap:wrap;\n",
              "      gap: 12px;\n",
              "    }\n",
              "\n",
              "    .colab-df-convert {\n",
              "      background-color: #E8F0FE;\n",
              "      border: none;\n",
              "      border-radius: 50%;\n",
              "      cursor: pointer;\n",
              "      display: none;\n",
              "      fill: #1967D2;\n",
              "      height: 32px;\n",
              "      padding: 0 0 0 0;\n",
              "      width: 32px;\n",
              "    }\n",
              "\n",
              "    .colab-df-convert:hover {\n",
              "      background-color: #E2EBFA;\n",
              "      box-shadow: 0px 1px 2px rgba(60, 64, 67, 0.3), 0px 1px 3px 1px rgba(60, 64, 67, 0.15);\n",
              "      fill: #174EA6;\n",
              "    }\n",
              "\n",
              "    [theme=dark] .colab-df-convert {\n",
              "      background-color: #3B4455;\n",
              "      fill: #D2E3FC;\n",
              "    }\n",
              "\n",
              "    [theme=dark] .colab-df-convert:hover {\n",
              "      background-color: #434B5C;\n",
              "      box-shadow: 0px 1px 3px 1px rgba(0, 0, 0, 0.15);\n",
              "      filter: drop-shadow(0px 1px 2px rgba(0, 0, 0, 0.3));\n",
              "      fill: #FFFFFF;\n",
              "    }\n",
              "  </style>\n",
              "\n",
              "      <script>\n",
              "        const buttonEl =\n",
              "          document.querySelector('#df-e368e522-2ff5-4f94-9ea8-e3bfb2909d63 button.colab-df-convert');\n",
              "        buttonEl.style.display =\n",
              "          google.colab.kernel.accessAllowed ? 'block' : 'none';\n",
              "\n",
              "        async function convertToInteractive(key) {\n",
              "          const element = document.querySelector('#df-e368e522-2ff5-4f94-9ea8-e3bfb2909d63');\n",
              "          const dataTable =\n",
              "            await google.colab.kernel.invokeFunction('convertToInteractive',\n",
              "                                                     [key], {});\n",
              "          if (!dataTable) return;\n",
              "\n",
              "          const docLinkHtml = 'Like what you see? Visit the ' +\n",
              "            '<a target=\"_blank\" href=https://colab.research.google.com/notebooks/data_table.ipynb>data table notebook</a>'\n",
              "            + ' to learn more about interactive tables.';\n",
              "          element.innerHTML = '';\n",
              "          dataTable['output_type'] = 'display_data';\n",
              "          await google.colab.output.renderOutput(dataTable, element);\n",
              "          const docLink = document.createElement('div');\n",
              "          docLink.innerHTML = docLinkHtml;\n",
              "          element.appendChild(docLink);\n",
              "        }\n",
              "      </script>\n",
              "    </div>\n",
              "  </div>\n",
              "  "
            ]
          },
          "metadata": {},
          "execution_count": 433
        }
      ]
    },
    {
      "cell_type": "code",
      "source": [
        "ct.info"
      ],
      "metadata": {
        "colab": {
          "base_uri": "https://localhost:8080/"
        },
        "id": "Jx3ccgTyh6R6",
        "outputId": "6299883b-bd99-4952-ca93-d003a501e82d"
      },
      "execution_count": null,
      "outputs": [
        {
          "output_type": "execute_result",
          "data": {
            "text/plain": [
              "<bound method DataFrame.info of      Unnamed: 0            customerEmail transactionId orderId  \\\n",
              "0             0   josephhoward@yahoo.com      a9lcj51r  vjbdvd   \n",
              "1             1   josephhoward@yahoo.com      y4wcv03i  yp6x27   \n",
              "2             2   evansjeffery@yahoo.com      5mi94sfw  nlghpa   \n",
              "3             3   evansjeffery@yahoo.com      br8ba1nu  uw0eeb   \n",
              "4             4   evansjeffery@yahoo.com      a33145ss  bn44oh   \n",
              "..          ...                      ...           ...     ...   \n",
              "618         618  dawn05@tucker-brown.com      7yilsi1o  1bubxa   \n",
              "619         619  dawn05@tucker-brown.com      c82k5bcv  1bubxa   \n",
              "620         620  dawn05@tucker-brown.com      wmh52bns  1bubxa   \n",
              "621         621  dawn05@tucker-brown.com      xdw33hfp  p0gdbf   \n",
              "622         622  dawn05@tucker-brown.com      wgmajf82  5lmvrj   \n",
              "\n",
              "    paymentMethodId  paymentMethodRegistrationFailure paymentMethodType  \\\n",
              "0         wt07xm68b                                 1              card   \n",
              "1         wt07xm68b                                 1              card   \n",
              "2         41ug157xz                                 0           bitcoin   \n",
              "3         41ug157xz                                 0           bitcoin   \n",
              "4         y3xp697jx                                 1           bitcoin   \n",
              "..              ...                               ...               ...   \n",
              "618       7yen1m1q8                                 0              card   \n",
              "619       7yen1m1q8                                 0              card   \n",
              "620       3zmkegkb8                                 0            paypal   \n",
              "621       3zmkegkb8                                 0            paypal   \n",
              "622       f0xnu5om9                                 0              card   \n",
              "\n",
              "    paymentMethodProvider  transactionAmount  transactionFailed orderState  \n",
              "0            JCB 16 digit                 18                  0    pending  \n",
              "1            JCB 16 digit                 26                  0  fulfilled  \n",
              "2        American Express                 45                  0  fulfilled  \n",
              "3        American Express                 23                  0  fulfilled  \n",
              "4           VISA 16 digit                 43                  1  fulfilled  \n",
              "..                    ...                ...                ...        ...  \n",
              "618         VISA 13 digit                 25                  1  fulfilled  \n",
              "619         VISA 13 digit                 25                  0  fulfilled  \n",
              "620          JCB 15 digit                 25                  1  fulfilled  \n",
              "621          JCB 15 digit                 19                  0  fulfilled  \n",
              "622          JCB 16 digit                 27                  0  fulfilled  \n",
              "\n",
              "[623 rows x 11 columns]>"
            ]
          },
          "metadata": {},
          "execution_count": 434
        }
      ]
    },
    {
      "cell_type": "code",
      "source": [
        "ct.describe()"
      ],
      "metadata": {
        "colab": {
          "base_uri": "https://localhost:8080/"
        },
        "id": "L_bois6ah9yq",
        "outputId": "7a2f0114-21c0-4f7e-fd0b-3f4305a346fd"
      },
      "execution_count": null,
      "outputs": [
        {
          "output_type": "execute_result",
          "data": {
            "text/plain": [
              "       Unnamed: 0  paymentMethodRegistrationFailure  transactionAmount  \\\n",
              "count  623.000000                        623.000000         623.000000   \n",
              "mean   311.000000                          0.131621          34.598716   \n",
              "std    179.988889                          0.338350          20.360247   \n",
              "min      0.000000                          0.000000          10.000000   \n",
              "25%    155.500000                          0.000000          21.000000   \n",
              "50%    311.000000                          0.000000          34.000000   \n",
              "75%    466.500000                          0.000000          45.000000   \n",
              "max    622.000000                          1.000000         353.000000   \n",
              "\n",
              "       transactionFailed  \n",
              "count         623.000000  \n",
              "mean            0.269663  \n",
              "std             0.444141  \n",
              "min             0.000000  \n",
              "25%             0.000000  \n",
              "50%             0.000000  \n",
              "75%             1.000000  \n",
              "max             1.000000  "
            ],
            "text/html": [
              "\n",
              "  <div id=\"df-e4025868-f556-40da-a77a-bad0e4b947f1\">\n",
              "    <div class=\"colab-df-container\">\n",
              "      <div>\n",
              "<style scoped>\n",
              "    .dataframe tbody tr th:only-of-type {\n",
              "        vertical-align: middle;\n",
              "    }\n",
              "\n",
              "    .dataframe tbody tr th {\n",
              "        vertical-align: top;\n",
              "    }\n",
              "\n",
              "    .dataframe thead th {\n",
              "        text-align: right;\n",
              "    }\n",
              "</style>\n",
              "<table border=\"1\" class=\"dataframe\">\n",
              "  <thead>\n",
              "    <tr style=\"text-align: right;\">\n",
              "      <th></th>\n",
              "      <th>Unnamed: 0</th>\n",
              "      <th>paymentMethodRegistrationFailure</th>\n",
              "      <th>transactionAmount</th>\n",
              "      <th>transactionFailed</th>\n",
              "    </tr>\n",
              "  </thead>\n",
              "  <tbody>\n",
              "    <tr>\n",
              "      <th>count</th>\n",
              "      <td>623.000000</td>\n",
              "      <td>623.000000</td>\n",
              "      <td>623.000000</td>\n",
              "      <td>623.000000</td>\n",
              "    </tr>\n",
              "    <tr>\n",
              "      <th>mean</th>\n",
              "      <td>311.000000</td>\n",
              "      <td>0.131621</td>\n",
              "      <td>34.598716</td>\n",
              "      <td>0.269663</td>\n",
              "    </tr>\n",
              "    <tr>\n",
              "      <th>std</th>\n",
              "      <td>179.988889</td>\n",
              "      <td>0.338350</td>\n",
              "      <td>20.360247</td>\n",
              "      <td>0.444141</td>\n",
              "    </tr>\n",
              "    <tr>\n",
              "      <th>min</th>\n",
              "      <td>0.000000</td>\n",
              "      <td>0.000000</td>\n",
              "      <td>10.000000</td>\n",
              "      <td>0.000000</td>\n",
              "    </tr>\n",
              "    <tr>\n",
              "      <th>25%</th>\n",
              "      <td>155.500000</td>\n",
              "      <td>0.000000</td>\n",
              "      <td>21.000000</td>\n",
              "      <td>0.000000</td>\n",
              "    </tr>\n",
              "    <tr>\n",
              "      <th>50%</th>\n",
              "      <td>311.000000</td>\n",
              "      <td>0.000000</td>\n",
              "      <td>34.000000</td>\n",
              "      <td>0.000000</td>\n",
              "    </tr>\n",
              "    <tr>\n",
              "      <th>75%</th>\n",
              "      <td>466.500000</td>\n",
              "      <td>0.000000</td>\n",
              "      <td>45.000000</td>\n",
              "      <td>1.000000</td>\n",
              "    </tr>\n",
              "    <tr>\n",
              "      <th>max</th>\n",
              "      <td>622.000000</td>\n",
              "      <td>1.000000</td>\n",
              "      <td>353.000000</td>\n",
              "      <td>1.000000</td>\n",
              "    </tr>\n",
              "  </tbody>\n",
              "</table>\n",
              "</div>\n",
              "      <button class=\"colab-df-convert\" onclick=\"convertToInteractive('df-e4025868-f556-40da-a77a-bad0e4b947f1')\"\n",
              "              title=\"Convert this dataframe to an interactive table.\"\n",
              "              style=\"display:none;\">\n",
              "        \n",
              "  <svg xmlns=\"http://www.w3.org/2000/svg\" height=\"24px\"viewBox=\"0 0 24 24\"\n",
              "       width=\"24px\">\n",
              "    <path d=\"M0 0h24v24H0V0z\" fill=\"none\"/>\n",
              "    <path d=\"M18.56 5.44l.94 2.06.94-2.06 2.06-.94-2.06-.94-.94-2.06-.94 2.06-2.06.94zm-11 1L8.5 8.5l.94-2.06 2.06-.94-2.06-.94L8.5 2.5l-.94 2.06-2.06.94zm10 10l.94 2.06.94-2.06 2.06-.94-2.06-.94-.94-2.06-.94 2.06-2.06.94z\"/><path d=\"M17.41 7.96l-1.37-1.37c-.4-.4-.92-.59-1.43-.59-.52 0-1.04.2-1.43.59L10.3 9.45l-7.72 7.72c-.78.78-.78 2.05 0 2.83L4 21.41c.39.39.9.59 1.41.59.51 0 1.02-.2 1.41-.59l7.78-7.78 2.81-2.81c.8-.78.8-2.07 0-2.86zM5.41 20L4 18.59l7.72-7.72 1.47 1.35L5.41 20z\"/>\n",
              "  </svg>\n",
              "      </button>\n",
              "      \n",
              "  <style>\n",
              "    .colab-df-container {\n",
              "      display:flex;\n",
              "      flex-wrap:wrap;\n",
              "      gap: 12px;\n",
              "    }\n",
              "\n",
              "    .colab-df-convert {\n",
              "      background-color: #E8F0FE;\n",
              "      border: none;\n",
              "      border-radius: 50%;\n",
              "      cursor: pointer;\n",
              "      display: none;\n",
              "      fill: #1967D2;\n",
              "      height: 32px;\n",
              "      padding: 0 0 0 0;\n",
              "      width: 32px;\n",
              "    }\n",
              "\n",
              "    .colab-df-convert:hover {\n",
              "      background-color: #E2EBFA;\n",
              "      box-shadow: 0px 1px 2px rgba(60, 64, 67, 0.3), 0px 1px 3px 1px rgba(60, 64, 67, 0.15);\n",
              "      fill: #174EA6;\n",
              "    }\n",
              "\n",
              "    [theme=dark] .colab-df-convert {\n",
              "      background-color: #3B4455;\n",
              "      fill: #D2E3FC;\n",
              "    }\n",
              "\n",
              "    [theme=dark] .colab-df-convert:hover {\n",
              "      background-color: #434B5C;\n",
              "      box-shadow: 0px 1px 3px 1px rgba(0, 0, 0, 0.15);\n",
              "      filter: drop-shadow(0px 1px 2px rgba(0, 0, 0, 0.3));\n",
              "      fill: #FFFFFF;\n",
              "    }\n",
              "  </style>\n",
              "\n",
              "      <script>\n",
              "        const buttonEl =\n",
              "          document.querySelector('#df-e4025868-f556-40da-a77a-bad0e4b947f1 button.colab-df-convert');\n",
              "        buttonEl.style.display =\n",
              "          google.colab.kernel.accessAllowed ? 'block' : 'none';\n",
              "\n",
              "        async function convertToInteractive(key) {\n",
              "          const element = document.querySelector('#df-e4025868-f556-40da-a77a-bad0e4b947f1');\n",
              "          const dataTable =\n",
              "            await google.colab.kernel.invokeFunction('convertToInteractive',\n",
              "                                                     [key], {});\n",
              "          if (!dataTable) return;\n",
              "\n",
              "          const docLinkHtml = 'Like what you see? Visit the ' +\n",
              "            '<a target=\"_blank\" href=https://colab.research.google.com/notebooks/data_table.ipynb>data table notebook</a>'\n",
              "            + ' to learn more about interactive tables.';\n",
              "          element.innerHTML = '';\n",
              "          dataTable['output_type'] = 'display_data';\n",
              "          await google.colab.output.renderOutput(dataTable, element);\n",
              "          const docLink = document.createElement('div');\n",
              "          docLink.innerHTML = docLinkHtml;\n",
              "          element.appendChild(docLink);\n",
              "        }\n",
              "      </script>\n",
              "    </div>\n",
              "  </div>\n",
              "  "
            ]
          },
          "metadata": {},
          "execution_count": 435
        }
      ]
    },
    {
      "cell_type": "code",
      "source": [
        "#view duplicates\n",
        "ct.duplicated().any()"
      ],
      "metadata": {
        "colab": {
          "base_uri": "https://localhost:8080/"
        },
        "id": "DPn8mC3cMSRN",
        "outputId": "c8bfc9a1-50bd-45f5-a0c9-5fd849a850bf"
      },
      "execution_count": null,
      "outputs": [
        {
          "output_type": "execute_result",
          "data": {
            "text/plain": [
              "False"
            ]
          },
          "metadata": {},
          "execution_count": 436
        }
      ]
    },
    {
      "cell_type": "code",
      "source": [
        "c.duplicated().any()"
      ],
      "metadata": {
        "colab": {
          "base_uri": "https://localhost:8080/"
        },
        "id": "1_ad4l5PMacD",
        "outputId": "67906cfa-cfdb-4dad-d5e4-b3f10dbb6b47"
      },
      "execution_count": null,
      "outputs": [
        {
          "output_type": "execute_result",
          "data": {
            "text/plain": [
              "False"
            ]
          },
          "metadata": {},
          "execution_count": 437
        }
      ]
    },
    {
      "cell_type": "code",
      "source": [
        "#missing values\n",
        "ct.isna().any()"
      ],
      "metadata": {
        "colab": {
          "base_uri": "https://localhost:8080/"
        },
        "id": "ANJAvy4_MerJ",
        "outputId": "43e73266-f914-4f6c-b921-ae0ec752fc63"
      },
      "execution_count": null,
      "outputs": [
        {
          "output_type": "execute_result",
          "data": {
            "text/plain": [
              "Unnamed: 0                          False\n",
              "customerEmail                       False\n",
              "transactionId                       False\n",
              "orderId                             False\n",
              "paymentMethodId                     False\n",
              "paymentMethodRegistrationFailure    False\n",
              "paymentMethodType                   False\n",
              "paymentMethodProvider               False\n",
              "transactionAmount                   False\n",
              "transactionFailed                   False\n",
              "orderState                          False\n",
              "dtype: bool"
            ]
          },
          "metadata": {},
          "execution_count": 438
        }
      ]
    },
    {
      "cell_type": "code",
      "source": [
        "c.isna().any()"
      ],
      "metadata": {
        "colab": {
          "base_uri": "https://localhost:8080/"
        },
        "id": "lpmPrKoNMlTz",
        "outputId": "5a0eeb03-d501-4175-c8be-ed333a04b723"
      },
      "execution_count": null,
      "outputs": [
        {
          "output_type": "execute_result",
          "data": {
            "text/plain": [
              "Unnamed: 0                False\n",
              "customerEmail             False\n",
              "customerPhone             False\n",
              "customerDevice            False\n",
              "customerIPAddress         False\n",
              "customerBillingAddress    False\n",
              "No_Transactions           False\n",
              "No_Orders                 False\n",
              "No_Payments               False\n",
              "Fraud                     False\n",
              "dtype: bool"
            ]
          },
          "metadata": {},
          "execution_count": 439
        }
      ]
    },
    {
      "cell_type": "code",
      "source": [
        "#distribtuion\n",
        "plotPerColumnDistribution(c,10,5)"
      ],
      "metadata": {
        "colab": {
          "base_uri": "https://localhost:8080/"
        },
        "id": "SIrKek1oWBJ0",
        "outputId": "d8e11f52-89e0-4bb7-9934-9a2c2ffcb7a1"
      },
      "execution_count": null,
      "outputs": [
        {
          "output_type": "display_data",
          "data": {
            "text/plain": [
              "<Figure size 2400x1024 with 4 Axes>"
            ],
            "image/png": "[encoded data removed]"
          },
          "metadata": {}
        }
      ]
    },
    {
      "cell_type": "code",
      "source": [
        "plotPerColumnDistribution(ct, 10, 5)"
      ],
      "metadata": {
        "colab": {
          "base_uri": "https://localhost:8080/"
        },
        "id": "QpjpWpItW3MH",
        "outputId": "99d080fb-734b-4c64-b8cf-3db31ff2b8d0"
      },
      "execution_count": null,
      "outputs": [
        {
          "output_type": "display_data",
          "data": {
            "text/plain": [
              "<Figure size 2400x1152 with 5 Axes>"
            ],
            "image/png": "[encoded data removed]"
          },
          "metadata": {}
        }
      ]
    },
    {
      "cell_type": "code",
      "source": [
        "#transaction above 100 USD\n",
        "ct[ct['transactionAmount'] > 100]"
      ],
      "metadata": {
        "colab": {
          "base_uri": "https://localhost:8080/"
        },
        "id": "1vetdv3YPodL",
        "outputId": "0b5bc583-1f42-420e-9ba8-c53f89ac2304"
      },
      "execution_count": null,
      "outputs": [
        {
          "output_type": "execute_result",
          "data": {
            "text/plain": [
              "     Unnamed: 0      customerEmail transactionId orderId paymentMethodId  \\\n",
              "189         189  uguzman@yahoo.com      ftiso5mr  32rax6       73a2hlmnm   \n",
              "\n",
              "     paymentMethodRegistrationFailure paymentMethodType paymentMethodProvider  \\\n",
              "189                                 0              card         VISA 16 digit   \n",
              "\n",
              "     transactionAmount  transactionFailed orderState  \n",
              "189                353                  1  fulfilled  "
            ],
            "text/html": [
              "\n",
              "  <div id=\"df-8e56ef15-70e2-46d4-baa2-c7b9d5a0b9c4\">\n",
              "    <div class=\"colab-df-container\">\n",
              "      <div>\n",
              "<style scoped>\n",
              "    .dataframe tbody tr th:only-of-type {\n",
              "        vertical-align: middle;\n",
              "    }\n",
              "\n",
              "    .dataframe tbody tr th {\n",
              "        vertical-align: top;\n",
              "    }\n",
              "\n",
              "    .dataframe thead th {\n",
              "        text-align: right;\n",
              "    }\n",
              "</style>\n",
              "<table border=\"1\" class=\"dataframe\">\n",
              "  <thead>\n",
              "    <tr style=\"text-align: right;\">\n",
              "      <th></th>\n",
              "      <th>Unnamed: 0</th>\n",
              "      <th>customerEmail</th>\n",
              "      <th>transactionId</th>\n",
              "      <th>orderId</th>\n",
              "      <th>paymentMethodId</th>\n",
              "      <th>paymentMethodRegistrationFailure</th>\n",
              "      <th>paymentMethodType</th>\n",
              "      <th>paymentMethodProvider</th>\n",
              "      <th>transactionAmount</th>\n",
              "      <th>transactionFailed</th>\n",
              "      <th>orderState</th>\n",
              "    </tr>\n",
              "  </thead>\n",
              "  <tbody>\n",
              "    <tr>\n",
              "      <th>189</th>\n",
              "      <td>189</td>\n",
              "      <td>uguzman@yahoo.com</td>\n",
              "      <td>ftiso5mr</td>\n",
              "      <td>32rax6</td>\n",
              "      <td>73a2hlmnm</td>\n",
              "      <td>0</td>\n",
              "      <td>card</td>\n",
              "      <td>VISA 16 digit</td>\n",
              "      <td>353</td>\n",
              "      <td>1</td>\n",
              "      <td>fulfilled</td>\n",
              "    </tr>\n",
              "  </tbody>\n",
              "</table>\n",
              "</div>\n",
              "      <button class=\"colab-df-convert\" onclick=\"convertToInteractive('df-8e56ef15-70e2-46d4-baa2-c7b9d5a0b9c4')\"\n",
              "              title=\"Convert this dataframe to an interactive table.\"\n",
              "              style=\"display:none;\">\n",
              "        \n",
              "  <svg xmlns=\"http://www.w3.org/2000/svg\" height=\"24px\"viewBox=\"0 0 24 24\"\n",
              "       width=\"24px\">\n",
              "    <path d=\"M0 0h24v24H0V0z\" fill=\"none\"/>\n",
              "    <path d=\"M18.56 5.44l.94 2.06.94-2.06 2.06-.94-2.06-.94-.94-2.06-.94 2.06-2.06.94zm-11 1L8.5 8.5l.94-2.06 2.06-.94-2.06-.94L8.5 2.5l-.94 2.06-2.06.94zm10 10l.94 2.06.94-2.06 2.06-.94-2.06-.94-.94-2.06-.94 2.06-2.06.94z\"/><path d=\"M17.41 7.96l-1.37-1.37c-.4-.4-.92-.59-1.43-.59-.52 0-1.04.2-1.43.59L10.3 9.45l-7.72 7.72c-.78.78-.78 2.05 0 2.83L4 21.41c.39.39.9.59 1.41.59.51 0 1.02-.2 1.41-.59l7.78-7.78 2.81-2.81c.8-.78.8-2.07 0-2.86zM5.41 20L4 18.59l7.72-7.72 1.47 1.35L5.41 20z\"/>\n",
              "  </svg>\n",
              "      </button>\n",
              "      \n",
              "  <style>\n",
              "    .colab-df-container {\n",
              "      display:flex;\n",
              "      flex-wrap:wrap;\n",
              "      gap: 12px;\n",
              "    }\n",
              "\n",
              "    .colab-df-convert {\n",
              "      background-color: #E8F0FE;\n",
              "      border: none;\n",
              "      border-radius: 50%;\n",
              "      cursor: pointer;\n",
              "      display: none;\n",
              "      fill: #1967D2;\n",
              "      height: 32px;\n",
              "      padding: 0 0 0 0;\n",
              "      width: 32px;\n",
              "    }\n",
              "\n",
              "    .colab-df-convert:hover {\n",
              "      background-color: #E2EBFA;\n",
              "      box-shadow: 0px 1px 2px rgba(60, 64, 67, 0.3), 0px 1px 3px 1px rgba(60, 64, 67, 0.15);\n",
              "      fill: #174EA6;\n",
              "    }\n",
              "\n",
              "    [theme=dark] .colab-df-convert {\n",
              "      background-color: #3B4455;\n",
              "      fill: #D2E3FC;\n",
              "    }\n",
              "\n",
              "    [theme=dark] .colab-df-convert:hover {\n",
              "      background-color: #434B5C;\n",
              "      box-shadow: 0px 1px 3px 1px rgba(0, 0, 0, 0.15);\n",
              "      filter: drop-shadow(0px 1px 2px rgba(0, 0, 0, 0.3));\n",
              "      fill: #FFFFFF;\n",
              "    }\n",
              "  </style>\n",
              "\n",
              "      <script>\n",
              "        const buttonEl =\n",
              "          document.querySelector('#df-8e56ef15-70e2-46d4-baa2-c7b9d5a0b9c4 button.colab-df-convert');\n",
              "        buttonEl.style.display =\n",
              "          google.colab.kernel.accessAllowed ? 'block' : 'none';\n",
              "\n",
              "        async function convertToInteractive(key) {\n",
              "          const element = document.querySelector('#df-8e56ef15-70e2-46d4-baa2-c7b9d5a0b9c4');\n",
              "          const dataTable =\n",
              "            await google.colab.kernel.invokeFunction('convertToInteractive',\n",
              "                                                     [key], {});\n",
              "          if (!dataTable) return;\n",
              "\n",
              "          const docLinkHtml = 'Like what you see? Visit the ' +\n",
              "            '<a target=\"_blank\" href=https://colab.research.google.com/notebooks/data_table.ipynb>data table notebook</a>'\n",
              "            + ' to learn more about interactive tables.';\n",
              "          element.innerHTML = '';\n",
              "          dataTable['output_type'] = 'display_data';\n",
              "          await google.colab.output.renderOutput(dataTable, element);\n",
              "          const docLink = document.createElement('div');\n",
              "          docLink.innerHTML = docLinkHtml;\n",
              "          element.appendChild(docLink);\n",
              "        }\n",
              "      </script>\n",
              "    </div>\n",
              "  </div>\n",
              "  "
            ]
          },
          "metadata": {},
          "execution_count": 442
        }
      ]
    },
    {
      "cell_type": "code",
      "source": [
        "#Comparasion fraud & non fraud transactions\n",
        "sns.countplot(x= 'Fraud',data=c)\n",
        "ax = plt.gca()\n",
        "\n",
        "# Iterate through the list of axes' patches\n",
        "for p in ax.patches:\n",
        "    height = np.nan_to_num(p.get_height(), 0)\n",
        "    ax.text(p.get_x()+0.4, p.get_y() + height, '%d' % height, \n",
        "            fontsize=15, ha='center', va='bottom')\n",
        "plt.show()"
      ],
      "metadata": {
        "colab": {
          "base_uri": "https://localhost:8080/"
        },
        "id": "gJuay4xYSGLW",
        "outputId": "e4bae7db-fdb3-418d-cbef-51c30c0c5ced"
      },
      "execution_count": null,
      "outputs": [
        {
          "output_type": "display_data",
          "data": {
            "text/plain": [
              "<Figure size 432x288 with 1 Axes>"
            ],
            "image/png": "[encoded data removed]"
          },
          "metadata": {
            "needs_background": "light"
          }
        }
      ]
    },
    {
      "cell_type": "code",
      "source": [
        "#how many emails\n",
        "c['customerEmail'].nunique()"
      ],
      "metadata": {
        "colab": {
          "base_uri": "https://localhost:8080/"
        },
        "id": "bcDEg4LjhzFL",
        "outputId": "eadf3db1-2d24-4026-f2f5-41f78d5b008e"
      },
      "execution_count": null,
      "outputs": [
        {
          "output_type": "execute_result",
          "data": {
            "text/plain": [
              "161"
            ]
          },
          "metadata": {},
          "execution_count": 444
        }
      ]
    },
    {
      "cell_type": "code",
      "source": [
        "#how many emails\n",
        "ct['customerEmail'].nunique()"
      ],
      "metadata": {
        "colab": {
          "base_uri": "https://localhost:8080/"
        },
        "id": "i9GDZMKJg9C6",
        "outputId": "eec86c38-bc57-4837-cbab-7d6bb0a3966f"
      },
      "execution_count": null,
      "outputs": [
        {
          "output_type": "execute_result",
          "data": {
            "text/plain": [
              "136"
            ]
          },
          "metadata": {},
          "execution_count": 445
        }
      ]
    },
    {
      "cell_type": "code",
      "source": [
        "#See the difference emails\n",
        "c['customerEmail'].nunique() , ct['customerEmail'].nunique()"
      ],
      "metadata": {
        "colab": {
          "base_uri": "https://localhost:8080/"
        },
        "id": "Pd4sC9u7MsKU",
        "outputId": "38459972-8e9f-4870-dd91-5ba7301d9870"
      },
      "execution_count": null,
      "outputs": [
        {
          "output_type": "execute_result",
          "data": {
            "text/plain": [
              "(161, 136)"
            ]
          },
          "metadata": {},
          "execution_count": 446
        }
      ]
    },
    {
      "cell_type": "code",
      "source": [
        "#Finding out the emails that are repeated in the dataset.\n",
        "mail_list=[]\n",
        "repeat =0\n",
        "result={}\n",
        "for i in range(0,168):\n",
        "    repeat = 0\n",
        "    for j in range(0,168):\n",
        "        if c['customerEmail'][i] == c['customerEmail'][j]:\n",
        "            repeat+=1\n",
        "    result.update({c['customerEmail'][i]:repeat})\n",
        "result    "
      ],
      "metadata": {
        "colab": {
          "base_uri": "https://localhost:8080/"
        },
        "id": "dYNlKHuhhsh_",
        "outputId": "0020fdf3-d034-4893-8c9f-77e17c28549c"
      },
      "execution_count": null,
      "outputs": [
        {
          "output_type": "execute_result",
          "data": {
            "text/plain": [
              "{'josephhoward@yahoo.com': 1,\n",
              " 'evansjeffery@yahoo.com': 1,\n",
              " 'andersonwilliam@yahoo.com': 1,\n",
              " 'rubenjuarez@yahoo.com': 1,\n",
              " 'uchen@malone.com': 1,\n",
              " 'robinsoncynthia@dunn.com': 1,\n",
              " 'samuel15@saunders-rhodes.com': 1,\n",
              " 'johnlowery@gmail.com': 8,\n",
              " 'jameslandry@rodriguez.com': 1,\n",
              " 'ubranch@rivera-parker.info': 1,\n",
              " 'bowenwilliam@yahoo.com': 1,\n",
              " 'ksummers@hotmail.com': 1,\n",
              " 'christineklein@wright-boyd.org': 1,\n",
              " 'meganwalters@chavez.com': 1,\n",
              " 'caleb94@sutton.info': 1,\n",
              " 'gonzalesjackson@gmail.com': 1,\n",
              " 'dana09@yahoo.com': 1,\n",
              " 'alec27@bell.com': 1,\n",
              " 'juliecook@hotmail.com': 1,\n",
              " 'meganberry@clark.biz': 1,\n",
              " 'psantiago@nelson.net': 1,\n",
              " 'harrisnicholas@mitchell-hancock.com': 1,\n",
              " 'davismike@hotmail.com': 1,\n",
              " 'guerramichael@hotmail.com': 1,\n",
              " 'natalie98@yahoo.com': 1,\n",
              " 'karen54@mullins.biz': 1,\n",
              " 'avaldez@gmail.com': 1,\n",
              " 'blackjoel@wright.com': 1,\n",
              " 'abigail08@yahoo.com': 1,\n",
              " 'catherine64@gmail.com': 1,\n",
              " 'romerolauren@hotmail.com': 1,\n",
              " 'qramsey@hotmail.com': 1,\n",
              " '9es7t@u6n7x': 1,\n",
              " 'ypruitt@hotmail.com': 1,\n",
              " 'zbennett@frazier.com': 1,\n",
              " 'aweaver@yahoo.com': 1,\n",
              " 'richard05@hanson-key.org': 1,\n",
              " 'paul86@hotmail.com': 1,\n",
              " 'xwang@white.com': 1,\n",
              " 'mark02@young.com': 1,\n",
              " 'smithtiffany@davis-perkins.com': 1,\n",
              " 'brandon58@conner.com': 1,\n",
              " 'knichols@gmail.com': 1,\n",
              " 'gsimpson@cox.org': 1,\n",
              " 'jamescampbell@randall-pacheco.biz': 1,\n",
              " 'johnsonjennifer@yahoo.com': 1,\n",
              " 'briana34@gmail.com': 1,\n",
              " 'jonesandrea@gray.biz': 1,\n",
              " 'kristina41@gmail.com': 1,\n",
              " 'whodges@yahoo.com': 1,\n",
              " 'nolanalec@yahoo.com': 1,\n",
              " 'spencer77@reid.com': 1,\n",
              " 'zthomas@gmail.com': 1,\n",
              " 'uguzman@yahoo.com': 1,\n",
              " 'ssmith@levine-harmon.biz': 1,\n",
              " 'feliciabrown@gmail.com': 1,\n",
              " 'dianacook@gmail.com': 1,\n",
              " 'cookbenjamin@hotmail.com': 1,\n",
              " 'joserowland@jones.com': 1,\n",
              " 'pattersonphilip@yahoo.com': 1,\n",
              " 'hj8maoy@1jcfcxs7': 1,\n",
              " 'finleybrianna@yahoo.com': 1,\n",
              " 'suzanne21@gmail.com': 1,\n",
              " 'kristaavery@lewis-baird.com': 1,\n",
              " 'dana23@lawrence.net': 1,\n",
              " 'cathy42@gibson.com': 1,\n",
              " 'michelleherrera@day.info': 1,\n",
              " 'brockmatthew@hotmail.com': 1,\n",
              " 'ijuarez@yahoo.com': 1,\n",
              " 'hughesjonathan@pena.org': 1,\n",
              " 'anthony04@gmail.com': 1,\n",
              " 'mgould@yahoo.com': 1,\n",
              " 'bakersydney@gmail.com': 1,\n",
              " 'kevinreyes@johnston.net': 1,\n",
              " 'udavis@clark.com': 1,\n",
              " 'nancymayo@brown.com': 1,\n",
              " 'warrenedward@arnold.com': 1,\n",
              " 'rbolton@hotmail.com': 1,\n",
              " 'michael57@oconnor.com': 1,\n",
              " 'jonathan99@stafford.org': 1,\n",
              " 'lleonard@turner-fleming.com': 1,\n",
              " 'whitedavid@jones-lloyd.org': 1,\n",
              " 'grace99@wright.com': 1,\n",
              " 'tayloreric@gmail.com': 1,\n",
              " 'shelby24@hotmail.com': 1,\n",
              " 'cindydelgado@gmail.com': 1,\n",
              " 'brittanydean@hotmail.com': 1,\n",
              " 'watkinscaroline@lewis-haas.com': 1,\n",
              " 'marissacollins@mckinney.com': 1,\n",
              " 'craig83@rasmussen-alvarado.com': 1,\n",
              " 'thernandez@johnson-quinn.com': 1,\n",
              " 'emilyroberts@hotmail.com': 1,\n",
              " 'ukline@spears.biz': 1,\n",
              " 'vmiller@hotmail.com': 1,\n",
              " 'david45@gmail.com': 1,\n",
              " 'fdavis@wolfe-brown.com': 1,\n",
              " 'kathleenlee@yahoo.com': 1,\n",
              " 'benjamin19@gmail.com': 1,\n",
              " 'mtrevino@gutierrez.net': 1,\n",
              " 'tmcpherson@wright.com': 1,\n",
              " 'wdelacruz@yahoo.com': 1,\n",
              " 'brooksdustin@knight.info': 1,\n",
              " 'ybrown@gmail.com': 1,\n",
              " 'vreyes@cruz.info': 1,\n",
              " '3fooiar@6eph': 1,\n",
              " 'nicolekelly@hotmail.com': 1,\n",
              " 'barronelizabeth@singh.org': 1,\n",
              " 'phillip89@gmail.com': 1,\n",
              " 'ugood@mosley.info': 1,\n",
              " 'zgraham@yahoo.com': 1,\n",
              " 'pchavez@randolph.com': 1,\n",
              " 'marywalker@gmail.com': 1,\n",
              " 'shawseth@stout-novak.com': 1,\n",
              " 'smithtonya@huffman.org': 1,\n",
              " 'hamiltonchristopher@yahoo.com': 1,\n",
              " 'amywright@wallace-johnson.com': 1,\n",
              " 'iray@rogers.com': 1,\n",
              " 'ctaylor@yahoo.com': 1,\n",
              " 'kellyfrank@atkinson.com': 1,\n",
              " 'gomezjohn@yahoo.com': 1,\n",
              " 'mullenstephanie@yahoo.com': 1,\n",
              " 'wbeltran@ramirez-shaffer.com': 1,\n",
              " 'koneal@henderson.biz': 1,\n",
              " 'xramos@hardy.net': 1,\n",
              " 'brianthomas@yahoo.com': 1,\n",
              " 'oaguirre@hotmail.com': 1,\n",
              " 'joshua00@hotmail.com': 1,\n",
              " 'veronica42@stokes.com': 1,\n",
              " 'cindydeleon@yahoo.com': 1,\n",
              " 'kyle64@stephens-ortiz.com': 1,\n",
              " 'jordanthomas@hayes-wilson.biz': 1,\n",
              " 'aliciaanthony@martin.com': 1,\n",
              " 'stephanie21@reyes-spencer.biz': 1,\n",
              " 'jenniferperry@hotmail.com': 1,\n",
              " 'bhorne@fuller-nelson.com': 1,\n",
              " 'lsanchez@hotmail.com': 1,\n",
              " 'christinemills@mcgee.com': 1,\n",
              " 'cuevasvicki@gmail.com': 1,\n",
              " 'mitchellgriffith@yahoo.com': 1,\n",
              " 'gwilcox@hotmail.com': 1,\n",
              " 'victorgarcia@gmail.com': 1,\n",
              " 'brittany60@yahoo.com': 1,\n",
              " 'fharris@hotmail.com': 1,\n",
              " 'mercedesfinley@roman.org': 1,\n",
              " 'davidwalker@hotmail.com': 1,\n",
              " 'philipnelson@dean.com': 1,\n",
              " '1yf0@jedyz63t': 1,\n",
              " 'thomasryan@conrad.net': 1,\n",
              " 'kwalsh@lopez-gomez.biz': 1,\n",
              " 'martinezlori@gmail.com': 1,\n",
              " 'stevehernandez@gmail.com': 1,\n",
              " 'daniel98@lamb.com': 1,\n",
              " 'ujackson@harris.com': 1,\n",
              " 'brittanyhicks@jones.com': 1,\n",
              " 'deborah38@yahoo.com': 1,\n",
              " 'andre74@patrick-decker.com': 1,\n",
              " 'patrickcalderon@russo.net': 1,\n",
              " 'mitchellvickie@brewer-jones.com': 1,\n",
              " 'sbrown@hughes.biz': 1,\n",
              " 'ethompson@jackson-sanders.com': 1,\n",
              " 'dawn05@tucker-brown.com': 1}"
            ]
          },
          "metadata": {},
          "execution_count": 447
        }
      ]
    },
    {
      "cell_type": "markdown",
      "source": [
        "'johnlowery@gmail.com' repeated 8 times in the dataset."
      ],
      "metadata": {
        "id": "hxKHDgKEi9gt"
      }
    },
    {
      "cell_type": "code",
      "source": [
        "c[c['customerEmail']=='johnlowery@gmail.com']"
      ],
      "metadata": {
        "colab": {
          "base_uri": "https://localhost:8080/"
        },
        "id": "3S-fjo0Ti313",
        "outputId": "69be55e4-86e3-465d-9a4a-221e50064714"
      },
      "execution_count": null,
      "outputs": [
        {
          "output_type": "execute_result",
          "data": {
            "text/plain": [
              "     Unnamed: 0         customerEmail       customerPhone  \\\n",
              "7             7  johnlowery@gmail.com        044-642-9860   \n",
              "40           40  johnlowery@gmail.com    737-377-9701x577   \n",
              "45           45  johnlowery@gmail.com    +16(4)9016414340   \n",
              "65           65  johnlowery@gmail.com         04712252182   \n",
              "79           79  johnlowery@gmail.com  1-820-539-4726x993   \n",
              "133         133  johnlowery@gmail.com      1-143-059-1833   \n",
              "155         155  johnlowery@gmail.com  076-099-0630x72770   \n",
              "165         165  johnlowery@gmail.com    635.676.0955x524   \n",
              "\n",
              "           customerDevice                        customerIPAddress  \\\n",
              "7    rjb0adai34izqvys4938                           212.144.68.190   \n",
              "40   jz66ap43id2y35ivfqa5  6c21:ac1d:2089:68fa:abb7:8c00:525f:6588   \n",
              "45   cdx178qymd6vy77nm4x3                           222.79.159.140   \n",
              "65   311kdz4c1210iixltk2j   42b3:df19:86fe:abd9:dafe:f6c1:eb76:c72   \n",
              "79   2in0fh7lep289n8dcbdz                           163.128.139.42   \n",
              "133  tyijaify2hqadwslejyr   e4c:fb48:8ee2:9819:6ae8:8d3f:3b6a:a788   \n",
              "155  6qy6oa3nqutsyyxzc54c  f259:657f:f329:2fca:c06c:8b57:d6ac:2380   \n",
              "165  969zz9zdj8z4gns4sx5p   f82c:811f:8a02:e2d6:79b:fcaa:42de:570b   \n",
              "\n",
              "                                customerBillingAddress  No_Transactions  \\\n",
              "7     484 Pamela Pass\\nLake Jessicaview, WI 12942-9074                6   \n",
              "40   08238 Kyle Squares Suite 893\\nMillermouth, IN ...                0   \n",
              "45             77711 Pamela Ridge\\nNew Kayla, IL 27182                3   \n",
              "65   11704 Andrew Villages Apt. 035\\nJamesfurt, OR ...                7   \n",
              "79             814 Wagner Union\\nAshleymouth, HI 35617                2   \n",
              "133  518 Wood Mews Apt. 970\\nDillonstad, NE 43317-3945                0   \n",
              "155  687 Rogers Bridge Suite 780\\nValdezburgh, IN 2...                6   \n",
              "165           548 Bryant Inlet\\nVeronicaside, OK 00522                4   \n",
              "\n",
              "     No_Orders  No_Payments  Fraud  \n",
              "7            5            2   True  \n",
              "40           0            1   True  \n",
              "45           2            1   True  \n",
              "65           5            1   True  \n",
              "79           2            1   True  \n",
              "133          0            0   True  \n",
              "155          5            3   True  \n",
              "165          4            2   True  "
            ],
            "text/html": [
              "\n",
              "  <div id=\"df-c8505759-4510-461f-abf6-afcde1814e18\">\n",
              "    <div class=\"colab-df-container\">\n",
              "      <div>\n",
              "<style scoped>\n",
              "    .dataframe tbody tr th:only-of-type {\n",
              "        vertical-align: middle;\n",
              "    }\n",
              "\n",
              "    .dataframe tbody tr th {\n",
              "        vertical-align: top;\n",
              "    }\n",
              "\n",
              "    .dataframe thead th {\n",
              "        text-align: right;\n",
              "    }\n",
              "</style>\n",
              "<table border=\"1\" class=\"dataframe\">\n",
              "  <thead>\n",
              "    <tr style=\"text-align: right;\">\n",
              "      <th></th>\n",
              "      <th>Unnamed: 0</th>\n",
              "      <th>customerEmail</th>\n",
              "      <th>customerPhone</th>\n",
              "      <th>customerDevice</th>\n",
              "      <th>customerIPAddress</th>\n",
              "      <th>customerBillingAddress</th>\n",
              "      <th>No_Transactions</th>\n",
              "      <th>No_Orders</th>\n",
              "      <th>No_Payments</th>\n",
              "      <th>Fraud</th>\n",
              "    </tr>\n",
              "  </thead>\n",
              "  <tbody>\n",
              "    <tr>\n",
              "      <th>7</th>\n",
              "      <td>7</td>\n",
              "      <td>johnlowery@gmail.com</td>\n",
              "      <td>044-642-9860</td>\n",
              "      <td>rjb0adai34izqvys4938</td>\n",
              "      <td>212.144.68.190</td>\n",
              "      <td>484 Pamela Pass\\nLake Jessicaview, WI 12942-9074</td>\n",
              "      <td>6</td>\n",
              "      <td>5</td>\n",
              "      <td>2</td>\n",
              "      <td>True</td>\n",
              "    </tr>\n",
              "    <tr>\n",
              "      <th>40</th>\n",
              "      <td>40</td>\n",
              "      <td>johnlowery@gmail.com</td>\n",
              "      <td>737-377-9701x577</td>\n",
              "      <td>jz66ap43id2y35ivfqa5</td>\n",
              "      <td>6c21:ac1d:2089:68fa:abb7:8c00:525f:6588</td>\n",
              "      <td>08238 Kyle Squares Suite 893\\nMillermouth, IN ...</td>\n",
              "      <td>0</td>\n",
              "      <td>0</td>\n",
              "      <td>1</td>\n",
              "      <td>True</td>\n",
              "    </tr>\n",
              "    <tr>\n",
              "      <th>45</th>\n",
              "      <td>45</td>\n",
              "      <td>johnlowery@gmail.com</td>\n",
              "      <td>+16(4)9016414340</td>\n",
              "      <td>cdx178qymd6vy77nm4x3</td>\n",
              "      <td>222.79.159.140</td>\n",
              "      <td>77711 Pamela Ridge\\nNew Kayla, IL 27182</td>\n",
              "      <td>3</td>\n",
              "      <td>2</td>\n",
              "      <td>1</td>\n",
              "      <td>True</td>\n",
              "    </tr>\n",
              "    <tr>\n",
              "      <th>65</th>\n",
              "      <td>65</td>\n",
              "      <td>johnlowery@gmail.com</td>\n",
              "      <td>04712252182</td>\n",
              "      <td>311kdz4c1210iixltk2j</td>\n",
              "      <td>42b3:df19:86fe:abd9:dafe:f6c1:eb76:c72</td>\n",
              "      <td>11704 Andrew Villages Apt. 035\\nJamesfurt, OR ...</td>\n",
              "      <td>7</td>\n",
              "      <td>5</td>\n",
              "      <td>1</td>\n",
              "      <td>True</td>\n",
              "    </tr>\n",
              "    <tr>\n",
              "      <th>79</th>\n",
              "      <td>79</td>\n",
              "      <td>johnlowery@gmail.com</td>\n",
              "      <td>1-820-539-4726x993</td>\n",
              "      <td>2in0fh7lep289n8dcbdz</td>\n",
              "      <td>163.128.139.42</td>\n",
              "      <td>814 Wagner Union\\nAshleymouth, HI 35617</td>\n",
              "      <td>2</td>\n",
              "      <td>2</td>\n",
              "      <td>1</td>\n",
              "      <td>True</td>\n",
              "    </tr>\n",
              "    <tr>\n",
              "      <th>133</th>\n",
              "      <td>133</td>\n",
              "      <td>johnlowery@gmail.com</td>\n",
              "      <td>1-143-059-1833</td>\n",
              "      <td>tyijaify2hqadwslejyr</td>\n",
              "      <td>e4c:fb48:8ee2:9819:6ae8:8d3f:3b6a:a788</td>\n",
              "      <td>518 Wood Mews Apt. 970\\nDillonstad, NE 43317-3945</td>\n",
              "      <td>0</td>\n",
              "      <td>0</td>\n",
              "      <td>0</td>\n",
              "      <td>True</td>\n",
              "    </tr>\n",
              "    <tr>\n",
              "      <th>155</th>\n",
              "      <td>155</td>\n",
              "      <td>johnlowery@gmail.com</td>\n",
              "      <td>076-099-0630x72770</td>\n",
              "      <td>6qy6oa3nqutsyyxzc54c</td>\n",
              "      <td>f259:657f:f329:2fca:c06c:8b57:d6ac:2380</td>\n",
              "      <td>687 Rogers Bridge Suite 780\\nValdezburgh, IN 2...</td>\n",
              "      <td>6</td>\n",
              "      <td>5</td>\n",
              "      <td>3</td>\n",
              "      <td>True</td>\n",
              "    </tr>\n",
              "    <tr>\n",
              "      <th>165</th>\n",
              "      <td>165</td>\n",
              "      <td>johnlowery@gmail.com</td>\n",
              "      <td>635.676.0955x524</td>\n",
              "      <td>969zz9zdj8z4gns4sx5p</td>\n",
              "      <td>f82c:811f:8a02:e2d6:79b:fcaa:42de:570b</td>\n",
              "      <td>548 Bryant Inlet\\nVeronicaside, OK 00522</td>\n",
              "      <td>4</td>\n",
              "      <td>4</td>\n",
              "      <td>2</td>\n",
              "      <td>True</td>\n",
              "    </tr>\n",
              "  </tbody>\n",
              "</table>\n",
              "</div>\n",
              "      <button class=\"colab-df-convert\" onclick=\"convertToInteractive('df-c8505759-4510-461f-abf6-afcde1814e18')\"\n",
              "              title=\"Convert this dataframe to an interactive table.\"\n",
              "              style=\"display:none;\">\n",
              "        \n",
              "  <svg xmlns=\"http://www.w3.org/2000/svg\" height=\"24px\"viewBox=\"0 0 24 24\"\n",
              "       width=\"24px\">\n",
              "    <path d=\"M0 0h24v24H0V0z\" fill=\"none\"/>\n",
              "    <path d=\"M18.56 5.44l.94 2.06.94-2.06 2.06-.94-2.06-.94-.94-2.06-.94 2.06-2.06.94zm-11 1L8.5 8.5l.94-2.06 2.06-.94-2.06-.94L8.5 2.5l-.94 2.06-2.06.94zm10 10l.94 2.06.94-2.06 2.06-.94-2.06-.94-.94-2.06-.94 2.06-2.06.94z\"/><path d=\"M17.41 7.96l-1.37-1.37c-.4-.4-.92-.59-1.43-.59-.52 0-1.04.2-1.43.59L10.3 9.45l-7.72 7.72c-.78.78-.78 2.05 0 2.83L4 21.41c.39.39.9.59 1.41.59.51 0 1.02-.2 1.41-.59l7.78-7.78 2.81-2.81c.8-.78.8-2.07 0-2.86zM5.41 20L4 18.59l7.72-7.72 1.47 1.35L5.41 20z\"/>\n",
              "  </svg>\n",
              "      </button>\n",
              "      \n",
              "  <style>\n",
              "    .colab-df-container {\n",
              "      display:flex;\n",
              "      flex-wrap:wrap;\n",
              "      gap: 12px;\n",
              "    }\n",
              "\n",
              "    .colab-df-convert {\n",
              "      background-color: #E8F0FE;\n",
              "      border: none;\n",
              "      border-radius: 50%;\n",
              "      cursor: pointer;\n",
              "      display: none;\n",
              "      fill: #1967D2;\n",
              "      height: 32px;\n",
              "      padding: 0 0 0 0;\n",
              "      width: 32px;\n",
              "    }\n",
              "\n",
              "    .colab-df-convert:hover {\n",
              "      background-color: #E2EBFA;\n",
              "      box-shadow: 0px 1px 2px rgba(60, 64, 67, 0.3), 0px 1px 3px 1px rgba(60, 64, 67, 0.15);\n",
              "      fill: #174EA6;\n",
              "    }\n",
              "\n",
              "    [theme=dark] .colab-df-convert {\n",
              "      background-color: #3B4455;\n",
              "      fill: #D2E3FC;\n",
              "    }\n",
              "\n",
              "    [theme=dark] .colab-df-convert:hover {\n",
              "      background-color: #434B5C;\n",
              "      box-shadow: 0px 1px 3px 1px rgba(0, 0, 0, 0.15);\n",
              "      filter: drop-shadow(0px 1px 2px rgba(0, 0, 0, 0.3));\n",
              "      fill: #FFFFFF;\n",
              "    }\n",
              "  </style>\n",
              "\n",
              "      <script>\n",
              "        const buttonEl =\n",
              "          document.querySelector('#df-c8505759-4510-461f-abf6-afcde1814e18 button.colab-df-convert');\n",
              "        buttonEl.style.display =\n",
              "          google.colab.kernel.accessAllowed ? 'block' : 'none';\n",
              "\n",
              "        async function convertToInteractive(key) {\n",
              "          const element = document.querySelector('#df-c8505759-4510-461f-abf6-afcde1814e18');\n",
              "          const dataTable =\n",
              "            await google.colab.kernel.invokeFunction('convertToInteractive',\n",
              "                                                     [key], {});\n",
              "          if (!dataTable) return;\n",
              "\n",
              "          const docLinkHtml = 'Like what you see? Visit the ' +\n",
              "            '<a target=\"_blank\" href=https://colab.research.google.com/notebooks/data_table.ipynb>data table notebook</a>'\n",
              "            + ' to learn more about interactive tables.';\n",
              "          element.innerHTML = '';\n",
              "          dataTable['output_type'] = 'display_data';\n",
              "          await google.colab.output.renderOutput(dataTable, element);\n",
              "          const docLink = document.createElement('div');\n",
              "          docLink.innerHTML = docLinkHtml;\n",
              "          element.appendChild(docLink);\n",
              "        }\n",
              "      </script>\n",
              "    </div>\n",
              "  </div>\n",
              "  "
            ]
          },
          "metadata": {},
          "execution_count": 448
        }
      ]
    },
    {
      "cell_type": "markdown",
      "source": [
        "All transactions from this email address are fraudulent.\n",
        "\n",
        "4 unique payment methods and most of the payments are made from card."
      ],
      "metadata": {
        "id": "Y285rrhbjPcG"
      }
    },
    {
      "cell_type": "code",
      "source": [
        "#how are customers paying\n",
        "ct['paymentMethodType'].unique()"
      ],
      "metadata": {
        "colab": {
          "base_uri": "https://localhost:8080/"
        },
        "id": "NY-3XiE5jGri",
        "outputId": "9b9c115b-2ac1-47f6-fbbe-43783cb371d3"
      },
      "execution_count": null,
      "outputs": [
        {
          "output_type": "execute_result",
          "data": {
            "text/plain": [
              "array(['card', 'bitcoin', 'apple pay', 'paypal'], dtype=object)"
            ]
          },
          "metadata": {},
          "execution_count": 449
        }
      ]
    },
    {
      "cell_type": "code",
      "source": [
        "sns.countplot(ct['paymentMethodType'],data = ct)\n",
        "ax = plt.gca()\n",
        "\n",
        "# Iterate through the list of axes' patches\n",
        "for p in ax.patches:\n",
        "    ax.text(p.get_x() + p.get_width()/2., p.get_height(), '%d' % int(p.get_height()), \n",
        "            fontsize=12, ha='center', va='bottom')\n",
        "plt.show()"
      ],
      "metadata": {
        "colab": {
          "base_uri": "https://localhost:8080/"
        },
        "id": "mqmVEHh_M84T",
        "outputId": "0f8cb481-8383-4a95-c4d1-a21a0495cbd2"
      },
      "execution_count": null,
      "outputs": [
        {
          "output_type": "stream",
          "name": "stderr",
          "text": [
            "/usr/local/lib/python3.7/dist-packages/seaborn/_decorators.py:43: FutureWarning: Pass the following variable as a keyword arg: x. From version 0.12, the only valid positional argument will be `data`, and passing other arguments without an explicit keyword will result in an error or misinterpretation.\n",
            "  FutureWarning\n"
          ]
        },
        {
          "output_type": "display_data",
          "data": {
            "text/plain": [
              "<Figure size 432x288 with 1 Axes>"
            ],
            "image/png": "[encoded data removed]"
          },
          "metadata": {
            "needs_background": "light"
          }
        }
      ]
    },
    {
      "cell_type": "code",
      "source": [
        "ct.columns"
      ],
      "metadata": {
        "colab": {
          "base_uri": "https://localhost:8080/"
        },
        "id": "USkOfwTFRVgI",
        "outputId": "fc677ba4-8ef8-49db-dd58-85ff6b4bba21"
      },
      "execution_count": null,
      "outputs": [
        {
          "output_type": "execute_result",
          "data": {
            "text/plain": [
              "Index(['Unnamed: 0', 'customerEmail', 'transactionId', 'orderId',\n",
              "       'paymentMethodId', 'paymentMethodRegistrationFailure',\n",
              "       'paymentMethodType', 'paymentMethodProvider', 'transactionAmount',\n",
              "       'transactionFailed', 'orderState'],\n",
              "      dtype='object')"
            ]
          },
          "metadata": {},
          "execution_count": 451
        }
      ]
    },
    {
      "cell_type": "code",
      "source": [
        "sns.countplot(ct['transactionAmount'],data = ct)"
      ],
      "metadata": {
        "colab": {
          "base_uri": "https://localhost:8080/"
        },
        "id": "ARvcWnrGjGux",
        "outputId": "3946b994-1f79-460b-bcb7-c7f62d7f4cbf"
      },
      "execution_count": null,
      "outputs": [
        {
          "output_type": "stream",
          "name": "stderr",
          "text": [
            "/usr/local/lib/python3.7/dist-packages/seaborn/_decorators.py:43: FutureWarning: Pass the following variable as a keyword arg: x. From version 0.12, the only valid positional argument will be `data`, and passing other arguments without an explicit keyword will result in an error or misinterpretation.\n",
            "  FutureWarning\n"
          ]
        },
        {
          "output_type": "execute_result",
          "data": {
            "text/plain": [
              "<matplotlib.axes._subplots.AxesSubplot at 0x7f9774eec990>"
            ]
          },
          "metadata": {},
          "execution_count": 452
        },
        {
          "output_type": "display_data",
          "data": {
            "text/plain": [
              "<Figure size 432x288 with 1 Axes>"
            ],
            "image/png": "[encoded data removed]"
          },
          "metadata": {
            "needs_background": "light"
          }
        }
      ]
    },
    {
      "cell_type": "code",
      "source": [
        "#status of orders\n",
        "sns.countplot(ct['orderState'])"
      ],
      "metadata": {
        "colab": {
          "base_uri": "https://localhost:8080/"
        },
        "id": "xJFEeCZEjGxT",
        "outputId": "1ed97122-2ced-41cf-a4d6-3c7a92bc9fa3"
      },
      "execution_count": null,
      "outputs": [
        {
          "output_type": "stream",
          "name": "stderr",
          "text": [
            "/usr/local/lib/python3.7/dist-packages/seaborn/_decorators.py:43: FutureWarning: Pass the following variable as a keyword arg: x. From version 0.12, the only valid positional argument will be `data`, and passing other arguments without an explicit keyword will result in an error or misinterpretation.\n",
            "  FutureWarning\n"
          ]
        },
        {
          "output_type": "execute_result",
          "data": {
            "text/plain": [
              "<matplotlib.axes._subplots.AxesSubplot at 0x7f9775266c50>"
            ]
          },
          "metadata": {},
          "execution_count": 453
        },
        {
          "output_type": "display_data",
          "data": {
            "text/plain": [
              "<Figure size 432x288 with 1 Axes>"
            ],
            "image/png": "[encoded data removed]"
          },
          "metadata": {
            "needs_background": "light"
          }
        }
      ]
    },
    {
      "cell_type": "code",
      "source": [
        "sns.countplot(x='paymentMethodType',hue='orderState',data = ct)\n",
        "ax = plt.gca()\n",
        "\n",
        "# Iterate through the list of axes' patches\n",
        "for p in ax.patches:\n",
        "    ax.text(p.get_x() + p.get_width()/2., p.get_height(), '%d' % int(p.get_height()), \n",
        "            fontsize=12, ha='center', va='bottom')\n",
        "plt.show()"
      ],
      "metadata": {
        "colab": {
          "base_uri": "https://localhost:8080/"
        },
        "id": "DrGe_0GxNPsE",
        "outputId": "42a0bb64-a9a9-48c6-8b18-f1737207b467"
      },
      "execution_count": null,
      "outputs": [
        {
          "output_type": "display_data",
          "data": {
            "text/plain": [
              "<Figure size 432x288 with 1 Axes>"
            ],
            "image/png": "[encoded data removed]"
          },
          "metadata": {
            "needs_background": "light"
          }
        }
      ]
    },
    {
      "cell_type": "code",
      "source": [
        "#payment providers\n",
        "plt.figure(figsize=(16,5))\n",
        "sns.countplot(ct['paymentMethodProvider'])\n",
        "plt.tight_layout()"
      ],
      "metadata": {
        "colab": {
          "base_uri": "https://localhost:8080/"
        },
        "id": "hpGNB2Rcj2aW",
        "outputId": "c8df4565-100a-4f87-9791-b32b3419a27a"
      },
      "execution_count": null,
      "outputs": [
        {
          "output_type": "stream",
          "name": "stderr",
          "text": [
            "/usr/local/lib/python3.7/dist-packages/seaborn/_decorators.py:43: FutureWarning: Pass the following variable as a keyword arg: x. From version 0.12, the only valid positional argument will be `data`, and passing other arguments without an explicit keyword will result in an error or misinterpretation.\n",
            "  FutureWarning\n"
          ]
        },
        {
          "output_type": "display_data",
          "data": {
            "text/plain": [
              "<Figure size 1152x360 with 1 Axes>"
            ],
            "image/png": "[encoded data removed]"
          },
          "metadata": {
            "needs_background": "light"
          }
        }
      ]
    },
    {
      "cell_type": "markdown",
      "source": [
        " 'JCB 16 digit' and 'VISA 16 digit' "
      ],
      "metadata": {
        "id": "f17sUgTTkBST"
      }
    },
    {
      "cell_type": "code",
      "source": [
        "#which payment providers the most 'failure' ???\n",
        "plt.figure(figsize=(15,5))\n",
        "sns.countplot(x='paymentMethodProvider',hue = 'paymentMethodRegistrationFailure',data=ct)\n",
        "plt.legend (['Success','Fail'])\n",
        "ax = plt.gca()\n",
        "\n",
        "# Iterate through the list of axes' patches\n",
        "for p in ax.patches:\n",
        "    height = np.nan_to_num(p.get_height(), 0)\n",
        "    ax.text(p.get_x()+0.2, p.get_y() + height, '%d' % height, \n",
        "            fontsize=12, ha='center', va='bottom')\n",
        "## tambahkan prameter angka\n",
        "plt.show()"
      ],
      "metadata": {
        "colab": {
          "base_uri": "https://localhost:8080/"
        },
        "id": "HJqgokU4Ny3p",
        "outputId": "036a1bfa-077e-498f-f5eb-0795c23cc08c"
      },
      "execution_count": null,
      "outputs": [
        {
          "output_type": "display_data",
          "data": {
            "text/plain": [
              "<Figure size 1080x360 with 1 Axes>"
            ],
            "image/png": "[encoded data removed]"
          },
          "metadata": {
            "needs_background": "light"
          }
        }
      ]
    },
    {
      "cell_type": "code",
      "source": [
        "#provider insights\n",
        "plt.figure(figsize=(15,5))\n",
        "sns.countplot(c['No_Orders'],hue = ct['paymentMethodRegistrationFailure'])\n",
        "plt.tight_layout()"
      ],
      "metadata": {
        "colab": {
          "base_uri": "https://localhost:8080/"
        },
        "id": "6W45jqoTkGkd",
        "outputId": "49ddc6a3-7bdb-4d4b-caac-505b31776bb4"
      },
      "execution_count": null,
      "outputs": [
        {
          "output_type": "stream",
          "name": "stderr",
          "text": [
            "/usr/local/lib/python3.7/dist-packages/seaborn/_decorators.py:43: FutureWarning: Pass the following variable as a keyword arg: x. From version 0.12, the only valid positional argument will be `data`, and passing other arguments without an explicit keyword will result in an error or misinterpretation.\n",
            "  FutureWarning\n"
          ]
        },
        {
          "output_type": "display_data",
          "data": {
            "text/plain": [
              "<Figure size 1080x360 with 1 Axes>"
            ],
            "image/png": "[encoded data removed]"
          },
          "metadata": {
            "needs_background": "light"
          }
        }
      ]
    },
    {
      "cell_type": "markdown",
      "source": [
        "'JCB 16 digit'and 'VISA 13 digit' had most registration failures"
      ],
      "metadata": {
        "id": "rblhNcMMkby4"
      }
    },
    {
      "cell_type": "code",
      "source": [
        "#Total number of payments per Fraud Transactions\n",
        "plt.figure(figsize=(15,5))\n",
        "sns.countplot(x = 'No_Payments',hue = 'Fraud',data=c)\n",
        "ax = plt.gca()\n",
        "\n",
        "# Iterate through the list of axes' patches\n",
        "for p in ax.patches:\n",
        "    height = np.nan_to_num(p.get_height(), 0)\n",
        "    ax.text(p.get_x()+0.2, p.get_y() + height, '%d' % height, \n",
        "            fontsize=12, ha='center', va='bottom')\n",
        "## tambahkan prameter angka\n",
        "plt.show()"
      ],
      "metadata": {
        "colab": {
          "base_uri": "https://localhost:8080/"
        },
        "id": "prnBzBi6OMtL",
        "outputId": "464b9a7e-1d27-4880-8e00-3d1264988ee7"
      },
      "execution_count": null,
      "outputs": [
        {
          "output_type": "display_data",
          "data": {
            "text/plain": [
              "<Figure size 1080x360 with 1 Axes>"
            ],
            "image/png": "[encoded data removed]"
          },
          "metadata": {
            "needs_background": "light"
          }
        }
      ]
    },
    {
      "cell_type": "code",
      "source": [
        "sns.countplot(c['No_Orders'],hue = c['Fraud'])"
      ],
      "metadata": {
        "colab": {
          "base_uri": "https://localhost:8080/"
        },
        "id": "m6NBJIgTkGhi",
        "outputId": "e93014e0-533d-4aa4-8cfd-bfcf7c21cda0"
      },
      "execution_count": null,
      "outputs": [
        {
          "output_type": "stream",
          "name": "stderr",
          "text": [
            "/usr/local/lib/python3.7/dist-packages/seaborn/_decorators.py:43: FutureWarning: Pass the following variable as a keyword arg: x. From version 0.12, the only valid positional argument will be `data`, and passing other arguments without an explicit keyword will result in an error or misinterpretation.\n",
            "  FutureWarning\n"
          ]
        },
        {
          "output_type": "execute_result",
          "data": {
            "text/plain": [
              "<matplotlib.axes._subplots.AxesSubplot at 0x7f9778d1a8d0>"
            ]
          },
          "metadata": {},
          "execution_count": 459
        },
        {
          "output_type": "display_data",
          "data": {
            "text/plain": [
              "<Figure size 432x288 with 1 Axes>"
            ],
            "image/png": "[encoded data removed]"
          },
          "metadata": {
            "needs_background": "light"
          }
        }
      ]
    },
    {
      "cell_type": "markdown",
      "source": [
        "From this we can see that if the no. of payments is greaten than 5 then the customer is definitely a fraud.\n"
      ],
      "metadata": {
        "id": "lQRMnLjakkaq"
      }
    },
    {
      "cell_type": "markdown",
      "source": [
        "# **Fraud Analysis**"
      ],
      "metadata": {
        "id": "ZDDMHEEXVYiY"
      }
    },
    {
      "cell_type": "code",
      "source": [
        "#emails that are not common in the 2 datasets\n",
        "l = []\n",
        "for i in range(0,168):\n",
        "    uncommon=0\n",
        "    for j in range(0,623):\n",
        "        if c['customerEmail'][i]==ct['customerEmail'][j]:\n",
        "            uncommon+=1\n",
        "    if uncommon==0:\n",
        "        l.append(c['customerEmail'][i])\n",
        "print(len(l))\n",
        "l"
      ],
      "metadata": {
        "colab": {
          "base_uri": "https://localhost:8080/"
        },
        "id": "kEZnuM3hkGcU",
        "outputId": "315f4358-c09f-400b-9e73-40f9f061e882"
      },
      "execution_count": null,
      "outputs": [
        {
          "output_type": "stream",
          "name": "stdout",
          "text": [
            "25\n"
          ]
        },
        {
          "output_type": "execute_result",
          "data": {
            "text/plain": [
              "['ubranch@rivera-parker.info',\n",
              " 'guerramichael@hotmail.com',\n",
              " 'zbennett@frazier.com',\n",
              " 'xwang@white.com',\n",
              " 'smithtiffany@davis-perkins.com',\n",
              " 'knichols@gmail.com',\n",
              " 'gsimpson@cox.org',\n",
              " 'johnsonjennifer@yahoo.com',\n",
              " 'whodges@yahoo.com',\n",
              " 'zthomas@gmail.com',\n",
              " 'dana23@lawrence.net',\n",
              " 'brockmatthew@hotmail.com',\n",
              " 'kevinreyes@johnston.net',\n",
              " 'michael57@oconnor.com',\n",
              " 'grace99@wright.com',\n",
              " 'ukline@spears.biz',\n",
              " '3fooiar@6eph',\n",
              " 'shawseth@stout-novak.com',\n",
              " 'kellyfrank@atkinson.com',\n",
              " 'wbeltran@ramirez-shaffer.com',\n",
              " 'xramos@hardy.net',\n",
              " 'stephanie21@reyes-spencer.biz',\n",
              " 'bhorne@fuller-nelson.com',\n",
              " 'davidwalker@hotmail.com',\n",
              " 'philipnelson@dean.com']"
            ]
          },
          "metadata": {},
          "execution_count": 460
        }
      ]
    },
    {
      "cell_type": "markdown",
      "source": [
        "25 emails that are not common in both the datasets so we do not have the transaction details of these customers.\n",
        "\n"
      ],
      "metadata": {
        "id": "uJhiFcFZlOrh"
      }
    },
    {
      "cell_type": "code",
      "source": [
        "#joint details\n",
        "joint =0\n",
        "for i in c['customerEmail']:\n",
        "    for email in ct['customerEmail']:\n",
        "        if i==email:\n",
        "            joint+=1\n",
        "            break\n",
        "joint"
      ],
      "metadata": {
        "colab": {
          "base_uri": "https://localhost:8080/"
        },
        "id": "Il2uSQfCkGZ1",
        "outputId": "f7218ea9-f3e9-4838-ef0a-3b352f0285f9"
      },
      "execution_count": null,
      "outputs": [
        {
          "output_type": "execute_result",
          "data": {
            "text/plain": [
              "143"
            ]
          },
          "metadata": {},
          "execution_count": 461
        }
      ]
    },
    {
      "cell_type": "code",
      "source": [
        "#joint dataset This dataset has common emails from both the datasets.\n",
        "final = c[c['customerEmail'].isin(ct['customerEmail'])== True]\n",
        "final.shape"
      ],
      "metadata": {
        "colab": {
          "base_uri": "https://localhost:8080/"
        },
        "id": "xjOyTEd1kGW6",
        "outputId": "08900fad-623f-48fa-b14e-0fa56444b829"
      },
      "execution_count": null,
      "outputs": [
        {
          "output_type": "execute_result",
          "data": {
            "text/plain": [
              "(143, 10)"
            ]
          },
          "metadata": {},
          "execution_count": 462
        }
      ]
    },
    {
      "cell_type": "code",
      "source": [
        "final.drop('Unnamed: 0',axis = 1, inplace = True)"
      ],
      "metadata": {
        "colab": {
          "base_uri": "https://localhost:8080/"
        },
        "id": "dUQ1kxEDkGSw",
        "outputId": "b9ee8a7c-81c0-423a-b263-a76ca1561059"
      },
      "execution_count": null,
      "outputs": [
        {
          "output_type": "stream",
          "name": "stderr",
          "text": [
            "/usr/local/lib/python3.7/dist-packages/pandas/core/frame.py:4913: SettingWithCopyWarning: \n",
            "A value is trying to be set on a copy of a slice from a DataFrame\n",
            "\n",
            "See the caveats in the documentation: https://pandas.pydata.org/pandas-docs/stable/user_guide/indexing.html#returning-a-view-versus-a-copy\n",
            "  errors=errors,\n"
          ]
        }
      ]
    },
    {
      "cell_type": "code",
      "source": [
        "final.reset_index(inplace = True)"
      ],
      "metadata": {
        "id": "UEsbNu3XjGz9"
      },
      "execution_count": null,
      "outputs": []
    },
    {
      "cell_type": "code",
      "source": [
        "#adding Total Transaction amount column.\n",
        "Total_transaction_amt = []\n",
        "for i in range(0,143):\n",
        "    s=0\n",
        "    for j in range(0,623):\n",
        "        if(final['customerEmail'][i]==ct['customerEmail'][j]):\n",
        "            s += ct['transactionAmount'][j]\n",
        "    Total_transaction_amt.append(s) "
      ],
      "metadata": {
        "id": "SAJfOXFYhsk5"
      },
      "execution_count": null,
      "outputs": []
    },
    {
      "cell_type": "code",
      "source": [
        "final['Total_transaction_amt'] = Total_transaction_amt"
      ],
      "metadata": {
        "colab": {
          "base_uri": "https://localhost:8080/"
        },
        "id": "x7hdpbw0hsoD",
        "outputId": "039bbd29-e44c-4577-f87d-8bb6d1d9c71c"
      },
      "execution_count": null,
      "outputs": [
        {
          "output_type": "stream",
          "name": "stderr",
          "text": [
            "/usr/local/lib/python3.7/dist-packages/ipykernel_launcher.py:1: SettingWithCopyWarning: \n",
            "A value is trying to be set on a copy of a slice from a DataFrame.\n",
            "Try using .loc[row_indexer,col_indexer] = value instead\n",
            "\n",
            "See the caveats in the documentation: https://pandas.pydata.org/pandas-docs/stable/user_guide/indexing.html#returning-a-view-versus-a-copy\n",
            "  \"\"\"Entry point for launching an IPython kernel.\n"
          ]
        }
      ]
    },
    {
      "cell_type": "code",
      "source": [
        "#Now adding No. of Transactions Failed Columns.\n",
        "No_transactionsFail = []\n",
        "for i in range(0,143):\n",
        "    s=0\n",
        "    for j in range(0,623):\n",
        "        if(final['customerEmail'][i]==ct['customerEmail'][j]):\n",
        "            s += ct['transactionFailed'][j]\n",
        "    No_transactionsFail.append(s)  "
      ],
      "metadata": {
        "id": "hTH_Z_RMg9Fv"
      },
      "execution_count": null,
      "outputs": []
    },
    {
      "cell_type": "code",
      "source": [
        "final['No_transactionsFail'] = No_transactionsFail"
      ],
      "metadata": {
        "colab": {
          "base_uri": "https://localhost:8080/"
        },
        "id": "1nipFUDmmCui",
        "outputId": "bd02318e-13aa-4a03-9c07-5955b75916f1"
      },
      "execution_count": null,
      "outputs": [
        {
          "output_type": "stream",
          "name": "stderr",
          "text": [
            "/usr/local/lib/python3.7/dist-packages/ipykernel_launcher.py:1: SettingWithCopyWarning: \n",
            "A value is trying to be set on a copy of a slice from a DataFrame.\n",
            "Try using .loc[row_indexer,col_indexer] = value instead\n",
            "\n",
            "See the caveats in the documentation: https://pandas.pydata.org/pandas-docs/stable/user_guide/indexing.html#returning-a-view-versus-a-copy\n",
            "  \"\"\"Entry point for launching an IPython kernel.\n"
          ]
        }
      ]
    },
    {
      "cell_type": "code",
      "source": [
        "#Now adding Payment Method Registration Failures column.\n",
        "PaymentRegFail = []\n",
        "for i in range(0,143):\n",
        "    s=0\n",
        "    for j in range(0,623):\n",
        "        if(final['customerEmail'][i]==ct['customerEmail'][j]):\n",
        "            s += ct['paymentMethodRegistrationFailure'][j]\n",
        "    PaymentRegFail.append(s)  "
      ],
      "metadata": {
        "id": "I0692sqfmCxT"
      },
      "execution_count": null,
      "outputs": []
    },
    {
      "cell_type": "code",
      "source": [
        "final['PaymentRegFail'] = PaymentRegFail"
      ],
      "metadata": {
        "colab": {
          "base_uri": "https://localhost:8080/"
        },
        "id": "s4FDGXtcE5Si",
        "outputId": "fb853c55-57e9-4515-ea6c-8f957857bbaf"
      },
      "execution_count": null,
      "outputs": [
        {
          "output_type": "stream",
          "name": "stderr",
          "text": [
            "/usr/local/lib/python3.7/dist-packages/ipykernel_launcher.py:1: SettingWithCopyWarning: \n",
            "A value is trying to be set on a copy of a slice from a DataFrame.\n",
            "Try using .loc[row_indexer,col_indexer] = value instead\n",
            "\n",
            "See the caveats in the documentation: https://pandas.pydata.org/pandas-docs/stable/user_guide/indexing.html#returning-a-view-versus-a-copy\n",
            "  \"\"\"Entry point for launching an IPython kernel.\n"
          ]
        }
      ]
    },
    {
      "cell_type": "code",
      "source": [
        "#Now adding No. of payments from Paypal, Apple Pay, Card, Bitcoin columns.\n",
        "def col_make(column_name,category):\n",
        "    array = []\n",
        "    for i in range(0,143):\n",
        "        s=0\n",
        "        for j in range(0,623):\n",
        "            if(final['customerEmail'][i]==ct['customerEmail'][j]):\n",
        "                if ct[column_name][j]==category:\n",
        "                    s+=1\n",
        "        array.append(s)\n",
        "    return array "
      ],
      "metadata": {
        "id": "6OBMKo6kE5OS"
      },
      "execution_count": null,
      "outputs": []
    },
    {
      "cell_type": "code",
      "source": [
        "PaypalPayments = col_make('paymentMethodType','paypal')\n",
        "ApplePayments = col_make('paymentMethodType','apple pay')\n",
        "BitcoinPayments = col_make('paymentMethodType','bitcoin')\n",
        "CardPayments = col_make('paymentMethodType','card')"
      ],
      "metadata": {
        "id": "5fPZwLJVmNTr"
      },
      "execution_count": null,
      "outputs": []
    },
    {
      "cell_type": "code",
      "source": [
        "final['PaypalPayments']= PaypalPayments\n",
        "final['ApplePayments']= ApplePayments\n",
        "final['CardPayments']= CardPayments\n",
        "final['BitcoinPayments']= BitcoinPayments"
      ],
      "metadata": {
        "id": "XBnEHPmCmNWg",
        "colab": {
          "base_uri": "https://localhost:8080/"
        },
        "outputId": "4958c987-8e37-4b92-9532-a48d7abf2c8f"
      },
      "execution_count": null,
      "outputs": [
        {
          "output_type": "stream",
          "name": "stderr",
          "text": [
            "/usr/local/lib/python3.7/dist-packages/ipykernel_launcher.py:1: SettingWithCopyWarning: \n",
            "A value is trying to be set on a copy of a slice from a DataFrame.\n",
            "Try using .loc[row_indexer,col_indexer] = value instead\n",
            "\n",
            "See the caveats in the documentation: https://pandas.pydata.org/pandas-docs/stable/user_guide/indexing.html#returning-a-view-versus-a-copy\n",
            "  \"\"\"Entry point for launching an IPython kernel.\n",
            "/usr/local/lib/python3.7/dist-packages/ipykernel_launcher.py:2: SettingWithCopyWarning: \n",
            "A value is trying to be set on a copy of a slice from a DataFrame.\n",
            "Try using .loc[row_indexer,col_indexer] = value instead\n",
            "\n",
            "See the caveats in the documentation: https://pandas.pydata.org/pandas-docs/stable/user_guide/indexing.html#returning-a-view-versus-a-copy\n",
            "  \n",
            "/usr/local/lib/python3.7/dist-packages/ipykernel_launcher.py:3: SettingWithCopyWarning: \n",
            "A value is trying to be set on a copy of a slice from a DataFrame.\n",
            "Try using .loc[row_indexer,col_indexer] = value instead\n",
            "\n",
            "See the caveats in the documentation: https://pandas.pydata.org/pandas-docs/stable/user_guide/indexing.html#returning-a-view-versus-a-copy\n",
            "  This is separate from the ipykernel package so we can avoid doing imports until\n",
            "/usr/local/lib/python3.7/dist-packages/ipykernel_launcher.py:4: SettingWithCopyWarning: \n",
            "A value is trying to be set on a copy of a slice from a DataFrame.\n",
            "Try using .loc[row_indexer,col_indexer] = value instead\n",
            "\n",
            "See the caveats in the documentation: https://pandas.pydata.org/pandas-docs/stable/user_guide/indexing.html#returning-a-view-versus-a-copy\n",
            "  after removing the cwd from sys.path.\n"
          ]
        }
      ]
    },
    {
      "cell_type": "code",
      "source": [
        "#Now adding Order Fullfilled, Pending, Failed columns.\n",
        "OrdersFulfilled = col_make('orderState','fulfilled')\n",
        "OrdersFailed =  col_make('orderState','failed')\n",
        "OrdersPending = col_make('orderState','pending')"
      ],
      "metadata": {
        "id": "EZCOQ_KdmNZW"
      },
      "execution_count": null,
      "outputs": []
    },
    {
      "cell_type": "code",
      "source": [
        "final['OrdersFulfilled'] = OrdersFulfilled\n",
        "final['OrdersPending'] = OrdersPending\n",
        "final['OrdersFailed'] = OrdersFailed"
      ],
      "metadata": {
        "colab": {
          "base_uri": "https://localhost:8080/"
        },
        "id": "f-VsFjrpF2Bo",
        "outputId": "3b3cf894-37c5-4625-e9d2-1e7cf7ddfa9f"
      },
      "execution_count": null,
      "outputs": [
        {
          "output_type": "stream",
          "name": "stderr",
          "text": [
            "/usr/local/lib/python3.7/dist-packages/ipykernel_launcher.py:1: SettingWithCopyWarning: \n",
            "A value is trying to be set on a copy of a slice from a DataFrame.\n",
            "Try using .loc[row_indexer,col_indexer] = value instead\n",
            "\n",
            "See the caveats in the documentation: https://pandas.pydata.org/pandas-docs/stable/user_guide/indexing.html#returning-a-view-versus-a-copy\n",
            "  \"\"\"Entry point for launching an IPython kernel.\n",
            "/usr/local/lib/python3.7/dist-packages/ipykernel_launcher.py:2: SettingWithCopyWarning: \n",
            "A value is trying to be set on a copy of a slice from a DataFrame.\n",
            "Try using .loc[row_indexer,col_indexer] = value instead\n",
            "\n",
            "See the caveats in the documentation: https://pandas.pydata.org/pandas-docs/stable/user_guide/indexing.html#returning-a-view-versus-a-copy\n",
            "  \n",
            "/usr/local/lib/python3.7/dist-packages/ipykernel_launcher.py:3: SettingWithCopyWarning: \n",
            "A value is trying to be set on a copy of a slice from a DataFrame.\n",
            "Try using .loc[row_indexer,col_indexer] = value instead\n",
            "\n",
            "See the caveats in the documentation: https://pandas.pydata.org/pandas-docs/stable/user_guide/indexing.html#returning-a-view-versus-a-copy\n",
            "  This is separate from the ipykernel package so we can avoid doing imports until\n"
          ]
        }
      ]
    },
    {
      "cell_type": "code",
      "source": [
        "JCB_16 = col_make('paymentMethodProvider','JCB 16 digit')\n",
        "AmericanExp = col_make('paymentMethodProvider','American Express')\n",
        "VISA_16 =  col_make('paymentMethodProvider','VISA 16 digit')\n",
        "Discover =  col_make('paymentMethodProvider','Discover')\n",
        "Voyager = col_make('paymentMethodProvider','Voyager')\n",
        "VISA_13 = col_make('paymentMethodProvider','VISA 13 digit')\n",
        "Maestro = col_make('paymentMethodProvider','Maestro')\n",
        "Mastercard = col_make('paymentMethodProvider','Mastercard')\n",
        "DC_CB =col_make('paymentMethodProvider','Diners Club / Carte Blanche')\n",
        "JCB_15= col_make('paymentMethodProvider','JCB 15 digit')"
      ],
      "metadata": {
        "id": "QtydkFH3F2Er"
      },
      "execution_count": null,
      "outputs": []
    },
    {
      "cell_type": "code",
      "source": [
        "final['JCB_16'] = JCB_16\n",
        "final['AmericanExp'] = AmericanExp \n",
        "final['VISA_16'] = VISA_16 \n",
        "final['Discover'] = Discover\n",
        "final['Voyager'] = Voyager \n",
        "final['VISA_13'] = VISA_13\n",
        "final['Maestro'] = Maestro \n",
        "final['Mastercard'] = Mastercard\n",
        "final['DC_CB'] = DC_CB \n",
        "final['JCB_15'] = JCB_15"
      ],
      "metadata": {
        "colab": {
          "base_uri": "https://localhost:8080/"
        },
        "id": "E6kRYSUpF2HS",
        "outputId": "81c9134d-865a-429e-91ba-19507c7082dc"
      },
      "execution_count": null,
      "outputs": [
        {
          "output_type": "stream",
          "name": "stderr",
          "text": [
            "/usr/local/lib/python3.7/dist-packages/ipykernel_launcher.py:1: SettingWithCopyWarning: \n",
            "A value is trying to be set on a copy of a slice from a DataFrame.\n",
            "Try using .loc[row_indexer,col_indexer] = value instead\n",
            "\n",
            "See the caveats in the documentation: https://pandas.pydata.org/pandas-docs/stable/user_guide/indexing.html#returning-a-view-versus-a-copy\n",
            "  \"\"\"Entry point for launching an IPython kernel.\n",
            "/usr/local/lib/python3.7/dist-packages/ipykernel_launcher.py:2: SettingWithCopyWarning: \n",
            "A value is trying to be set on a copy of a slice from a DataFrame.\n",
            "Try using .loc[row_indexer,col_indexer] = value instead\n",
            "\n",
            "See the caveats in the documentation: https://pandas.pydata.org/pandas-docs/stable/user_guide/indexing.html#returning-a-view-versus-a-copy\n",
            "  \n",
            "/usr/local/lib/python3.7/dist-packages/ipykernel_launcher.py:3: SettingWithCopyWarning: \n",
            "A value is trying to be set on a copy of a slice from a DataFrame.\n",
            "Try using .loc[row_indexer,col_indexer] = value instead\n",
            "\n",
            "See the caveats in the documentation: https://pandas.pydata.org/pandas-docs/stable/user_guide/indexing.html#returning-a-view-versus-a-copy\n",
            "  This is separate from the ipykernel package so we can avoid doing imports until\n",
            "/usr/local/lib/python3.7/dist-packages/ipykernel_launcher.py:4: SettingWithCopyWarning: \n",
            "A value is trying to be set on a copy of a slice from a DataFrame.\n",
            "Try using .loc[row_indexer,col_indexer] = value instead\n",
            "\n",
            "See the caveats in the documentation: https://pandas.pydata.org/pandas-docs/stable/user_guide/indexing.html#returning-a-view-versus-a-copy\n",
            "  after removing the cwd from sys.path.\n",
            "/usr/local/lib/python3.7/dist-packages/ipykernel_launcher.py:5: SettingWithCopyWarning: \n",
            "A value is trying to be set on a copy of a slice from a DataFrame.\n",
            "Try using .loc[row_indexer,col_indexer] = value instead\n",
            "\n",
            "See the caveats in the documentation: https://pandas.pydata.org/pandas-docs/stable/user_guide/indexing.html#returning-a-view-versus-a-copy\n",
            "  \"\"\"\n",
            "/usr/local/lib/python3.7/dist-packages/ipykernel_launcher.py:6: SettingWithCopyWarning: \n",
            "A value is trying to be set on a copy of a slice from a DataFrame.\n",
            "Try using .loc[row_indexer,col_indexer] = value instead\n",
            "\n",
            "See the caveats in the documentation: https://pandas.pydata.org/pandas-docs/stable/user_guide/indexing.html#returning-a-view-versus-a-copy\n",
            "  \n",
            "/usr/local/lib/python3.7/dist-packages/ipykernel_launcher.py:7: SettingWithCopyWarning: \n",
            "A value is trying to be set on a copy of a slice from a DataFrame.\n",
            "Try using .loc[row_indexer,col_indexer] = value instead\n",
            "\n",
            "See the caveats in the documentation: https://pandas.pydata.org/pandas-docs/stable/user_guide/indexing.html#returning-a-view-versus-a-copy\n",
            "  import sys\n",
            "/usr/local/lib/python3.7/dist-packages/ipykernel_launcher.py:8: SettingWithCopyWarning: \n",
            "A value is trying to be set on a copy of a slice from a DataFrame.\n",
            "Try using .loc[row_indexer,col_indexer] = value instead\n",
            "\n",
            "See the caveats in the documentation: https://pandas.pydata.org/pandas-docs/stable/user_guide/indexing.html#returning-a-view-versus-a-copy\n",
            "  \n",
            "/usr/local/lib/python3.7/dist-packages/ipykernel_launcher.py:9: SettingWithCopyWarning: \n",
            "A value is trying to be set on a copy of a slice from a DataFrame.\n",
            "Try using .loc[row_indexer,col_indexer] = value instead\n",
            "\n",
            "See the caveats in the documentation: https://pandas.pydata.org/pandas-docs/stable/user_guide/indexing.html#returning-a-view-versus-a-copy\n",
            "  if __name__ == '__main__':\n",
            "/usr/local/lib/python3.7/dist-packages/ipykernel_launcher.py:10: SettingWithCopyWarning: \n",
            "A value is trying to be set on a copy of a slice from a DataFrame.\n",
            "Try using .loc[row_indexer,col_indexer] = value instead\n",
            "\n",
            "See the caveats in the documentation: https://pandas.pydata.org/pandas-docs/stable/user_guide/indexing.html#returning-a-view-versus-a-copy\n",
            "  # Remove the CWD from sys.path while we load stuff.\n"
          ]
        }
      ]
    },
    {
      "cell_type": "code",
      "source": [
        "#new shape of data\n",
        "final.shape"
      ],
      "metadata": {
        "colab": {
          "base_uri": "https://localhost:8080/"
        },
        "id": "P6j92pVdF2Jw",
        "outputId": "cdd31252-2dc9-473e-dbd8-5ca4b7a0138d"
      },
      "execution_count": null,
      "outputs": [
        {
          "output_type": "execute_result",
          "data": {
            "text/plain": [
              "(143, 30)"
            ]
          },
          "metadata": {},
          "execution_count": 478
        }
      ]
    },
    {
      "cell_type": "code",
      "source": [
        "sns.countplot(x= 'Fraud',data=final)\n",
        "ax = plt.gca()\n",
        "\n",
        "# Iterate through the list of axes' patches\n",
        "for p in ax.patches:\n",
        "    height = np.nan_to_num(p.get_height(), 0)\n",
        "    ax.text(p.get_x()+0.4, p.get_y() + height, '%d' % height, \n",
        "            fontsize=15, ha='center', va='bottom')\n",
        "plt.show()"
      ],
      "metadata": {
        "colab": {
          "base_uri": "https://localhost:8080/"
        },
        "id": "b_rjfbtTSerR",
        "outputId": "34cebcde-6a3c-40a0-b64c-5cf7b9b488f2"
      },
      "execution_count": null,
      "outputs": [
        {
          "output_type": "display_data",
          "data": {
            "text/plain": [
              "<Figure size 432x288 with 1 Axes>"
            ],
            "image/png": "[encoded data removed]"
          },
          "metadata": {
            "needs_background": "light"
          }
        }
      ]
    },
    {
      "cell_type": "code",
      "source": [
        "#Distribution of Transaction Amount\n",
        "sns.displot(final['Total_transaction_amt'])"
      ],
      "metadata": {
        "colab": {
          "base_uri": "https://localhost:8080/"
        },
        "id": "0fApyjFrOnFg",
        "outputId": "e2b455b3-ed6f-4345-c011-21831d567f38"
      },
      "execution_count": null,
      "outputs": [
        {
          "output_type": "execute_result",
          "data": {
            "text/plain": [
              "<seaborn.axisgrid.FacetGrid at 0x7f97755b8e50>"
            ]
          },
          "metadata": {},
          "execution_count": 480
        },
        {
          "output_type": "display_data",
          "data": {
            "text/plain": [
              "<Figure size 360x360 with 1 Axes>"
            ],
            "image/png": "[encoded data removed]"
          },
          "metadata": {
            "needs_background": "light"
          }
        }
      ]
    },
    {
      "cell_type": "code",
      "source": [
        "final[final['Total_transaction_amt'] > 600]"
      ],
      "metadata": {
        "colab": {
          "base_uri": "https://localhost:8080/"
        },
        "id": "UTPlvrgMO6TU",
        "outputId": "014d07b8-7f86-4b93-8f17-ead4e1d44931"
      },
      "execution_count": null,
      "outputs": [
        {
          "output_type": "execute_result",
          "data": {
            "text/plain": [
              "     index                customerEmail         customerPhone  \\\n",
              "7        7         johnlowery@gmail.com          044-642-9860   \n",
              "36      40         johnlowery@gmail.com      737-377-9701x577   \n",
              "38      45         johnlowery@gmail.com      +16(4)9016414340   \n",
              "55      65         johnlowery@gmail.com           04712252182   \n",
              "66      79         johnlowery@gmail.com    1-820-539-4726x993   \n",
              "70      84  lleonard@turner-fleming.com  1-414-937-7421x73705   \n",
              "112    133         johnlowery@gmail.com        1-143-059-1833   \n",
              "130    155         johnlowery@gmail.com    076-099-0630x72770   \n",
              "140    165         johnlowery@gmail.com      635.676.0955x524   \n",
              "\n",
              "           customerDevice                        customerIPAddress  \\\n",
              "7    rjb0adai34izqvys4938                           212.144.68.190   \n",
              "36   jz66ap43id2y35ivfqa5  6c21:ac1d:2089:68fa:abb7:8c00:525f:6588   \n",
              "38   cdx178qymd6vy77nm4x3                           222.79.159.140   \n",
              "55   311kdz4c1210iixltk2j   42b3:df19:86fe:abd9:dafe:f6c1:eb76:c72   \n",
              "66   2in0fh7lep289n8dcbdz                           163.128.139.42   \n",
              "70   yfpqgg5oxsn107veaala                             97.111.97.42   \n",
              "112  tyijaify2hqadwslejyr   e4c:fb48:8ee2:9819:6ae8:8d3f:3b6a:a788   \n",
              "130  6qy6oa3nqutsyyxzc54c  f259:657f:f329:2fca:c06c:8b57:d6ac:2380   \n",
              "140  969zz9zdj8z4gns4sx5p   f82c:811f:8a02:e2d6:79b:fcaa:42de:570b   \n",
              "\n",
              "                                customerBillingAddress  No_Transactions  \\\n",
              "7     484 Pamela Pass\\nLake Jessicaview, WI 12942-9074                6   \n",
              "36   08238 Kyle Squares Suite 893\\nMillermouth, IN ...                0   \n",
              "38             77711 Pamela Ridge\\nNew Kayla, IL 27182                3   \n",
              "55   11704 Andrew Villages Apt. 035\\nJamesfurt, OR ...                7   \n",
              "66             814 Wagner Union\\nAshleymouth, HI 35617                2   \n",
              "70      96103 Riley Walks\\nMichellefort, ID 98085-6066               11   \n",
              "112  518 Wood Mews Apt. 970\\nDillonstad, NE 43317-3945                0   \n",
              "130  687 Rogers Bridge Suite 780\\nValdezburgh, IN 2...                6   \n",
              "140           548 Bryant Inlet\\nVeronicaside, OK 00522                4   \n",
              "\n",
              "     No_Orders  No_Payments  Fraud  Total_transaction_amt  \\\n",
              "7            5            2   True                   1033   \n",
              "36           0            1   True                   1033   \n",
              "38           2            1   True                   1033   \n",
              "55           5            1   True                   1033   \n",
              "66           2            1   True                   1033   \n",
              "70           8            1   True                    653   \n",
              "112          0            0   True                   1033   \n",
              "130          5            3   True                   1033   \n",
              "140          4            2   True                   1033   \n",
              "\n",
              "     No_transactionsFail  PaymentRegFail  PaypalPayments  ApplePayments  \\\n",
              "7                      6               0               1              0   \n",
              "36                     6               0               1              0   \n",
              "38                     6               0               1              0   \n",
              "55                     6               0               1              0   \n",
              "66                     6               0               1              0   \n",
              "70                     3               0               0              0   \n",
              "112                    6               0               1              0   \n",
              "130                    6               0               1              0   \n",
              "140                    6               0               1              0   \n",
              "\n",
              "     CardPayments  BitcoinPayments  OrdersFulfilled  OrdersPending  \\\n",
              "7              24                3               25              0   \n",
              "36             24                3               25              0   \n",
              "38             24                3               25              0   \n",
              "55             24                3               25              0   \n",
              "66             24                3               25              0   \n",
              "70             11                0                7              3   \n",
              "112            24                3               25              0   \n",
              "130            24                3               25              0   \n",
              "140            24                3               25              0   \n",
              "\n",
              "     OrdersFailed  JCB_16  AmericanExp  VISA_16  Discover  Voyager  VISA_13  \\\n",
              "7               3       7            3       10         0        3        0   \n",
              "36              3       7            3       10         0        3        0   \n",
              "38              3       7            3       10         0        3        0   \n",
              "55              3       7            3       10         0        3        0   \n",
              "66              3       7            3       10         0        3        0   \n",
              "70              1       0            0        0         0        0        0   \n",
              "112             3       7            3       10         0        3        0   \n",
              "130             3       7            3       10         0        3        0   \n",
              "140             3       7            3       10         0        3        0   \n",
              "\n",
              "     Maestro  Mastercard  DC_CB  JCB_15  \n",
              "7          5           0      0       0  \n",
              "36         5           0      0       0  \n",
              "38         5           0      0       0  \n",
              "55         5           0      0       0  \n",
              "66         5           0      0       0  \n",
              "70         0           0      0      11  \n",
              "112        5           0      0       0  \n",
              "130        5           0      0       0  \n",
              "140        5           0      0       0  "
            ],
            "text/html": [
              "\n",
              "  <div id=\"df-6b021a42-2a58-4862-97a2-2da3c4d129cb\">\n",
              "    <div class=\"colab-df-container\">\n",
              "      <div>\n",
              "<style scoped>\n",
              "    .dataframe tbody tr th:only-of-type {\n",
              "        vertical-align: middle;\n",
              "    }\n",
              "\n",
              "    .dataframe tbody tr th {\n",
              "        vertical-align: top;\n",
              "    }\n",
              "\n",
              "    .dataframe thead th {\n",
              "        text-align: right;\n",
              "    }\n",
              "</style>\n",
              "<table border=\"1\" class=\"dataframe\">\n",
              "  <thead>\n",
              "    <tr style=\"text-align: right;\">\n",
              "      <th></th>\n",
              "      <th>index</th>\n",
              "      <th>customerEmail</th>\n",
              "      <th>customerPhone</th>\n",
              "      <th>customerDevice</th>\n",
              "      <th>customerIPAddress</th>\n",
              "      <th>customerBillingAddress</th>\n",
              "      <th>No_Transactions</th>\n",
              "      <th>No_Orders</th>\n",
              "      <th>No_Payments</th>\n",
              "      <th>Fraud</th>\n",
              "      <th>Total_transaction_amt</th>\n",
              "      <th>No_transactionsFail</th>\n",
              "      <th>PaymentRegFail</th>\n",
              "      <th>PaypalPayments</th>\n",
              "      <th>ApplePayments</th>\n",
              "      <th>CardPayments</th>\n",
              "      <th>BitcoinPayments</th>\n",
              "      <th>OrdersFulfilled</th>\n",
              "      <th>OrdersPending</th>\n",
              "      <th>OrdersFailed</th>\n",
              "      <th>JCB_16</th>\n",
              "      <th>AmericanExp</th>\n",
              "      <th>VISA_16</th>\n",
              "      <th>Discover</th>\n",
              "      <th>Voyager</th>\n",
              "      <th>VISA_13</th>\n",
              "      <th>Maestro</th>\n",
              "      <th>Mastercard</th>\n",
              "      <th>DC_CB</th>\n",
              "      <th>JCB_15</th>\n",
              "    </tr>\n",
              "  </thead>\n",
              "  <tbody>\n",
              "    <tr>\n",
              "      <th>7</th>\n",
              "      <td>7</td>\n",
              "      <td>johnlowery@gmail.com</td>\n",
              "      <td>044-642-9860</td>\n",
              "      <td>rjb0adai34izqvys4938</td>\n",
              "      <td>212.144.68.190</td>\n",
              "      <td>484 Pamela Pass\\nLake Jessicaview, WI 12942-9074</td>\n",
              "      <td>6</td>\n",
              "      <td>5</td>\n",
              "      <td>2</td>\n",
              "      <td>True</td>\n",
              "      <td>1033</td>\n",
              "      <td>6</td>\n",
              "      <td>0</td>\n",
              "      <td>1</td>\n",
              "      <td>0</td>\n",
              "      <td>24</td>\n",
              "      <td>3</td>\n",
              "      <td>25</td>\n",
              "      <td>0</td>\n",
              "      <td>3</td>\n",
              "      <td>7</td>\n",
              "      <td>3</td>\n",
              "      <td>10</td>\n",
              "      <td>0</td>\n",
              "      <td>3</td>\n",
              "      <td>0</td>\n",
              "      <td>5</td>\n",
              "      <td>0</td>\n",
              "      <td>0</td>\n",
              "      <td>0</td>\n",
              "    </tr>\n",
              "    <tr>\n",
              "      <th>36</th>\n",
              "      <td>40</td>\n",
              "      <td>johnlowery@gmail.com</td>\n",
              "      <td>737-377-9701x577</td>\n",
              "      <td>jz66ap43id2y35ivfqa5</td>\n",
              "      <td>6c21:ac1d:2089:68fa:abb7:8c00:525f:6588</td>\n",
              "      <td>08238 Kyle Squares Suite 893\\nMillermouth, IN ...</td>\n",
              "      <td>0</td>\n",
              "      <td>0</td>\n",
              "      <td>1</td>\n",
              "      <td>True</td>\n",
              "      <td>1033</td>\n",
              "      <td>6</td>\n",
              "      <td>0</td>\n",
              "      <td>1</td>\n",
              "      <td>0</td>\n",
              "      <td>24</td>\n",
              "      <td>3</td>\n",
              "      <td>25</td>\n",
              "      <td>0</td>\n",
              "      <td>3</td>\n",
              "      <td>7</td>\n",
              "      <td>3</td>\n",
              "      <td>10</td>\n",
              "      <td>0</td>\n",
              "      <td>3</td>\n",
              "      <td>0</td>\n",
              "      <td>5</td>\n",
              "      <td>0</td>\n",
              "      <td>0</td>\n",
              "      <td>0</td>\n",
              "    </tr>\n",
              "    <tr>\n",
              "      <th>38</th>\n",
              "      <td>45</td>\n",
              "      <td>johnlowery@gmail.com</td>\n",
              "      <td>+16(4)9016414340</td>\n",
              "      <td>cdx178qymd6vy77nm4x3</td>\n",
              "      <td>222.79.159.140</td>\n",
              "      <td>77711 Pamela Ridge\\nNew Kayla, IL 27182</td>\n",
              "      <td>3</td>\n",
              "      <td>2</td>\n",
              "      <td>1</td>\n",
              "      <td>True</td>\n",
              "      <td>1033</td>\n",
              "      <td>6</td>\n",
              "      <td>0</td>\n",
              "      <td>1</td>\n",
              "      <td>0</td>\n",
              "      <td>24</td>\n",
              "      <td>3</td>\n",
              "      <td>25</td>\n",
              "      <td>0</td>\n",
              "      <td>3</td>\n",
              "      <td>7</td>\n",
              "      <td>3</td>\n",
              "      <td>10</td>\n",
              "      <td>0</td>\n",
              "      <td>3</td>\n",
              "      <td>0</td>\n",
              "      <td>5</td>\n",
              "      <td>0</td>\n",
              "      <td>0</td>\n",
              "      <td>0</td>\n",
              "    </tr>\n",
              "    <tr>\n",
              "      <th>55</th>\n",
              "      <td>65</td>\n",
              "      <td>johnlowery@gmail.com</td>\n",
              "      <td>04712252182</td>\n",
              "      <td>311kdz4c1210iixltk2j</td>\n",
              "      <td>42b3:df19:86fe:abd9:dafe:f6c1:eb76:c72</td>\n",
              "      <td>11704 Andrew Villages Apt. 035\\nJamesfurt, OR ...</td>\n",
              "      <td>7</td>\n",
              "      <td>5</td>\n",
              "      <td>1</td>\n",
              "      <td>True</td>\n",
              "      <td>1033</td>\n",
              "      <td>6</td>\n",
              "      <td>0</td>\n",
              "      <td>1</td>\n",
              "      <td>0</td>\n",
              "      <td>24</td>\n",
              "      <td>3</td>\n",
              "      <td>25</td>\n",
              "      <td>0</td>\n",
              "      <td>3</td>\n",
              "      <td>7</td>\n",
              "      <td>3</td>\n",
              "      <td>10</td>\n",
              "      <td>0</td>\n",
              "      <td>3</td>\n",
              "      <td>0</td>\n",
              "      <td>5</td>\n",
              "      <td>0</td>\n",
              "      <td>0</td>\n",
              "      <td>0</td>\n",
              "    </tr>\n",
              "    <tr>\n",
              "      <th>66</th>\n",
              "      <td>79</td>\n",
              "      <td>johnlowery@gmail.com</td>\n",
              "      <td>1-820-539-4726x993</td>\n",
              "      <td>2in0fh7lep289n8dcbdz</td>\n",
              "      <td>163.128.139.42</td>\n",
              "      <td>814 Wagner Union\\nAshleymouth, HI 35617</td>\n",
              "      <td>2</td>\n",
              "      <td>2</td>\n",
              "      <td>1</td>\n",
              "      <td>True</td>\n",
              "      <td>1033</td>\n",
              "      <td>6</td>\n",
              "      <td>0</td>\n",
              "      <td>1</td>\n",
              "      <td>0</td>\n",
              "      <td>24</td>\n",
              "      <td>3</td>\n",
              "      <td>25</td>\n",
              "      <td>0</td>\n",
              "      <td>3</td>\n",
              "      <td>7</td>\n",
              "      <td>3</td>\n",
              "      <td>10</td>\n",
              "      <td>0</td>\n",
              "      <td>3</td>\n",
              "      <td>0</td>\n",
              "      <td>5</td>\n",
              "      <td>0</td>\n",
              "      <td>0</td>\n",
              "      <td>0</td>\n",
              "    </tr>\n",
              "    <tr>\n",
              "      <th>70</th>\n",
              "      <td>84</td>\n",
              "      <td>lleonard@turner-fleming.com</td>\n",
              "      <td>1-414-937-7421x73705</td>\n",
              "      <td>yfpqgg5oxsn107veaala</td>\n",
              "      <td>97.111.97.42</td>\n",
              "      <td>96103 Riley Walks\\nMichellefort, ID 98085-6066</td>\n",
              "      <td>11</td>\n",
              "      <td>8</td>\n",
              "      <td>1</td>\n",
              "      <td>True</td>\n",
              "      <td>653</td>\n",
              "      <td>3</td>\n",
              "      <td>0</td>\n",
              "      <td>0</td>\n",
              "      <td>0</td>\n",
              "      <td>11</td>\n",
              "      <td>0</td>\n",
              "      <td>7</td>\n",
              "      <td>3</td>\n",
              "      <td>1</td>\n",
              "      <td>0</td>\n",
              "      <td>0</td>\n",
              "      <td>0</td>\n",
              "      <td>0</td>\n",
              "      <td>0</td>\n",
              "      <td>0</td>\n",
              "      <td>0</td>\n",
              "      <td>0</td>\n",
              "      <td>0</td>\n",
              "      <td>11</td>\n",
              "    </tr>\n",
              "    <tr>\n",
              "      <th>112</th>\n",
              "      <td>133</td>\n",
              "      <td>johnlowery@gmail.com</td>\n",
              "      <td>1-143-059-1833</td>\n",
              "      <td>tyijaify2hqadwslejyr</td>\n",
              "      <td>e4c:fb48:8ee2:9819:6ae8:8d3f:3b6a:a788</td>\n",
              "      <td>518 Wood Mews Apt. 970\\nDillonstad, NE 43317-3945</td>\n",
              "      <td>0</td>\n",
              "      <td>0</td>\n",
              "      <td>0</td>\n",
              "      <td>True</td>\n",
              "      <td>1033</td>\n",
              "      <td>6</td>\n",
              "      <td>0</td>\n",
              "      <td>1</td>\n",
              "      <td>0</td>\n",
              "      <td>24</td>\n",
              "      <td>3</td>\n",
              "      <td>25</td>\n",
              "      <td>0</td>\n",
              "      <td>3</td>\n",
              "      <td>7</td>\n",
              "      <td>3</td>\n",
              "      <td>10</td>\n",
              "      <td>0</td>\n",
              "      <td>3</td>\n",
              "      <td>0</td>\n",
              "      <td>5</td>\n",
              "      <td>0</td>\n",
              "      <td>0</td>\n",
              "      <td>0</td>\n",
              "    </tr>\n",
              "    <tr>\n",
              "      <th>130</th>\n",
              "      <td>155</td>\n",
              "      <td>johnlowery@gmail.com</td>\n",
              "      <td>076-099-0630x72770</td>\n",
              "      <td>6qy6oa3nqutsyyxzc54c</td>\n",
              "      <td>f259:657f:f329:2fca:c06c:8b57:d6ac:2380</td>\n",
              "      <td>687 Rogers Bridge Suite 780\\nValdezburgh, IN 2...</td>\n",
              "      <td>6</td>\n",
              "      <td>5</td>\n",
              "      <td>3</td>\n",
              "      <td>True</td>\n",
              "      <td>1033</td>\n",
              "      <td>6</td>\n",
              "      <td>0</td>\n",
              "      <td>1</td>\n",
              "      <td>0</td>\n",
              "      <td>24</td>\n",
              "      <td>3</td>\n",
              "      <td>25</td>\n",
              "      <td>0</td>\n",
              "      <td>3</td>\n",
              "      <td>7</td>\n",
              "      <td>3</td>\n",
              "      <td>10</td>\n",
              "      <td>0</td>\n",
              "      <td>3</td>\n",
              "      <td>0</td>\n",
              "      <td>5</td>\n",
              "      <td>0</td>\n",
              "      <td>0</td>\n",
              "      <td>0</td>\n",
              "    </tr>\n",
              "    <tr>\n",
              "      <th>140</th>\n",
              "      <td>165</td>\n",
              "      <td>johnlowery@gmail.com</td>\n",
              "      <td>635.676.0955x524</td>\n",
              "      <td>969zz9zdj8z4gns4sx5p</td>\n",
              "      <td>f82c:811f:8a02:e2d6:79b:fcaa:42de:570b</td>\n",
              "      <td>548 Bryant Inlet\\nVeronicaside, OK 00522</td>\n",
              "      <td>4</td>\n",
              "      <td>4</td>\n",
              "      <td>2</td>\n",
              "      <td>True</td>\n",
              "      <td>1033</td>\n",
              "      <td>6</td>\n",
              "      <td>0</td>\n",
              "      <td>1</td>\n",
              "      <td>0</td>\n",
              "      <td>24</td>\n",
              "      <td>3</td>\n",
              "      <td>25</td>\n",
              "      <td>0</td>\n",
              "      <td>3</td>\n",
              "      <td>7</td>\n",
              "      <td>3</td>\n",
              "      <td>10</td>\n",
              "      <td>0</td>\n",
              "      <td>3</td>\n",
              "      <td>0</td>\n",
              "      <td>5</td>\n",
              "      <td>0</td>\n",
              "      <td>0</td>\n",
              "      <td>0</td>\n",
              "    </tr>\n",
              "  </tbody>\n",
              "</table>\n",
              "</div>\n",
              "      <button class=\"colab-df-convert\" onclick=\"convertToInteractive('df-6b021a42-2a58-4862-97a2-2da3c4d129cb')\"\n",
              "              title=\"Convert this dataframe to an interactive table.\"\n",
              "              style=\"display:none;\">\n",
              "        \n",
              "  <svg xmlns=\"http://www.w3.org/2000/svg\" height=\"24px\"viewBox=\"0 0 24 24\"\n",
              "       width=\"24px\">\n",
              "    <path d=\"M0 0h24v24H0V0z\" fill=\"none\"/>\n",
              "    <path d=\"M18.56 5.44l.94 2.06.94-2.06 2.06-.94-2.06-.94-.94-2.06-.94 2.06-2.06.94zm-11 1L8.5 8.5l.94-2.06 2.06-.94-2.06-.94L8.5 2.5l-.94 2.06-2.06.94zm10 10l.94 2.06.94-2.06 2.06-.94-2.06-.94-.94-2.06-.94 2.06-2.06.94z\"/><path d=\"M17.41 7.96l-1.37-1.37c-.4-.4-.92-.59-1.43-.59-.52 0-1.04.2-1.43.59L10.3 9.45l-7.72 7.72c-.78.78-.78 2.05 0 2.83L4 21.41c.39.39.9.59 1.41.59.51 0 1.02-.2 1.41-.59l7.78-7.78 2.81-2.81c.8-.78.8-2.07 0-2.86zM5.41 20L4 18.59l7.72-7.72 1.47 1.35L5.41 20z\"/>\n",
              "  </svg>\n",
              "      </button>\n",
              "      \n",
              "  <style>\n",
              "    .colab-df-container {\n",
              "      display:flex;\n",
              "      flex-wrap:wrap;\n",
              "      gap: 12px;\n",
              "    }\n",
              "\n",
              "    .colab-df-convert {\n",
              "      background-color: #E8F0FE;\n",
              "      border: none;\n",
              "      border-radius: 50%;\n",
              "      cursor: pointer;\n",
              "      display: none;\n",
              "      fill: #1967D2;\n",
              "      height: 32px;\n",
              "      padding: 0 0 0 0;\n",
              "      width: 32px;\n",
              "    }\n",
              "\n",
              "    .colab-df-convert:hover {\n",
              "      background-color: #E2EBFA;\n",
              "      box-shadow: 0px 1px 2px rgba(60, 64, 67, 0.3), 0px 1px 3px 1px rgba(60, 64, 67, 0.15);\n",
              "      fill: #174EA6;\n",
              "    }\n",
              "\n",
              "    [theme=dark] .colab-df-convert {\n",
              "      background-color: #3B4455;\n",
              "      fill: #D2E3FC;\n",
              "    }\n",
              "\n",
              "    [theme=dark] .colab-df-convert:hover {\n",
              "      background-color: #434B5C;\n",
              "      box-shadow: 0px 1px 3px 1px rgba(0, 0, 0, 0.15);\n",
              "      filter: drop-shadow(0px 1px 2px rgba(0, 0, 0, 0.3));\n",
              "      fill: #FFFFFF;\n",
              "    }\n",
              "  </style>\n",
              "\n",
              "      <script>\n",
              "        const buttonEl =\n",
              "          document.querySelector('#df-6b021a42-2a58-4862-97a2-2da3c4d129cb button.colab-df-convert');\n",
              "        buttonEl.style.display =\n",
              "          google.colab.kernel.accessAllowed ? 'block' : 'none';\n",
              "\n",
              "        async function convertToInteractive(key) {\n",
              "          const element = document.querySelector('#df-6b021a42-2a58-4862-97a2-2da3c4d129cb');\n",
              "          const dataTable =\n",
              "            await google.colab.kernel.invokeFunction('convertToInteractive',\n",
              "                                                     [key], {});\n",
              "          if (!dataTable) return;\n",
              "\n",
              "          const docLinkHtml = 'Like what you see? Visit the ' +\n",
              "            '<a target=\"_blank\" href=https://colab.research.google.com/notebooks/data_table.ipynb>data table notebook</a>'\n",
              "            + ' to learn more about interactive tables.';\n",
              "          element.innerHTML = '';\n",
              "          dataTable['output_type'] = 'display_data';\n",
              "          await google.colab.output.renderOutput(dataTable, element);\n",
              "          const docLink = document.createElement('div');\n",
              "          docLink.innerHTML = docLinkHtml;\n",
              "          element.appendChild(docLink);\n",
              "        }\n",
              "      </script>\n",
              "    </div>\n",
              "  </div>\n",
              "  "
            ]
          },
          "metadata": {},
          "execution_count": 481
        }
      ]
    },
    {
      "cell_type": "code",
      "source": [
        "corr = final.corr()\n",
        "corr2 = corr.iloc[-1:,:]\n",
        "\n",
        "plt.figure(figsize=(20, 5))\n",
        "ax = sns.heatmap(corr2, annot=True, vmin=-1, vmax=1, center=0)\n",
        "bottom, top = ax.get_ylim()\n",
        "ax.set_ylim(bottom + 0.5, top - 0.5)\n",
        "plt.title('Heatmap Correlation for fraud')\n",
        "plt.show()"
      ],
      "metadata": {
        "colab": {
          "base_uri": "https://localhost:8080/"
        },
        "id": "Za-tNziWSzw3",
        "outputId": "0d415f9f-26fa-4875-ecb2-d6d9ed597f5a"
      },
      "execution_count": null,
      "outputs": [
        {
          "output_type": "display_data",
          "data": {
            "text/plain": [
              "<Figure size 1440x360 with 2 Axes>"
            ],
            "image/png": "[encoded data removed]"
          },
          "metadata": {
            "needs_background": "light"
          }
        }
      ]
    },
    {
      "cell_type": "code",
      "source": [
        "Trns_fail_order_fulfilled = []\n",
        "for i in range(0,143):\n",
        "    s=0\n",
        "    for j in range(0,623):\n",
        "        if(final['customerEmail'][i]==ct['customerEmail'][j]):\n",
        "            if (ct['orderState'][j]=='fulfilled') & (ct['transactionFailed'][j]==1):\n",
        "                s+=1\n",
        "    Trns_fail_order_fulfilled.append(s)"
      ],
      "metadata": {
        "id": "QJ7qAAzRF2MS"
      },
      "execution_count": null,
      "outputs": []
    },
    {
      "cell_type": "code",
      "source": [
        "final['Trns_fail_order_fulfilled'] = Trns_fail_order_fulfilled"
      ],
      "metadata": {
        "colab": {
          "base_uri": "https://localhost:8080/"
        },
        "id": "08qL-r1nGHLI",
        "outputId": "63684be6-7c83-4bdd-91e1-23a64ebdc2be"
      },
      "execution_count": null,
      "outputs": [
        {
          "output_type": "stream",
          "name": "stderr",
          "text": [
            "/usr/local/lib/python3.7/dist-packages/ipykernel_launcher.py:1: SettingWithCopyWarning: \n",
            "A value is trying to be set on a copy of a slice from a DataFrame.\n",
            "Try using .loc[row_indexer,col_indexer] = value instead\n",
            "\n",
            "See the caveats in the documentation: https://pandas.pydata.org/pandas-docs/stable/user_guide/indexing.html#returning-a-view-versus-a-copy\n",
            "  \"\"\"Entry point for launching an IPython kernel.\n"
          ]
        }
      ]
    },
    {
      "cell_type": "code",
      "source": [
        "Duplicate_IP = []\n",
        "for i in range(0,143):\n",
        "    s=0\n",
        "    for j in range(0,143):\n",
        "        if(final['customerIPAddress'][i]==final['customerIPAddress'][j]):\n",
        "            s+=1\n",
        "    s-=1        \n",
        "    Duplicate_IP.append(s)"
      ],
      "metadata": {
        "id": "f2e7ku_qGP7q"
      },
      "execution_count": null,
      "outputs": []
    },
    {
      "cell_type": "code",
      "source": [
        "final['Duplicate_IP'] = Duplicate_IP"
      ],
      "metadata": {
        "colab": {
          "base_uri": "https://localhost:8080/"
        },
        "id": "v5B70MiFGP41",
        "outputId": "988f84a4-7c16-4e69-c6b7-549aa19bde53"
      },
      "execution_count": null,
      "outputs": [
        {
          "output_type": "stream",
          "name": "stderr",
          "text": [
            "/usr/local/lib/python3.7/dist-packages/ipykernel_launcher.py:1: SettingWithCopyWarning: \n",
            "A value is trying to be set on a copy of a slice from a DataFrame.\n",
            "Try using .loc[row_indexer,col_indexer] = value instead\n",
            "\n",
            "See the caveats in the documentation: https://pandas.pydata.org/pandas-docs/stable/user_guide/indexing.html#returning-a-view-versus-a-copy\n",
            "  \"\"\"Entry point for launching an IPython kernel.\n"
          ]
        }
      ]
    },
    {
      "cell_type": "code",
      "source": [
        "Fraud_Decoded = []\n",
        "for i in range(0,143):\n",
        "    s=0\n",
        "    if(final['Fraud'][i]==True):\n",
        "        s+=1        \n",
        "    Fraud_Decoded.append(s)"
      ],
      "metadata": {
        "id": "kb8h-pRhGT-R"
      },
      "execution_count": null,
      "outputs": []
    },
    {
      "cell_type": "code",
      "source": [
        "final['Fraud_Decoded'] = Fraud_Decoded"
      ],
      "metadata": {
        "colab": {
          "base_uri": "https://localhost:8080/"
        },
        "id": "9IQ3DAuOGT7-",
        "outputId": "f099a89b-0bd9-4a3b-8728-62e8759abd90"
      },
      "execution_count": null,
      "outputs": [
        {
          "output_type": "stream",
          "name": "stderr",
          "text": [
            "/usr/local/lib/python3.7/dist-packages/ipykernel_launcher.py:1: SettingWithCopyWarning: \n",
            "A value is trying to be set on a copy of a slice from a DataFrame.\n",
            "Try using .loc[row_indexer,col_indexer] = value instead\n",
            "\n",
            "See the caveats in the documentation: https://pandas.pydata.org/pandas-docs/stable/user_guide/indexing.html#returning-a-view-versus-a-copy\n",
            "  \"\"\"Entry point for launching an IPython kernel.\n"
          ]
        }
      ]
    },
    {
      "cell_type": "code",
      "source": [
        "Duplicate_Address = []\n",
        "for i in range(0,143):\n",
        "    s=0\n",
        "    for j in range(0,143):\n",
        "        if(final['customerBillingAddress'][i]==final['customerBillingAddress'][j]):\n",
        "            s+=1\n",
        "    s-=1        \n",
        "    Duplicate_Address.append(s)"
      ],
      "metadata": {
        "id": "xyhcyPY5GT5R"
      },
      "execution_count": null,
      "outputs": []
    },
    {
      "cell_type": "code",
      "source": [
        "final['Duplicate_Address']=Duplicate_Address"
      ],
      "metadata": {
        "colab": {
          "base_uri": "https://localhost:8080/"
        },
        "id": "mYprqSEhGT2l",
        "outputId": "f777a0ab-2305-4c03-9e3d-33fedcdd37e7"
      },
      "execution_count": null,
      "outputs": [
        {
          "output_type": "stream",
          "name": "stderr",
          "text": [
            "/usr/local/lib/python3.7/dist-packages/ipykernel_launcher.py:1: SettingWithCopyWarning: \n",
            "A value is trying to be set on a copy of a slice from a DataFrame.\n",
            "Try using .loc[row_indexer,col_indexer] = value instead\n",
            "\n",
            "See the caveats in the documentation: https://pandas.pydata.org/pandas-docs/stable/user_guide/indexing.html#returning-a-view-versus-a-copy\n",
            "  \"\"\"Entry point for launching an IPython kernel.\n"
          ]
        }
      ]
    },
    {
      "cell_type": "code",
      "source": [
        "final[final['Fraud']==True].count()"
      ],
      "metadata": {
        "colab": {
          "base_uri": "https://localhost:8080/"
        },
        "id": "CRsLaikIGTzz",
        "outputId": "d738b15f-71a8-4dba-be05-77051a88444e"
      },
      "execution_count": null,
      "outputs": [
        {
          "output_type": "execute_result",
          "data": {
            "text/plain": [
              "index                        56\n",
              "customerEmail                56\n",
              "customerPhone                56\n",
              "customerDevice               56\n",
              "customerIPAddress            56\n",
              "customerBillingAddress       56\n",
              "No_Transactions              56\n",
              "No_Orders                    56\n",
              "No_Payments                  56\n",
              "Fraud                        56\n",
              "Total_transaction_amt        56\n",
              "No_transactionsFail          56\n",
              "PaymentRegFail               56\n",
              "PaypalPayments               56\n",
              "ApplePayments                56\n",
              "CardPayments                 56\n",
              "BitcoinPayments              56\n",
              "OrdersFulfilled              56\n",
              "OrdersPending                56\n",
              "OrdersFailed                 56\n",
              "JCB_16                       56\n",
              "AmericanExp                  56\n",
              "VISA_16                      56\n",
              "Discover                     56\n",
              "Voyager                      56\n",
              "VISA_13                      56\n",
              "Maestro                      56\n",
              "Mastercard                   56\n",
              "DC_CB                        56\n",
              "JCB_15                       56\n",
              "Trns_fail_order_fulfilled    56\n",
              "Duplicate_IP                 56\n",
              "Fraud_Decoded                56\n",
              "Duplicate_Address            56\n",
              "dtype: int64"
            ]
          },
          "metadata": {},
          "execution_count": 491
        }
      ]
    },
    {
      "cell_type": "markdown",
      "source": [
        "56 data points are Truely fraudulent in the data and rest  are not fraud."
      ],
      "metadata": {
        "id": "Ey-Kf0hwGjN6"
      }
    },
    {
      "cell_type": "code",
      "source": [
        "sns.countplot(x = final['OrdersFulfilled'], hue = final['Fraud'])\n",
        "plt.show()"
      ],
      "metadata": {
        "colab": {
          "base_uri": "https://localhost:8080/"
        },
        "id": "btcK62XRSmwv",
        "outputId": "f524bf49-c325-4e68-e28e-63d8f15c638c"
      },
      "execution_count": null,
      "outputs": [
        {
          "output_type": "display_data",
          "data": {
            "text/plain": [
              "<Figure size 432x288 with 1 Axes>"
            ],
            "image/png": "[encoded data removed]"
          },
          "metadata": {
            "needs_background": "light"
          }
        }
      ]
    },
    {
      "cell_type": "code",
      "source": [
        "sns.barplot(x = final['No_Transactions'],y = final['No_transactionsFail'],hue = final['Fraud'])"
      ],
      "metadata": {
        "colab": {
          "base_uri": "https://localhost:8080/"
        },
        "id": "T8hEOEkrGPxT",
        "outputId": "57097b58-a633-4432-b9e3-c7a69117b631"
      },
      "execution_count": null,
      "outputs": [
        {
          "output_type": "execute_result",
          "data": {
            "text/plain": [
              "<matplotlib.axes._subplots.AxesSubplot at 0x7f97780ea2d0>"
            ]
          },
          "metadata": {},
          "execution_count": 493
        },
        {
          "output_type": "display_data",
          "data": {
            "text/plain": [
              "<Figure size 432x288 with 1 Axes>"
            ],
            "image/png": "[encoded data removed]"
          },
          "metadata": {
            "needs_background": "light"
          }
        }
      ]
    },
    {
      "cell_type": "markdown",
      "source": [
        "Note: When number of transactions = 0, we have number of Transactions failed =6. And hence the customer is definitely a fraud.\n",
        "\n",
        "When No. of Transaction is 10,11,13 then the transaction is definitely a fraud irrespective of the number of transactions failed."
      ],
      "metadata": {
        "id": "V637-pneG0u_"
      }
    },
    {
      "cell_type": "code",
      "source": [
        "final[(final['No_transactionsFail'] == 6) & (final['No_Transactions']==0)==True]"
      ],
      "metadata": {
        "colab": {
          "base_uri": "https://localhost:8080/"
        },
        "id": "c8NUB8gNGPue",
        "outputId": "6f8d3347-1c71-4162-a1c3-43de684aa4c7"
      },
      "execution_count": null,
      "outputs": [
        {
          "output_type": "execute_result",
          "data": {
            "text/plain": [
              "     index         customerEmail     customerPhone        customerDevice  \\\n",
              "36      40  johnlowery@gmail.com  737-377-9701x577  jz66ap43id2y35ivfqa5   \n",
              "112    133  johnlowery@gmail.com    1-143-059-1833  tyijaify2hqadwslejyr   \n",
              "\n",
              "                           customerIPAddress  \\\n",
              "36   6c21:ac1d:2089:68fa:abb7:8c00:525f:6588   \n",
              "112   e4c:fb48:8ee2:9819:6ae8:8d3f:3b6a:a788   \n",
              "\n",
              "                                customerBillingAddress  No_Transactions  \\\n",
              "36   08238 Kyle Squares Suite 893\\nMillermouth, IN ...                0   \n",
              "112  518 Wood Mews Apt. 970\\nDillonstad, NE 43317-3945                0   \n",
              "\n",
              "     No_Orders  No_Payments  Fraud  Total_transaction_amt  \\\n",
              "36           0            1   True                   1033   \n",
              "112          0            0   True                   1033   \n",
              "\n",
              "     No_transactionsFail  PaymentRegFail  PaypalPayments  ApplePayments  \\\n",
              "36                     6               0               1              0   \n",
              "112                    6               0               1              0   \n",
              "\n",
              "     CardPayments  BitcoinPayments  OrdersFulfilled  OrdersPending  \\\n",
              "36             24                3               25              0   \n",
              "112            24                3               25              0   \n",
              "\n",
              "     OrdersFailed  JCB_16  AmericanExp  VISA_16  Discover  Voyager  VISA_13  \\\n",
              "36              3       7            3       10         0        3        0   \n",
              "112             3       7            3       10         0        3        0   \n",
              "\n",
              "     Maestro  Mastercard  DC_CB  JCB_15  Trns_fail_order_fulfilled  \\\n",
              "36         5           0      0       0                          5   \n",
              "112        5           0      0       0                          5   \n",
              "\n",
              "     Duplicate_IP  Fraud_Decoded  Duplicate_Address  \n",
              "36              0              1                  0  \n",
              "112             0              1                  0  "
            ],
            "text/html": [
              "\n",
              "  <div id=\"df-ae79ac11-3cfa-4b5f-bbca-2893a2c78ba2\">\n",
              "    <div class=\"colab-df-container\">\n",
              "      <div>\n",
              "<style scoped>\n",
              "    .dataframe tbody tr th:only-of-type {\n",
              "        vertical-align: middle;\n",
              "    }\n",
              "\n",
              "    .dataframe tbody tr th {\n",
              "        vertical-align: top;\n",
              "    }\n",
              "\n",
              "    .dataframe thead th {\n",
              "        text-align: right;\n",
              "    }\n",
              "</style>\n",
              "<table border=\"1\" class=\"dataframe\">\n",
              "  <thead>\n",
              "    <tr style=\"text-align: right;\">\n",
              "      <th></th>\n",
              "      <th>index</th>\n",
              "      <th>customerEmail</th>\n",
              "      <th>customerPhone</th>\n",
              "      <th>customerDevice</th>\n",
              "      <th>customerIPAddress</th>\n",
              "      <th>customerBillingAddress</th>\n",
              "      <th>No_Transactions</th>\n",
              "      <th>No_Orders</th>\n",
              "      <th>No_Payments</th>\n",
              "      <th>Fraud</th>\n",
              "      <th>Total_transaction_amt</th>\n",
              "      <th>No_transactionsFail</th>\n",
              "      <th>PaymentRegFail</th>\n",
              "      <th>PaypalPayments</th>\n",
              "      <th>ApplePayments</th>\n",
              "      <th>CardPayments</th>\n",
              "      <th>BitcoinPayments</th>\n",
              "      <th>OrdersFulfilled</th>\n",
              "      <th>OrdersPending</th>\n",
              "      <th>OrdersFailed</th>\n",
              "      <th>JCB_16</th>\n",
              "      <th>AmericanExp</th>\n",
              "      <th>VISA_16</th>\n",
              "      <th>Discover</th>\n",
              "      <th>Voyager</th>\n",
              "      <th>VISA_13</th>\n",
              "      <th>Maestro</th>\n",
              "      <th>Mastercard</th>\n",
              "      <th>DC_CB</th>\n",
              "      <th>JCB_15</th>\n",
              "      <th>Trns_fail_order_fulfilled</th>\n",
              "      <th>Duplicate_IP</th>\n",
              "      <th>Fraud_Decoded</th>\n",
              "      <th>Duplicate_Address</th>\n",
              "    </tr>\n",
              "  </thead>\n",
              "  <tbody>\n",
              "    <tr>\n",
              "      <th>36</th>\n",
              "      <td>40</td>\n",
              "      <td>johnlowery@gmail.com</td>\n",
              "      <td>737-377-9701x577</td>\n",
              "      <td>jz66ap43id2y35ivfqa5</td>\n",
              "      <td>6c21:ac1d:2089:68fa:abb7:8c00:525f:6588</td>\n",
              "      <td>08238 Kyle Squares Suite 893\\nMillermouth, IN ...</td>\n",
              "      <td>0</td>\n",
              "      <td>0</td>\n",
              "      <td>1</td>\n",
              "      <td>True</td>\n",
              "      <td>1033</td>\n",
              "      <td>6</td>\n",
              "      <td>0</td>\n",
              "      <td>1</td>\n",
              "      <td>0</td>\n",
              "      <td>24</td>\n",
              "      <td>3</td>\n",
              "      <td>25</td>\n",
              "      <td>0</td>\n",
              "      <td>3</td>\n",
              "      <td>7</td>\n",
              "      <td>3</td>\n",
              "      <td>10</td>\n",
              "      <td>0</td>\n",
              "      <td>3</td>\n",
              "      <td>0</td>\n",
              "      <td>5</td>\n",
              "      <td>0</td>\n",
              "      <td>0</td>\n",
              "      <td>0</td>\n",
              "      <td>5</td>\n",
              "      <td>0</td>\n",
              "      <td>1</td>\n",
              "      <td>0</td>\n",
              "    </tr>\n",
              "    <tr>\n",
              "      <th>112</th>\n",
              "      <td>133</td>\n",
              "      <td>johnlowery@gmail.com</td>\n",
              "      <td>1-143-059-1833</td>\n",
              "      <td>tyijaify2hqadwslejyr</td>\n",
              "      <td>e4c:fb48:8ee2:9819:6ae8:8d3f:3b6a:a788</td>\n",
              "      <td>518 Wood Mews Apt. 970\\nDillonstad, NE 43317-3945</td>\n",
              "      <td>0</td>\n",
              "      <td>0</td>\n",
              "      <td>0</td>\n",
              "      <td>True</td>\n",
              "      <td>1033</td>\n",
              "      <td>6</td>\n",
              "      <td>0</td>\n",
              "      <td>1</td>\n",
              "      <td>0</td>\n",
              "      <td>24</td>\n",
              "      <td>3</td>\n",
              "      <td>25</td>\n",
              "      <td>0</td>\n",
              "      <td>3</td>\n",
              "      <td>7</td>\n",
              "      <td>3</td>\n",
              "      <td>10</td>\n",
              "      <td>0</td>\n",
              "      <td>3</td>\n",
              "      <td>0</td>\n",
              "      <td>5</td>\n",
              "      <td>0</td>\n",
              "      <td>0</td>\n",
              "      <td>0</td>\n",
              "      <td>5</td>\n",
              "      <td>0</td>\n",
              "      <td>1</td>\n",
              "      <td>0</td>\n",
              "    </tr>\n",
              "  </tbody>\n",
              "</table>\n",
              "</div>\n",
              "      <button class=\"colab-df-convert\" onclick=\"convertToInteractive('df-ae79ac11-3cfa-4b5f-bbca-2893a2c78ba2')\"\n",
              "              title=\"Convert this dataframe to an interactive table.\"\n",
              "              style=\"display:none;\">\n",
              "        \n",
              "  <svg xmlns=\"http://www.w3.org/2000/svg\" height=\"24px\"viewBox=\"0 0 24 24\"\n",
              "       width=\"24px\">\n",
              "    <path d=\"M0 0h24v24H0V0z\" fill=\"none\"/>\n",
              "    <path d=\"M18.56 5.44l.94 2.06.94-2.06 2.06-.94-2.06-.94-.94-2.06-.94 2.06-2.06.94zm-11 1L8.5 8.5l.94-2.06 2.06-.94-2.06-.94L8.5 2.5l-.94 2.06-2.06.94zm10 10l.94 2.06.94-2.06 2.06-.94-2.06-.94-.94-2.06-.94 2.06-2.06.94z\"/><path d=\"M17.41 7.96l-1.37-1.37c-.4-.4-.92-.59-1.43-.59-.52 0-1.04.2-1.43.59L10.3 9.45l-7.72 7.72c-.78.78-.78 2.05 0 2.83L4 21.41c.39.39.9.59 1.41.59.51 0 1.02-.2 1.41-.59l7.78-7.78 2.81-2.81c.8-.78.8-2.07 0-2.86zM5.41 20L4 18.59l7.72-7.72 1.47 1.35L5.41 20z\"/>\n",
              "  </svg>\n",
              "      </button>\n",
              "      \n",
              "  <style>\n",
              "    .colab-df-container {\n",
              "      display:flex;\n",
              "      flex-wrap:wrap;\n",
              "      gap: 12px;\n",
              "    }\n",
              "\n",
              "    .colab-df-convert {\n",
              "      background-color: #E8F0FE;\n",
              "      border: none;\n",
              "      border-radius: 50%;\n",
              "      cursor: pointer;\n",
              "      display: none;\n",
              "      fill: #1967D2;\n",
              "      height: 32px;\n",
              "      padding: 0 0 0 0;\n",
              "      width: 32px;\n",
              "    }\n",
              "\n",
              "    .colab-df-convert:hover {\n",
              "      background-color: #E2EBFA;\n",
              "      box-shadow: 0px 1px 2px rgba(60, 64, 67, 0.3), 0px 1px 3px 1px rgba(60, 64, 67, 0.15);\n",
              "      fill: #174EA6;\n",
              "    }\n",
              "\n",
              "    [theme=dark] .colab-df-convert {\n",
              "      background-color: #3B4455;\n",
              "      fill: #D2E3FC;\n",
              "    }\n",
              "\n",
              "    [theme=dark] .colab-df-convert:hover {\n",
              "      background-color: #434B5C;\n",
              "      box-shadow: 0px 1px 3px 1px rgba(0, 0, 0, 0.15);\n",
              "      filter: drop-shadow(0px 1px 2px rgba(0, 0, 0, 0.3));\n",
              "      fill: #FFFFFF;\n",
              "    }\n",
              "  </style>\n",
              "\n",
              "      <script>\n",
              "        const buttonEl =\n",
              "          document.querySelector('#df-ae79ac11-3cfa-4b5f-bbca-2893a2c78ba2 button.colab-df-convert');\n",
              "        buttonEl.style.display =\n",
              "          google.colab.kernel.accessAllowed ? 'block' : 'none';\n",
              "\n",
              "        async function convertToInteractive(key) {\n",
              "          const element = document.querySelector('#df-ae79ac11-3cfa-4b5f-bbca-2893a2c78ba2');\n",
              "          const dataTable =\n",
              "            await google.colab.kernel.invokeFunction('convertToInteractive',\n",
              "                                                     [key], {});\n",
              "          if (!dataTable) return;\n",
              "\n",
              "          const docLinkHtml = 'Like what you see? Visit the ' +\n",
              "            '<a target=\"_blank\" href=https://colab.research.google.com/notebooks/data_table.ipynb>data table notebook</a>'\n",
              "            + ' to learn more about interactive tables.';\n",
              "          element.innerHTML = '';\n",
              "          dataTable['output_type'] = 'display_data';\n",
              "          await google.colab.output.renderOutput(dataTable, element);\n",
              "          const docLink = document.createElement('div');\n",
              "          docLink.innerHTML = docLinkHtml;\n",
              "          element.appendChild(docLink);\n",
              "        }\n",
              "      </script>\n",
              "    </div>\n",
              "  </div>\n",
              "  "
            ]
          },
          "metadata": {},
          "execution_count": 494
        }
      ]
    },
    {
      "cell_type": "markdown",
      "source": [
        "It is the same Email Address that has been repeated 8 times in the data."
      ],
      "metadata": {
        "id": "Jrc6NzQUHA1d"
      }
    },
    {
      "cell_type": "code",
      "source": [
        "print(final['customerPhone'].nunique())\n",
        "print(final['customerDevice'].nunique())\n",
        "print(final['customerIPAddress'].nunique())\n",
        "print(final['customerBillingAddress'].nunique())"
      ],
      "metadata": {
        "colab": {
          "base_uri": "https://localhost:8080/"
        },
        "id": "qA8_mqs7G8Cn",
        "outputId": "e2e12068-6df8-472e-aeb9-5e3a4ac6839d"
      },
      "execution_count": null,
      "outputs": [
        {
          "output_type": "stream",
          "name": "stdout",
          "text": [
            "143\n",
            "143\n",
            "140\n",
            "141\n"
          ]
        }
      ]
    },
    {
      "cell_type": "code",
      "source": [
        "final[final['Duplicate_IP']>0]"
      ],
      "metadata": {
        "colab": {
          "base_uri": "https://localhost:8080/"
        },
        "id": "3JJSBAqeHB_t",
        "outputId": "4f1f6ee3-fc9a-4d27-c58b-43052565777c"
      },
      "execution_count": null,
      "outputs": [
        {
          "output_type": "execute_result",
          "data": {
            "text/plain": [
              "     index                      customerEmail        customerPhone  \\\n",
              "39      46  jamescampbell@randall-pacheco.biz         599-142-6783   \n",
              "67      80            warrenedward@arnold.com   201.737.5119x64000   \n",
              "73      88               shelby24@hotmail.com  (071)934-3315x27613   \n",
              "118    141           christinemills@mcgee.com        (651)355-4709   \n",
              "\n",
              "           customerDevice customerIPAddress  \\\n",
              "39   eaul63h9guyvwuymfn3z     45.203.99.249   \n",
              "67   6py7ewqjkxjw8zjl9eri     45.203.99.249   \n",
              "73   obb41ux0zfa2td5ajo9s     45.203.99.249   \n",
              "118  zbn9it3s7yl69bjtrnqf     45.203.99.249   \n",
              "\n",
              "                                customerBillingAddress  No_Transactions  \\\n",
              "39       29408 Lisa Lock\\nPort Jennifer, LA 26501-7040                7   \n",
              "67   49680 Brian Squares Apt. 122\\nPort Walterburgh...                4   \n",
              "73      3271 Cynthia Groves\\nPort Jeremyberg, CO 27305                5   \n",
              "118  5156 Greene Park Apt. 748\\nNew Sandra, CA 1480...                5   \n",
              "\n",
              "     No_Orders  No_Payments  Fraud  Total_transaction_amt  \\\n",
              "39           3            2   True                    146   \n",
              "67           4           14   True                    117   \n",
              "73           4            2   True                    192   \n",
              "118          5            2   True                    125   \n",
              "\n",
              "     No_transactionsFail  PaymentRegFail  PaypalPayments  ApplePayments  \\\n",
              "39                     4               0               0              0   \n",
              "67                     0               2               0              1   \n",
              "73                     1               3               0              0   \n",
              "118                    0               0               2              0   \n",
              "\n",
              "     CardPayments  BitcoinPayments  OrdersFulfilled  OrdersPending  \\\n",
              "39              7                0                7              0   \n",
              "67              3                0                4              0   \n",
              "73              5                0                3              0   \n",
              "118             3                0                4              0   \n",
              "\n",
              "     OrdersFailed  JCB_16  AmericanExp  VISA_16  Discover  Voyager  VISA_13  \\\n",
              "39              0       0            0        0         5        0        2   \n",
              "67              0       0            2        0         0        1        1   \n",
              "73              2       0            0        0         0        0        0   \n",
              "118             1       0            0        0         0        5        0   \n",
              "\n",
              "     Maestro  Mastercard  DC_CB  JCB_15  Trns_fail_order_fulfilled  \\\n",
              "39         0           0      0       0                          4   \n",
              "67         0           0      0       0                          0   \n",
              "73         0           2      3       0                          0   \n",
              "118        0           0      0       0                          0   \n",
              "\n",
              "     Duplicate_IP  Fraud_Decoded  Duplicate_Address  \n",
              "39              3              1                  0  \n",
              "67              3              1                  2  \n",
              "73              3              1                  0  \n",
              "118             3              1                  0  "
            ],
            "text/html": [
              "\n",
              "  <div id=\"df-3ca3808a-7454-49b6-8a34-24402311e16c\">\n",
              "    <div class=\"colab-df-container\">\n",
              "      <div>\n",
              "<style scoped>\n",
              "    .dataframe tbody tr th:only-of-type {\n",
              "        vertical-align: middle;\n",
              "    }\n",
              "\n",
              "    .dataframe tbody tr th {\n",
              "        vertical-align: top;\n",
              "    }\n",
              "\n",
              "    .dataframe thead th {\n",
              "        text-align: right;\n",
              "    }\n",
              "</style>\n",
              "<table border=\"1\" class=\"dataframe\">\n",
              "  <thead>\n",
              "    <tr style=\"text-align: right;\">\n",
              "      <th></th>\n",
              "      <th>index</th>\n",
              "      <th>customerEmail</th>\n",
              "      <th>customerPhone</th>\n",
              "      <th>customerDevice</th>\n",
              "      <th>customerIPAddress</th>\n",
              "      <th>customerBillingAddress</th>\n",
              "      <th>No_Transactions</th>\n",
              "      <th>No_Orders</th>\n",
              "      <th>No_Payments</th>\n",
              "      <th>Fraud</th>\n",
              "      <th>Total_transaction_amt</th>\n",
              "      <th>No_transactionsFail</th>\n",
              "      <th>PaymentRegFail</th>\n",
              "      <th>PaypalPayments</th>\n",
              "      <th>ApplePayments</th>\n",
              "      <th>CardPayments</th>\n",
              "      <th>BitcoinPayments</th>\n",
              "      <th>OrdersFulfilled</th>\n",
              "      <th>OrdersPending</th>\n",
              "      <th>OrdersFailed</th>\n",
              "      <th>JCB_16</th>\n",
              "      <th>AmericanExp</th>\n",
              "      <th>VISA_16</th>\n",
              "      <th>Discover</th>\n",
              "      <th>Voyager</th>\n",
              "      <th>VISA_13</th>\n",
              "      <th>Maestro</th>\n",
              "      <th>Mastercard</th>\n",
              "      <th>DC_CB</th>\n",
              "      <th>JCB_15</th>\n",
              "      <th>Trns_fail_order_fulfilled</th>\n",
              "      <th>Duplicate_IP</th>\n",
              "      <th>Fraud_Decoded</th>\n",
              "      <th>Duplicate_Address</th>\n",
              "    </tr>\n",
              "  </thead>\n",
              "  <tbody>\n",
              "    <tr>\n",
              "      <th>39</th>\n",
              "      <td>46</td>\n",
              "      <td>jamescampbell@randall-pacheco.biz</td>\n",
              "      <td>599-142-6783</td>\n",
              "      <td>eaul63h9guyvwuymfn3z</td>\n",
              "      <td>45.203.99.249</td>\n",
              "      <td>29408 Lisa Lock\\nPort Jennifer, LA 26501-7040</td>\n",
              "      <td>7</td>\n",
              "      <td>3</td>\n",
              "      <td>2</td>\n",
              "      <td>True</td>\n",
              "      <td>146</td>\n",
              "      <td>4</td>\n",
              "      <td>0</td>\n",
              "      <td>0</td>\n",
              "      <td>0</td>\n",
              "      <td>7</td>\n",
              "      <td>0</td>\n",
              "      <td>7</td>\n",
              "      <td>0</td>\n",
              "      <td>0</td>\n",
              "      <td>0</td>\n",
              "      <td>0</td>\n",
              "      <td>0</td>\n",
              "      <td>5</td>\n",
              "      <td>0</td>\n",
              "      <td>2</td>\n",
              "      <td>0</td>\n",
              "      <td>0</td>\n",
              "      <td>0</td>\n",
              "      <td>0</td>\n",
              "      <td>4</td>\n",
              "      <td>3</td>\n",
              "      <td>1</td>\n",
              "      <td>0</td>\n",
              "    </tr>\n",
              "    <tr>\n",
              "      <th>67</th>\n",
              "      <td>80</td>\n",
              "      <td>warrenedward@arnold.com</td>\n",
              "      <td>201.737.5119x64000</td>\n",
              "      <td>6py7ewqjkxjw8zjl9eri</td>\n",
              "      <td>45.203.99.249</td>\n",
              "      <td>49680 Brian Squares Apt. 122\\nPort Walterburgh...</td>\n",
              "      <td>4</td>\n",
              "      <td>4</td>\n",
              "      <td>14</td>\n",
              "      <td>True</td>\n",
              "      <td>117</td>\n",
              "      <td>0</td>\n",
              "      <td>2</td>\n",
              "      <td>0</td>\n",
              "      <td>1</td>\n",
              "      <td>3</td>\n",
              "      <td>0</td>\n",
              "      <td>4</td>\n",
              "      <td>0</td>\n",
              "      <td>0</td>\n",
              "      <td>0</td>\n",
              "      <td>2</td>\n",
              "      <td>0</td>\n",
              "      <td>0</td>\n",
              "      <td>1</td>\n",
              "      <td>1</td>\n",
              "      <td>0</td>\n",
              "      <td>0</td>\n",
              "      <td>0</td>\n",
              "      <td>0</td>\n",
              "      <td>0</td>\n",
              "      <td>3</td>\n",
              "      <td>1</td>\n",
              "      <td>2</td>\n",
              "    </tr>\n",
              "    <tr>\n",
              "      <th>73</th>\n",
              "      <td>88</td>\n",
              "      <td>shelby24@hotmail.com</td>\n",
              "      <td>(071)934-3315x27613</td>\n",
              "      <td>obb41ux0zfa2td5ajo9s</td>\n",
              "      <td>45.203.99.249</td>\n",
              "      <td>3271 Cynthia Groves\\nPort Jeremyberg, CO 27305</td>\n",
              "      <td>5</td>\n",
              "      <td>4</td>\n",
              "      <td>2</td>\n",
              "      <td>True</td>\n",
              "      <td>192</td>\n",
              "      <td>1</td>\n",
              "      <td>3</td>\n",
              "      <td>0</td>\n",
              "      <td>0</td>\n",
              "      <td>5</td>\n",
              "      <td>0</td>\n",
              "      <td>3</td>\n",
              "      <td>0</td>\n",
              "      <td>2</td>\n",
              "      <td>0</td>\n",
              "      <td>0</td>\n",
              "      <td>0</td>\n",
              "      <td>0</td>\n",
              "      <td>0</td>\n",
              "      <td>0</td>\n",
              "      <td>0</td>\n",
              "      <td>2</td>\n",
              "      <td>3</td>\n",
              "      <td>0</td>\n",
              "      <td>0</td>\n",
              "      <td>3</td>\n",
              "      <td>1</td>\n",
              "      <td>0</td>\n",
              "    </tr>\n",
              "    <tr>\n",
              "      <th>118</th>\n",
              "      <td>141</td>\n",
              "      <td>christinemills@mcgee.com</td>\n",
              "      <td>(651)355-4709</td>\n",
              "      <td>zbn9it3s7yl69bjtrnqf</td>\n",
              "      <td>45.203.99.249</td>\n",
              "      <td>5156 Greene Park Apt. 748\\nNew Sandra, CA 1480...</td>\n",
              "      <td>5</td>\n",
              "      <td>5</td>\n",
              "      <td>2</td>\n",
              "      <td>True</td>\n",
              "      <td>125</td>\n",
              "      <td>0</td>\n",
              "      <td>0</td>\n",
              "      <td>2</td>\n",
              "      <td>0</td>\n",
              "      <td>3</td>\n",
              "      <td>0</td>\n",
              "      <td>4</td>\n",
              "      <td>0</td>\n",
              "      <td>1</td>\n",
              "      <td>0</td>\n",
              "      <td>0</td>\n",
              "      <td>0</td>\n",
              "      <td>0</td>\n",
              "      <td>5</td>\n",
              "      <td>0</td>\n",
              "      <td>0</td>\n",
              "      <td>0</td>\n",
              "      <td>0</td>\n",
              "      <td>0</td>\n",
              "      <td>0</td>\n",
              "      <td>3</td>\n",
              "      <td>1</td>\n",
              "      <td>0</td>\n",
              "    </tr>\n",
              "  </tbody>\n",
              "</table>\n",
              "</div>\n",
              "      <button class=\"colab-df-convert\" onclick=\"convertToInteractive('df-3ca3808a-7454-49b6-8a34-24402311e16c')\"\n",
              "              title=\"Convert this dataframe to an interactive table.\"\n",
              "              style=\"display:none;\">\n",
              "        \n",
              "  <svg xmlns=\"http://www.w3.org/2000/svg\" height=\"24px\"viewBox=\"0 0 24 24\"\n",
              "       width=\"24px\">\n",
              "    <path d=\"M0 0h24v24H0V0z\" fill=\"none\"/>\n",
              "    <path d=\"M18.56 5.44l.94 2.06.94-2.06 2.06-.94-2.06-.94-.94-2.06-.94 2.06-2.06.94zm-11 1L8.5 8.5l.94-2.06 2.06-.94-2.06-.94L8.5 2.5l-.94 2.06-2.06.94zm10 10l.94 2.06.94-2.06 2.06-.94-2.06-.94-.94-2.06-.94 2.06-2.06.94z\"/><path d=\"M17.41 7.96l-1.37-1.37c-.4-.4-.92-.59-1.43-.59-.52 0-1.04.2-1.43.59L10.3 9.45l-7.72 7.72c-.78.78-.78 2.05 0 2.83L4 21.41c.39.39.9.59 1.41.59.51 0 1.02-.2 1.41-.59l7.78-7.78 2.81-2.81c.8-.78.8-2.07 0-2.86zM5.41 20L4 18.59l7.72-7.72 1.47 1.35L5.41 20z\"/>\n",
              "  </svg>\n",
              "      </button>\n",
              "      \n",
              "  <style>\n",
              "    .colab-df-container {\n",
              "      display:flex;\n",
              "      flex-wrap:wrap;\n",
              "      gap: 12px;\n",
              "    }\n",
              "\n",
              "    .colab-df-convert {\n",
              "      background-color: #E8F0FE;\n",
              "      border: none;\n",
              "      border-radius: 50%;\n",
              "      cursor: pointer;\n",
              "      display: none;\n",
              "      fill: #1967D2;\n",
              "      height: 32px;\n",
              "      padding: 0 0 0 0;\n",
              "      width: 32px;\n",
              "    }\n",
              "\n",
              "    .colab-df-convert:hover {\n",
              "      background-color: #E2EBFA;\n",
              "      box-shadow: 0px 1px 2px rgba(60, 64, 67, 0.3), 0px 1px 3px 1px rgba(60, 64, 67, 0.15);\n",
              "      fill: #174EA6;\n",
              "    }\n",
              "\n",
              "    [theme=dark] .colab-df-convert {\n",
              "      background-color: #3B4455;\n",
              "      fill: #D2E3FC;\n",
              "    }\n",
              "\n",
              "    [theme=dark] .colab-df-convert:hover {\n",
              "      background-color: #434B5C;\n",
              "      box-shadow: 0px 1px 3px 1px rgba(0, 0, 0, 0.15);\n",
              "      filter: drop-shadow(0px 1px 2px rgba(0, 0, 0, 0.3));\n",
              "      fill: #FFFFFF;\n",
              "    }\n",
              "  </style>\n",
              "\n",
              "      <script>\n",
              "        const buttonEl =\n",
              "          document.querySelector('#df-3ca3808a-7454-49b6-8a34-24402311e16c button.colab-df-convert');\n",
              "        buttonEl.style.display =\n",
              "          google.colab.kernel.accessAllowed ? 'block' : 'none';\n",
              "\n",
              "        async function convertToInteractive(key) {\n",
              "          const element = document.querySelector('#df-3ca3808a-7454-49b6-8a34-24402311e16c');\n",
              "          const dataTable =\n",
              "            await google.colab.kernel.invokeFunction('convertToInteractive',\n",
              "                                                     [key], {});\n",
              "          if (!dataTable) return;\n",
              "\n",
              "          const docLinkHtml = 'Like what you see? Visit the ' +\n",
              "            '<a target=\"_blank\" href=https://colab.research.google.com/notebooks/data_table.ipynb>data table notebook</a>'\n",
              "            + ' to learn more about interactive tables.';\n",
              "          element.innerHTML = '';\n",
              "          dataTable['output_type'] = 'display_data';\n",
              "          await google.colab.output.renderOutput(dataTable, element);\n",
              "          const docLink = document.createElement('div');\n",
              "          docLink.innerHTML = docLinkHtml;\n",
              "          element.appendChild(docLink);\n",
              "        }\n",
              "      </script>\n",
              "    </div>\n",
              "  </div>\n",
              "  "
            ]
          },
          "metadata": {},
          "execution_count": 496
        }
      ]
    },
    {
      "cell_type": "markdown",
      "source": [
        "From this we can see that these 4 customers have the same IP address and as it is not possible for different devices to have the same IP therefore these are definitely fraud."
      ],
      "metadata": {
        "id": "rmAlEFDIHQrz"
      }
    },
    {
      "cell_type": "code",
      "source": [
        "final[final['Duplicate_Address']>0]"
      ],
      "metadata": {
        "colab": {
          "base_uri": "https://localhost:8080/"
        },
        "id": "ZOwXb3LUHB6T",
        "outputId": "e6588eaf-67c9-40a0-f437-952b9a2d33bb"
      },
      "execution_count": null,
      "outputs": [
        {
          "output_type": "execute_result",
          "data": {
            "text/plain": [
              "    index             customerEmail       customerPhone        customerDevice  \\\n",
              "47     57    feliciabrown@gmail.com       (226)129-2677  z7xkuohhjbtiqs6q9rk9   \n",
              "67     80   warrenedward@arnold.com  201.737.5119x64000  6py7ewqjkxjw8zjl9eri   \n",
              "75     90  brittanydean@hotmail.com         06238721842  yq8xiivmx4prlgx0gofo   \n",
              "\n",
              "                        customerIPAddress  \\\n",
              "47                        115.137.171.103   \n",
              "67                          45.203.99.249   \n",
              "75  3517:8e52:885:8640:a59:f5fd:cb33:b06a   \n",
              "\n",
              "                               customerBillingAddress  No_Transactions  \\\n",
              "47  49680 Brian Squares Apt. 122\\nPort Walterburgh...                1   \n",
              "67  49680 Brian Squares Apt. 122\\nPort Walterburgh...                4   \n",
              "75  49680 Brian Squares Apt. 122\\nPort Walterburgh...                6   \n",
              "\n",
              "    No_Orders  No_Payments  Fraud  Total_transaction_amt  No_transactionsFail  \\\n",
              "47          1            1   True                     41                    0   \n",
              "67          4           14   True                    117                    0   \n",
              "75          4            1   True                    202                    2   \n",
              "\n",
              "    PaymentRegFail  PaypalPayments  ApplePayments  CardPayments  \\\n",
              "47               0               0              0             1   \n",
              "67               2               0              1             3   \n",
              "75               0               0              0             6   \n",
              "\n",
              "    BitcoinPayments  OrdersFulfilled  OrdersPending  OrdersFailed  JCB_16  \\\n",
              "47                0                1              0             0       1   \n",
              "67                0                4              0             0       0   \n",
              "75                0                6              0             0       0   \n",
              "\n",
              "    AmericanExp  VISA_16  Discover  Voyager  VISA_13  Maestro  Mastercard  \\\n",
              "47            0        0         0        0        0        0           0   \n",
              "67            2        0         0        1        1        0           0   \n",
              "75            0        0         0        6        0        0           0   \n",
              "\n",
              "    DC_CB  JCB_15  Trns_fail_order_fulfilled  Duplicate_IP  Fraud_Decoded  \\\n",
              "47      0       0                          0             0              1   \n",
              "67      0       0                          0             3              1   \n",
              "75      0       0                          2             0              1   \n",
              "\n",
              "    Duplicate_Address  \n",
              "47                  2  \n",
              "67                  2  \n",
              "75                  2  "
            ],
            "text/html": [
              "\n",
              "  <div id=\"df-2d736b9e-4792-4aec-be16-bf2bf38358ab\">\n",
              "    <div class=\"colab-df-container\">\n",
              "      <div>\n",
              "<style scoped>\n",
              "    .dataframe tbody tr th:only-of-type {\n",
              "        vertical-align: middle;\n",
              "    }\n",
              "\n",
              "    .dataframe tbody tr th {\n",
              "        vertical-align: top;\n",
              "    }\n",
              "\n",
              "    .dataframe thead th {\n",
              "        text-align: right;\n",
              "    }\n",
              "</style>\n",
              "<table border=\"1\" class=\"dataframe\">\n",
              "  <thead>\n",
              "    <tr style=\"text-align: right;\">\n",
              "      <th></th>\n",
              "      <th>index</th>\n",
              "      <th>customerEmail</th>\n",
              "      <th>customerPhone</th>\n",
              "      <th>customerDevice</th>\n",
              "      <th>customerIPAddress</th>\n",
              "      <th>customerBillingAddress</th>\n",
              "      <th>No_Transactions</th>\n",
              "      <th>No_Orders</th>\n",
              "      <th>No_Payments</th>\n",
              "      <th>Fraud</th>\n",
              "      <th>Total_transaction_amt</th>\n",
              "      <th>No_transactionsFail</th>\n",
              "      <th>PaymentRegFail</th>\n",
              "      <th>PaypalPayments</th>\n",
              "      <th>ApplePayments</th>\n",
              "      <th>CardPayments</th>\n",
              "      <th>BitcoinPayments</th>\n",
              "      <th>OrdersFulfilled</th>\n",
              "      <th>OrdersPending</th>\n",
              "      <th>OrdersFailed</th>\n",
              "      <th>JCB_16</th>\n",
              "      <th>AmericanExp</th>\n",
              "      <th>VISA_16</th>\n",
              "      <th>Discover</th>\n",
              "      <th>Voyager</th>\n",
              "      <th>VISA_13</th>\n",
              "      <th>Maestro</th>\n",
              "      <th>Mastercard</th>\n",
              "      <th>DC_CB</th>\n",
              "      <th>JCB_15</th>\n",
              "      <th>Trns_fail_order_fulfilled</th>\n",
              "      <th>Duplicate_IP</th>\n",
              "      <th>Fraud_Decoded</th>\n",
              "      <th>Duplicate_Address</th>\n",
              "    </tr>\n",
              "  </thead>\n",
              "  <tbody>\n",
              "    <tr>\n",
              "      <th>47</th>\n",
              "      <td>57</td>\n",
              "      <td>feliciabrown@gmail.com</td>\n",
              "      <td>(226)129-2677</td>\n",
              "      <td>z7xkuohhjbtiqs6q9rk9</td>\n",
              "      <td>115.137.171.103</td>\n",
              "      <td>49680 Brian Squares Apt. 122\\nPort Walterburgh...</td>\n",
              "      <td>1</td>\n",
              "      <td>1</td>\n",
              "      <td>1</td>\n",
              "      <td>True</td>\n",
              "      <td>41</td>\n",
              "      <td>0</td>\n",
              "      <td>0</td>\n",
              "      <td>0</td>\n",
              "      <td>0</td>\n",
              "      <td>1</td>\n",
              "      <td>0</td>\n",
              "      <td>1</td>\n",
              "      <td>0</td>\n",
              "      <td>0</td>\n",
              "      <td>1</td>\n",
              "      <td>0</td>\n",
              "      <td>0</td>\n",
              "      <td>0</td>\n",
              "      <td>0</td>\n",
              "      <td>0</td>\n",
              "      <td>0</td>\n",
              "      <td>0</td>\n",
              "      <td>0</td>\n",
              "      <td>0</td>\n",
              "      <td>0</td>\n",
              "      <td>0</td>\n",
              "      <td>1</td>\n",
              "      <td>2</td>\n",
              "    </tr>\n",
              "    <tr>\n",
              "      <th>67</th>\n",
              "      <td>80</td>\n",
              "      <td>warrenedward@arnold.com</td>\n",
              "      <td>201.737.5119x64000</td>\n",
              "      <td>6py7ewqjkxjw8zjl9eri</td>\n",
              "      <td>45.203.99.249</td>\n",
              "      <td>49680 Brian Squares Apt. 122\\nPort Walterburgh...</td>\n",
              "      <td>4</td>\n",
              "      <td>4</td>\n",
              "      <td>14</td>\n",
              "      <td>True</td>\n",
              "      <td>117</td>\n",
              "      <td>0</td>\n",
              "      <td>2</td>\n",
              "      <td>0</td>\n",
              "      <td>1</td>\n",
              "      <td>3</td>\n",
              "      <td>0</td>\n",
              "      <td>4</td>\n",
              "      <td>0</td>\n",
              "      <td>0</td>\n",
              "      <td>0</td>\n",
              "      <td>2</td>\n",
              "      <td>0</td>\n",
              "      <td>0</td>\n",
              "      <td>1</td>\n",
              "      <td>1</td>\n",
              "      <td>0</td>\n",
              "      <td>0</td>\n",
              "      <td>0</td>\n",
              "      <td>0</td>\n",
              "      <td>0</td>\n",
              "      <td>3</td>\n",
              "      <td>1</td>\n",
              "      <td>2</td>\n",
              "    </tr>\n",
              "    <tr>\n",
              "      <th>75</th>\n",
              "      <td>90</td>\n",
              "      <td>brittanydean@hotmail.com</td>\n",
              "      <td>06238721842</td>\n",
              "      <td>yq8xiivmx4prlgx0gofo</td>\n",
              "      <td>3517:8e52:885:8640:a59:f5fd:cb33:b06a</td>\n",
              "      <td>49680 Brian Squares Apt. 122\\nPort Walterburgh...</td>\n",
              "      <td>6</td>\n",
              "      <td>4</td>\n",
              "      <td>1</td>\n",
              "      <td>True</td>\n",
              "      <td>202</td>\n",
              "      <td>2</td>\n",
              "      <td>0</td>\n",
              "      <td>0</td>\n",
              "      <td>0</td>\n",
              "      <td>6</td>\n",
              "      <td>0</td>\n",
              "      <td>6</td>\n",
              "      <td>0</td>\n",
              "      <td>0</td>\n",
              "      <td>0</td>\n",
              "      <td>0</td>\n",
              "      <td>0</td>\n",
              "      <td>0</td>\n",
              "      <td>6</td>\n",
              "      <td>0</td>\n",
              "      <td>0</td>\n",
              "      <td>0</td>\n",
              "      <td>0</td>\n",
              "      <td>0</td>\n",
              "      <td>2</td>\n",
              "      <td>0</td>\n",
              "      <td>1</td>\n",
              "      <td>2</td>\n",
              "    </tr>\n",
              "  </tbody>\n",
              "</table>\n",
              "</div>\n",
              "      <button class=\"colab-df-convert\" onclick=\"convertToInteractive('df-2d736b9e-4792-4aec-be16-bf2bf38358ab')\"\n",
              "              title=\"Convert this dataframe to an interactive table.\"\n",
              "              style=\"display:none;\">\n",
              "        \n",
              "  <svg xmlns=\"http://www.w3.org/2000/svg\" height=\"24px\"viewBox=\"0 0 24 24\"\n",
              "       width=\"24px\">\n",
              "    <path d=\"M0 0h24v24H0V0z\" fill=\"none\"/>\n",
              "    <path d=\"M18.56 5.44l.94 2.06.94-2.06 2.06-.94-2.06-.94-.94-2.06-.94 2.06-2.06.94zm-11 1L8.5 8.5l.94-2.06 2.06-.94-2.06-.94L8.5 2.5l-.94 2.06-2.06.94zm10 10l.94 2.06.94-2.06 2.06-.94-2.06-.94-.94-2.06-.94 2.06-2.06.94z\"/><path d=\"M17.41 7.96l-1.37-1.37c-.4-.4-.92-.59-1.43-.59-.52 0-1.04.2-1.43.59L10.3 9.45l-7.72 7.72c-.78.78-.78 2.05 0 2.83L4 21.41c.39.39.9.59 1.41.59.51 0 1.02-.2 1.41-.59l7.78-7.78 2.81-2.81c.8-.78.8-2.07 0-2.86zM5.41 20L4 18.59l7.72-7.72 1.47 1.35L5.41 20z\"/>\n",
              "  </svg>\n",
              "      </button>\n",
              "      \n",
              "  <style>\n",
              "    .colab-df-container {\n",
              "      display:flex;\n",
              "      flex-wrap:wrap;\n",
              "      gap: 12px;\n",
              "    }\n",
              "\n",
              "    .colab-df-convert {\n",
              "      background-color: #E8F0FE;\n",
              "      border: none;\n",
              "      border-radius: 50%;\n",
              "      cursor: pointer;\n",
              "      display: none;\n",
              "      fill: #1967D2;\n",
              "      height: 32px;\n",
              "      padding: 0 0 0 0;\n",
              "      width: 32px;\n",
              "    }\n",
              "\n",
              "    .colab-df-convert:hover {\n",
              "      background-color: #E2EBFA;\n",
              "      box-shadow: 0px 1px 2px rgba(60, 64, 67, 0.3), 0px 1px 3px 1px rgba(60, 64, 67, 0.15);\n",
              "      fill: #174EA6;\n",
              "    }\n",
              "\n",
              "    [theme=dark] .colab-df-convert {\n",
              "      background-color: #3B4455;\n",
              "      fill: #D2E3FC;\n",
              "    }\n",
              "\n",
              "    [theme=dark] .colab-df-convert:hover {\n",
              "      background-color: #434B5C;\n",
              "      box-shadow: 0px 1px 3px 1px rgba(0, 0, 0, 0.15);\n",
              "      filter: drop-shadow(0px 1px 2px rgba(0, 0, 0, 0.3));\n",
              "      fill: #FFFFFF;\n",
              "    }\n",
              "  </style>\n",
              "\n",
              "      <script>\n",
              "        const buttonEl =\n",
              "          document.querySelector('#df-2d736b9e-4792-4aec-be16-bf2bf38358ab button.colab-df-convert');\n",
              "        buttonEl.style.display =\n",
              "          google.colab.kernel.accessAllowed ? 'block' : 'none';\n",
              "\n",
              "        async function convertToInteractive(key) {\n",
              "          const element = document.querySelector('#df-2d736b9e-4792-4aec-be16-bf2bf38358ab');\n",
              "          const dataTable =\n",
              "            await google.colab.kernel.invokeFunction('convertToInteractive',\n",
              "                                                     [key], {});\n",
              "          if (!dataTable) return;\n",
              "\n",
              "          const docLinkHtml = 'Like what you see? Visit the ' +\n",
              "            '<a target=\"_blank\" href=https://colab.research.google.com/notebooks/data_table.ipynb>data table notebook</a>'\n",
              "            + ' to learn more about interactive tables.';\n",
              "          element.innerHTML = '';\n",
              "          dataTable['output_type'] = 'display_data';\n",
              "          await google.colab.output.renderOutput(dataTable, element);\n",
              "          const docLink = document.createElement('div');\n",
              "          docLink.innerHTML = docLinkHtml;\n",
              "          element.appendChild(docLink);\n",
              "        }\n",
              "      </script>\n",
              "    </div>\n",
              "  </div>\n",
              "  "
            ]
          },
          "metadata": {},
          "execution_count": 497
        }
      ]
    },
    {
      "cell_type": "markdown",
      "source": [
        "These 3 customers have the same Billing Address and hence these 3 are Fraud."
      ],
      "metadata": {
        "id": "IapIEk_aHW15"
      }
    },
    {
      "cell_type": "code",
      "source": [
        "sns.countplot(x = final['OrdersFulfilled'], hue = final['Fraud'])"
      ],
      "metadata": {
        "colab": {
          "base_uri": "https://localhost:8080/"
        },
        "id": "0Q0V7kZ9HB3V",
        "outputId": "bc317cca-a065-402b-863e-1d51da9fcbe1"
      },
      "execution_count": null,
      "outputs": [
        {
          "output_type": "execute_result",
          "data": {
            "text/plain": [
              "<matplotlib.axes._subplots.AxesSubplot at 0x7f9774d08b50>"
            ]
          },
          "metadata": {},
          "execution_count": 498
        },
        {
          "output_type": "display_data",
          "data": {
            "text/plain": [
              "<Figure size 432x288 with 1 Axes>"
            ],
            "image/png": "[encoded data removed]"
          },
          "metadata": {
            "needs_background": "light"
          }
        }
      ]
    },
    {
      "cell_type": "markdown",
      "source": [
        "From this we can see that if Number of Orders Fulfilled is greater than 8 then the transaction is definitely fraudulent."
      ],
      "metadata": {
        "id": "4t9j03MhHdlT"
      }
    },
    {
      "cell_type": "code",
      "source": [],
      "metadata": {
        "id": "aOMHVN_HVnA7"
      },
      "execution_count": null,
      "outputs": []
    },
    {
      "cell_type": "code",
      "source": [],
      "metadata": {
        "id": "WxOWhH8NVnEc"
      },
      "execution_count": null,
      "outputs": []
    },
    {
      "cell_type": "code",
      "source": [],
      "metadata": {
        "id": "p54WOaPJVnGb"
      },
      "execution_count": null,
      "outputs": []
    },
    {
      "cell_type": "code",
      "source": [],
      "metadata": {
        "id": "bjMHIE6IVnI2"
      },
      "execution_count": null,
      "outputs": []
    },
    {
      "cell_type": "code",
      "source": [],
      "metadata": {
        "id": "VWcL7VyKVnKN"
      },
      "execution_count": null,
      "outputs": []
    },
    {
      "cell_type": "markdown",
      "source": [
        "# **Modeling**"
      ],
      "metadata": {
        "id": "op9c638EHlt3"
      }
    },
    {
      "cell_type": "code",
      "source": [
        "#Preparing data to feed into model.\n",
        "X = final[['No_Transactions',\n",
        "       'No_Orders', 'No_Payments', 'Total_transaction_amt',\n",
        "       'No_transactionsFail', 'PaymentRegFail', 'PaypalPayments',\n",
        "       'ApplePayments', 'CardPayments', 'BitcoinPayments', 'OrdersFulfilled',\n",
        "       'OrdersPending', 'OrdersFailed','Trns_fail_order_fulfilled','Duplicate_IP','Duplicate_Address','JCB_16', 'AmericanExp', 'VISA_16',\n",
        "       'Discover', 'Voyager', 'VISA_13', 'Maestro', 'Mastercard', 'DC_CB',\n",
        "       'JCB_15']]\n",
        "y = final['Fraud_Decoded']"
      ],
      "metadata": {
        "id": "cH-35hT9HfEQ"
      },
      "execution_count": null,
      "outputs": []
    },
    {
      "cell_type": "code",
      "source": [
        "#Splitting the data into training and testing set.\n",
        "X_train, X_test, y_train, y_test = train_test_split(X, y, test_size=0.33, random_state=42)"
      ],
      "metadata": {
        "id": "zKuosob7He6v"
      },
      "execution_count": null,
      "outputs": []
    },
    {
      "cell_type": "code",
      "source": [
        "#knn\n",
        "test_error_rate=[]\n",
        "for k in range(1,30):\n",
        "    knn_midel=KNeighborsClassifier(n_neighbors=k)\n",
        "    knn_midel.fit(X_train,y_train)\n",
        "    y_p_test=knn_midel.predict(X_test)\n",
        "    test_error=1-accuracy_score(y_test,y_p_test)\n",
        "    test_error_rate.append(test_error)"
      ],
      "metadata": {
        "id": "yClNg0lKTAM2"
      },
      "execution_count": null,
      "outputs": []
    },
    {
      "cell_type": "code",
      "source": [
        "plt.figure(figsize=(12,6))\n",
        "plt.plot(range(1,30),test_error_rate,label='test_error')\n",
        "plt.legend()\n",
        "plt.xlabel('k Value')\n",
        "plt.ylabel('Error')\n",
        "plt.show()"
      ],
      "metadata": {
        "colab": {
          "base_uri": "https://localhost:8080/"
        },
        "id": "wyOkCkQUTD1Z",
        "outputId": "c9991063-8758-4e69-b246-b9c3a0dc0675"
      },
      "execution_count": null,
      "outputs": [
        {
          "output_type": "display_data",
          "data": {
            "text/plain": [
              "<Figure size 864x432 with 1 Axes>"
            ],
            "image/png": "[encoded data removed]"
          },
          "metadata": {
            "needs_background": "light"
          }
        }
      ]
    },
    {
      "cell_type": "code",
      "source": [
        "knn_model = KNeighborsClassifier(n_neighbors = 6)\n",
        "knn_model = knn_model.fit(X_train,y_train)"
      ],
      "metadata": {
        "id": "h8PHqoOhTbDp"
      },
      "execution_count": null,
      "outputs": []
    },
    {
      "cell_type": "code",
      "source": [
        "y_pred_knn = knn_model.predict(X_test)\n",
        "y_pred_knn"
      ],
      "metadata": {
        "colab": {
          "base_uri": "https://localhost:8080/"
        },
        "id": "gIlE9MtaTd0n",
        "outputId": "04f3890f-ed11-4f0f-9c4e-cac885f4c8ac"
      },
      "execution_count": null,
      "outputs": [
        {
          "output_type": "execute_result",
          "data": {
            "text/plain": [
              "array([0, 0, 1, 0, 0, 0, 0, 1, 1, 0, 0, 0, 0, 0, 0, 0, 1, 0, 0, 0, 0, 0,\n",
              "       0, 0, 1, 1, 0, 1, 0, 0, 0, 0, 1, 0, 0, 0, 0, 1, 0, 0, 0, 0, 0, 0,\n",
              "       0, 0, 0, 0])"
            ]
          },
          "metadata": {},
          "execution_count": 504
        }
      ]
    },
    {
      "cell_type": "code",
      "source": [
        "print(classification_report(y_test, y_pred_knn))\n",
        "sns.heatmap(confusion_matrix(y_test, y_pred_knn), annot = True)"
      ],
      "metadata": {
        "colab": {
          "base_uri": "https://localhost:8080/"
        },
        "id": "8Lbh8pWeTdu2",
        "outputId": "2aa266c2-c996-48da-d1eb-775ee2c7e621"
      },
      "execution_count": null,
      "outputs": [
        {
          "output_type": "stream",
          "name": "stdout",
          "text": [
            "              precision    recall  f1-score   support\n",
            "\n",
            "           0       0.82      1.00      0.90        32\n",
            "           1       1.00      0.56      0.72        16\n",
            "\n",
            "    accuracy                           0.85        48\n",
            "   macro avg       0.91      0.78      0.81        48\n",
            "weighted avg       0.88      0.85      0.84        48\n",
            "\n"
          ]
        },
        {
          "output_type": "execute_result",
          "data": {
            "text/plain": [
              "<matplotlib.axes._subplots.AxesSubplot at 0x7f9775682410>"
            ]
          },
          "metadata": {},
          "execution_count": 505
        },
        {
          "output_type": "display_data",
          "data": {
            "text/plain": [
              "<Figure size 432x288 with 2 Axes>"
            ],
            "image/png": "[encoded data removed]"
          },
          "metadata": {
            "needs_background": "light"
          }
        }
      ]
    },
    {
      "cell_type": "code",
      "source": [
        "#randomforest\n",
        "rfc = RandomForestClassifier(n_estimators=150)\n",
        "rfc.fit(X_train,y_train)\n",
        "pred = rfc.predict(X_test)\n",
        "print(accuracy_score(y_test,pred))\n",
        "sns.heatmap(data = confusion_matrix(y_test,pred),annot = True)\n",
        "print(classification_report(y_test,pred))"
      ],
      "metadata": {
        "colab": {
          "base_uri": "https://localhost:8080/"
        },
        "id": "etbtcshRGHIy",
        "outputId": "a66c6caf-9dfc-45ad-e14f-370c3c1bca84"
      },
      "execution_count": null,
      "outputs": [
        {
          "output_type": "stream",
          "name": "stdout",
          "text": [
            "0.8333333333333334\n",
            "              precision    recall  f1-score   support\n",
            "\n",
            "           0       0.85      0.91      0.88        32\n",
            "           1       0.79      0.69      0.73        16\n",
            "\n",
            "    accuracy                           0.83        48\n",
            "   macro avg       0.82      0.80      0.81        48\n",
            "weighted avg       0.83      0.83      0.83        48\n",
            "\n"
          ]
        },
        {
          "output_type": "display_data",
          "data": {
            "text/plain": [
              "<Figure size 432x288 with 2 Axes>"
            ],
            "image/png": "[encoded data removed]"
          },
          "metadata": {
            "needs_background": "light"
          }
        }
      ]
    },
    {
      "cell_type": "code",
      "source": [
        "pred"
      ],
      "metadata": {
        "colab": {
          "base_uri": "https://localhost:8080/"
        },
        "id": "a9BhmRf1I6Uw",
        "outputId": "ea57683c-078f-483f-f2be-6ba4b60f5e9b"
      },
      "execution_count": null,
      "outputs": [
        {
          "output_type": "execute_result",
          "data": {
            "text/plain": [
              "array([0, 0, 1, 0, 0, 0, 0, 1, 1, 0, 0, 1, 0, 0, 1, 0, 1, 0, 1, 0, 0, 0,\n",
              "       0, 0, 1, 1, 0, 1, 0, 0, 0, 0, 1, 0, 1, 0, 0, 1, 0, 0, 0, 0, 0, 0,\n",
              "       0, 0, 1, 0])"
            ]
          },
          "metadata": {},
          "execution_count": 507
        }
      ]
    },
    {
      "cell_type": "code",
      "source": [
        "#Logistic Regression Model.\n",
        "logr = LogisticRegression()\n",
        "logr.fit(X_train,y_train)\n",
        "log_pred =logr.predict(X_test)\n",
        "print(accuracy_score(y_test,log_pred))\n",
        "sns.heatmap(data=confusion_matrix(y_test,log_pred),annot = True)\n",
        "print(classification_report(y_test,log_pred))"
      ],
      "metadata": {
        "colab": {
          "base_uri": "https://localhost:8080/"
        },
        "id": "qxsxrAR_GHGJ",
        "outputId": "6457783c-af78-4bce-fd08-7543b53de63b"
      },
      "execution_count": null,
      "outputs": [
        {
          "output_type": "stream",
          "name": "stderr",
          "text": [
            "/usr/local/lib/python3.7/dist-packages/sklearn/linear_model/_logistic.py:818: ConvergenceWarning: lbfgs failed to converge (status=1):\n",
            "STOP: TOTAL NO. of ITERATIONS REACHED LIMIT.\n",
            "\n",
            "Increase the number of iterations (max_iter) or scale the data as shown in:\n",
            "    https://scikit-learn.org/stable/modules/preprocessing.html\n",
            "Please also refer to the documentation for alternative solver options:\n",
            "    https://scikit-learn.org/stable/modules/linear_model.html#logistic-regression\n",
            "  extra_warning_msg=_LOGISTIC_SOLVER_CONVERGENCE_MSG,\n"
          ]
        },
        {
          "output_type": "stream",
          "name": "stdout",
          "text": [
            "0.7291666666666666\n",
            "              precision    recall  f1-score   support\n",
            "\n",
            "           0       0.83      0.75      0.79        32\n",
            "           1       0.58      0.69      0.63        16\n",
            "\n",
            "    accuracy                           0.73        48\n",
            "   macro avg       0.70      0.72      0.71        48\n",
            "weighted avg       0.74      0.73      0.73        48\n",
            "\n"
          ]
        },
        {
          "output_type": "display_data",
          "data": {
            "text/plain": [
              "<Figure size 432x288 with 2 Axes>"
            ],
            "image/png": "[encoded data removed]"
          },
          "metadata": {
            "needs_background": "light"
          }
        }
      ]
    },
    {
      "cell_type": "code",
      "source": [
        "log_pred"
      ],
      "metadata": {
        "colab": {
          "base_uri": "https://localhost:8080/"
        },
        "id": "A28I43iuJAMY",
        "outputId": "189f6c85-1ec8-43db-ee14-6ba1ef616774"
      },
      "execution_count": null,
      "outputs": [
        {
          "output_type": "execute_result",
          "data": {
            "text/plain": [
              "array([0, 0, 1, 0, 1, 0, 0, 0, 1, 0, 0, 1, 0, 0, 1, 0, 1, 0, 0, 0, 1, 0,\n",
              "       0, 0, 1, 1, 0, 1, 1, 1, 0, 0, 1, 1, 1, 0, 0, 1, 1, 0, 0, 1, 0, 0,\n",
              "       0, 0, 1, 0])"
            ]
          },
          "metadata": {},
          "execution_count": 509
        }
      ]
    },
    {
      "cell_type": "code",
      "source": [
        "#Support Vector Machines Ckassifier.\n",
        "from sklearn.svm import SVC\n",
        "svc = SVC(gamma = 'auto')\n",
        "svc.fit(X_train,y_train)\n",
        "svc_pred=svc.predict(X_test)\n",
        "print(accuracy_score(y_test,pred))\n",
        "sns.heatmap(data = confusion_matrix(y_test,pred),annot = True)\n",
        "print(classification_report(y_test,pred))"
      ],
      "metadata": {
        "colab": {
          "base_uri": "https://localhost:8080/"
        },
        "id": "p0nFuAGtGHDi",
        "outputId": "c0c2378a-9689-4a0e-ed29-df03f32eaf6e"
      },
      "execution_count": null,
      "outputs": [
        {
          "output_type": "stream",
          "name": "stdout",
          "text": [
            "0.8333333333333334\n",
            "              precision    recall  f1-score   support\n",
            "\n",
            "           0       0.85      0.91      0.88        32\n",
            "           1       0.79      0.69      0.73        16\n",
            "\n",
            "    accuracy                           0.83        48\n",
            "   macro avg       0.82      0.80      0.81        48\n",
            "weighted avg       0.83      0.83      0.83        48\n",
            "\n"
          ]
        },
        {
          "output_type": "display_data",
          "data": {
            "text/plain": [
              "<Figure size 432x288 with 2 Axes>"
            ],
            "image/png": "[encoded data removed]"
          },
          "metadata": {
            "needs_background": "light"
          }
        }
      ]
    },
    {
      "cell_type": "markdown",
      "source": [
        "Logistic Regression Model is giving the best outcome "
      ],
      "metadata": {
        "id": "7pfYWJ6DJFSd"
      }
    },
    {
      "cell_type": "markdown",
      "source": [
        "*HyperParameter Tuning: #Using Grid Search Cross Validation to fine tune the models to improve accuracy.\n",
        "*"
      ],
      "metadata": {
        "id": "-B5rfPdsJaRm"
      }
    },
    {
      "cell_type": "code",
      "source": [
        "#Applying Grid Search CV on Support Vector Classifier.\n",
        "svc_param_grid = {'C': [0.1,1, 10, 100, 1000], 'gamma': [1,0.1,0.01,0.001,0.0001], 'kernel': ['rbf']} "
      ],
      "metadata": {
        "id": "TwjNBeL5IxJq"
      },
      "execution_count": null,
      "outputs": []
    },
    {
      "cell_type": "code",
      "source": [
        "svc_param_grid = {'C': [0.1,1, 10, 100, 1000], 'gamma': [1,0.1,0.01,0.001,0.0001], 'kernel': ['rbf']} "
      ],
      "metadata": {
        "id": "UUa6cKbSIxDN"
      },
      "execution_count": null,
      "outputs": []
    },
    {
      "cell_type": "code",
      "source": [
        "gridsvc = GridSearchCV(SVC(),svc_param_grid,refit=True,verbose=3)"
      ],
      "metadata": {
        "id": "masqYCfrJZmL"
      },
      "execution_count": null,
      "outputs": []
    },
    {
      "cell_type": "code",
      "source": [
        "gridsvc.fit(X_train,y_train)"
      ],
      "metadata": {
        "colab": {
          "base_uri": "https://localhost:8080/"
        },
        "id": "j-QLGviPJZjv",
        "outputId": "d5e51052-48f6-4fce-c92f-ff3ff12b40f3"
      },
      "execution_count": null,
      "outputs": [
        {
          "output_type": "stream",
          "name": "stdout",
          "text": [
            "Fitting 5 folds for each of 25 candidates, totalling 125 fits\n",
            "[CV 1/5] END ........C=0.1, gamma=1, kernel=rbf;, score=0.579 total time=   0.0s\n",
            "[CV 2/5] END ........C=0.1, gamma=1, kernel=rbf;, score=0.579 total time=   0.0s\n",
            "[CV 3/5] END ........C=0.1, gamma=1, kernel=rbf;, score=0.579 total time=   0.0s\n",
            "[CV 4/5] END ........C=0.1, gamma=1, kernel=rbf;, score=0.579 total time=   0.0s\n",
            "[CV 5/5] END ........C=0.1, gamma=1, kernel=rbf;, score=0.579 total time=   0.0s\n",
            "[CV 1/5] END ......C=0.1, gamma=0.1, kernel=rbf;, score=0.579 total time=   0.0s\n",
            "[CV 2/5] END ......C=0.1, gamma=0.1, kernel=rbf;, score=0.579 total time=   0.0s\n",
            "[CV 3/5] END ......C=0.1, gamma=0.1, kernel=rbf;, score=0.579 total time=   0.0s\n",
            "[CV 4/5] END ......C=0.1, gamma=0.1, kernel=rbf;, score=0.579 total time=   0.0s\n",
            "[CV 5/5] END ......C=0.1, gamma=0.1, kernel=rbf;, score=0.579 total time=   0.0s\n",
            "[CV 1/5] END .....C=0.1, gamma=0.01, kernel=rbf;, score=0.579 total time=   0.0s\n",
            "[CV 2/5] END .....C=0.1, gamma=0.01, kernel=rbf;, score=0.579 total time=   0.0s\n",
            "[CV 3/5] END .....C=0.1, gamma=0.01, kernel=rbf;, score=0.579 total time=   0.0s\n",
            "[CV 4/5] END .....C=0.1, gamma=0.01, kernel=rbf;, score=0.579 total time=   0.0s\n",
            "[CV 5/5] END .....C=0.1, gamma=0.01, kernel=rbf;, score=0.579 total time=   0.0s\n",
            "[CV 1/5] END ....C=0.1, gamma=0.001, kernel=rbf;, score=0.579 total time=   0.0s\n",
            "[CV 2/5] END ....C=0.1, gamma=0.001, kernel=rbf;, score=0.579 total time=   0.0s\n",
            "[CV 3/5] END ....C=0.1, gamma=0.001, kernel=rbf;, score=0.579 total time=   0.0s\n",
            "[CV 4/5] END ....C=0.1, gamma=0.001, kernel=rbf;, score=0.579 total time=   0.0s\n",
            "[CV 5/5] END ....C=0.1, gamma=0.001, kernel=rbf;, score=0.579 total time=   0.0s\n",
            "[CV 1/5] END ...C=0.1, gamma=0.0001, kernel=rbf;, score=0.579 total time=   0.0s\n",
            "[CV 2/5] END ...C=0.1, gamma=0.0001, kernel=rbf;, score=0.579 total time=   0.4s\n",
            "[CV 3/5] END ...C=0.1, gamma=0.0001, kernel=rbf;, score=0.579 total time=   0.0s\n",
            "[CV 4/5] END ...C=0.1, gamma=0.0001, kernel=rbf;, score=0.579 total time=   0.0s\n",
            "[CV 5/5] END ...C=0.1, gamma=0.0001, kernel=rbf;, score=0.579 total time=   0.0s\n",
            "[CV 1/5] END ..........C=1, gamma=1, kernel=rbf;, score=0.579 total time=   0.0s\n",
            "[CV 2/5] END ..........C=1, gamma=1, kernel=rbf;, score=0.579 total time=   0.0s\n",
            "[CV 3/5] END ..........C=1, gamma=1, kernel=rbf;, score=0.579 total time=   0.0s\n",
            "[CV 4/5] END ..........C=1, gamma=1, kernel=rbf;, score=0.579 total time=   0.0s\n",
            "[CV 5/5] END ..........C=1, gamma=1, kernel=rbf;, score=0.579 total time=   0.0s\n",
            "[CV 1/5] END ........C=1, gamma=0.1, kernel=rbf;, score=0.579 total time=   0.0s\n",
            "[CV 2/5] END ........C=1, gamma=0.1, kernel=rbf;, score=0.684 total time=   0.0s\n",
            "[CV 3/5] END ........C=1, gamma=0.1, kernel=rbf;, score=0.632 total time=   0.0s\n",
            "[CV 4/5] END ........C=1, gamma=0.1, kernel=rbf;, score=0.632 total time=   0.0s\n",
            "[CV 5/5] END ........C=1, gamma=0.1, kernel=rbf;, score=0.579 total time=   0.0s\n",
            "[CV 1/5] END .......C=1, gamma=0.01, kernel=rbf;, score=0.474 total time=   0.0s\n",
            "[CV 2/5] END .......C=1, gamma=0.01, kernel=rbf;, score=0.526 total time=   0.0s\n",
            "[CV 3/5] END .......C=1, gamma=0.01, kernel=rbf;, score=0.632 total time=   0.0s\n",
            "[CV 4/5] END .......C=1, gamma=0.01, kernel=rbf;, score=0.526 total time=   0.0s\n",
            "[CV 5/5] END .......C=1, gamma=0.01, kernel=rbf;, score=0.421 total time=   0.0s\n",
            "[CV 1/5] END ......C=1, gamma=0.001, kernel=rbf;, score=0.632 total time=   0.0s\n",
            "[CV 2/5] END ......C=1, gamma=0.001, kernel=rbf;, score=0.684 total time=   0.0s\n",
            "[CV 3/5] END ......C=1, gamma=0.001, kernel=rbf;, score=0.632 total time=   0.0s\n",
            "[CV 4/5] END ......C=1, gamma=0.001, kernel=rbf;, score=0.632 total time=   0.0s\n",
            "[CV 5/5] END ......C=1, gamma=0.001, kernel=rbf;, score=0.737 total time=   0.0s\n",
            "[CV 1/5] END .....C=1, gamma=0.0001, kernel=rbf;, score=0.632 total time=   0.0s\n",
            "[CV 2/5] END .....C=1, gamma=0.0001, kernel=rbf;, score=0.842 total time=   0.0s\n",
            "[CV 3/5] END .....C=1, gamma=0.0001, kernel=rbf;, score=0.632 total time=   0.0s\n",
            "[CV 4/5] END .....C=1, gamma=0.0001, kernel=rbf;, score=0.632 total time=   0.0s\n",
            "[CV 5/5] END .....C=1, gamma=0.0001, kernel=rbf;, score=0.789 total time=   0.0s\n",
            "[CV 1/5] END .........C=10, gamma=1, kernel=rbf;, score=0.579 total time=   0.0s\n",
            "[CV 2/5] END .........C=10, gamma=1, kernel=rbf;, score=0.579 total time=   0.0s\n",
            "[CV 3/5] END .........C=10, gamma=1, kernel=rbf;, score=0.579 total time=   0.0s\n",
            "[CV 4/5] END .........C=10, gamma=1, kernel=rbf;, score=0.579 total time=   0.0s\n",
            "[CV 5/5] END .........C=10, gamma=1, kernel=rbf;, score=0.579 total time=   0.0s\n",
            "[CV 1/5] END .......C=10, gamma=0.1, kernel=rbf;, score=0.632 total time=   0.0s\n",
            "[CV 2/5] END .......C=10, gamma=0.1, kernel=rbf;, score=0.684 total time=   0.0s\n",
            "[CV 3/5] END .......C=10, gamma=0.1, kernel=rbf;, score=0.632 total time=   0.0s\n",
            "[CV 4/5] END .......C=10, gamma=0.1, kernel=rbf;, score=0.579 total time=   0.0s\n",
            "[CV 5/5] END .......C=10, gamma=0.1, kernel=rbf;, score=0.579 total time=   0.0s\n",
            "[CV 1/5] END ......C=10, gamma=0.01, kernel=rbf;, score=0.632 total time=   0.0s\n",
            "[CV 2/5] END ......C=10, gamma=0.01, kernel=rbf;, score=0.737 total time=   0.0s\n",
            "[CV 3/5] END ......C=10, gamma=0.01, kernel=rbf;, score=0.579 total time=   0.0s\n",
            "[CV 4/5] END ......C=10, gamma=0.01, kernel=rbf;, score=0.421 total time=   0.0s\n",
            "[CV 5/5] END ......C=10, gamma=0.01, kernel=rbf;, score=0.526 total time=   0.0s\n",
            "[CV 1/5] END .....C=10, gamma=0.001, kernel=rbf;, score=0.632 total time=   0.0s\n",
            "[CV 2/5] END .....C=10, gamma=0.001, kernel=rbf;, score=0.684 total time=   0.0s\n",
            "[CV 3/5] END .....C=10, gamma=0.001, kernel=rbf;, score=0.632 total time=   0.0s\n",
            "[CV 4/5] END .....C=10, gamma=0.001, kernel=rbf;, score=0.684 total time=   0.0s\n",
            "[CV 5/5] END .....C=10, gamma=0.001, kernel=rbf;, score=0.526 total time=   0.0s\n",
            "[CV 1/5] END ....C=10, gamma=0.0001, kernel=rbf;, score=0.632 total time=   0.0s\n",
            "[CV 2/5] END ....C=10, gamma=0.0001, kernel=rbf;, score=0.842 total time=   0.0s\n",
            "[CV 3/5] END ....C=10, gamma=0.0001, kernel=rbf;, score=0.632 total time=   0.0s\n",
            "[CV 4/5] END ....C=10, gamma=0.0001, kernel=rbf;, score=0.632 total time=   0.0s\n",
            "[CV 5/5] END ....C=10, gamma=0.0001, kernel=rbf;, score=0.737 total time=   0.0s\n",
            "[CV 1/5] END ........C=100, gamma=1, kernel=rbf;, score=0.579 total time=   0.0s\n",
            "[CV 2/5] END ........C=100, gamma=1, kernel=rbf;, score=0.579 total time=   0.0s\n",
            "[CV 3/5] END ........C=100, gamma=1, kernel=rbf;, score=0.579 total time=   0.0s\n",
            "[CV 4/5] END ........C=100, gamma=1, kernel=rbf;, score=0.579 total time=   0.0s\n",
            "[CV 5/5] END ........C=100, gamma=1, kernel=rbf;, score=0.579 total time=   0.0s\n",
            "[CV 1/5] END ......C=100, gamma=0.1, kernel=rbf;, score=0.632 total time=   0.0s\n",
            "[CV 2/5] END ......C=100, gamma=0.1, kernel=rbf;, score=0.684 total time=   0.0s\n",
            "[CV 3/5] END ......C=100, gamma=0.1, kernel=rbf;, score=0.632 total time=   0.0s\n",
            "[CV 4/5] END ......C=100, gamma=0.1, kernel=rbf;, score=0.579 total time=   0.0s\n",
            "[CV 5/5] END ......C=100, gamma=0.1, kernel=rbf;, score=0.579 total time=   0.0s\n",
            "[CV 1/5] END .....C=100, gamma=0.01, kernel=rbf;, score=0.684 total time=   0.0s\n",
            "[CV 2/5] END .....C=100, gamma=0.01, kernel=rbf;, score=0.737 total time=   0.0s\n",
            "[CV 3/5] END .....C=100, gamma=0.01, kernel=rbf;, score=0.632 total time=   0.0s\n",
            "[CV 4/5] END .....C=100, gamma=0.01, kernel=rbf;, score=0.474 total time=   0.0s\n",
            "[CV 5/5] END .....C=100, gamma=0.01, kernel=rbf;, score=0.737 total time=   0.0s\n",
            "[CV 1/5] END ....C=100, gamma=0.001, kernel=rbf;, score=0.684 total time=   0.0s\n",
            "[CV 2/5] END ....C=100, gamma=0.001, kernel=rbf;, score=0.632 total time=   0.0s\n",
            "[CV 3/5] END ....C=100, gamma=0.001, kernel=rbf;, score=0.632 total time=   0.0s\n",
            "[CV 4/5] END ....C=100, gamma=0.001, kernel=rbf;, score=0.632 total time=   0.0s\n",
            "[CV 5/5] END ....C=100, gamma=0.001, kernel=rbf;, score=0.526 total time=   0.0s\n",
            "[CV 1/5] END ...C=100, gamma=0.0001, kernel=rbf;, score=0.684 total time=   0.0s\n",
            "[CV 2/5] END ...C=100, gamma=0.0001, kernel=rbf;, score=0.789 total time=   0.0s\n",
            "[CV 3/5] END ...C=100, gamma=0.0001, kernel=rbf;, score=0.632 total time=   0.0s\n",
            "[CV 4/5] END ...C=100, gamma=0.0001, kernel=rbf;, score=0.737 total time=   0.0s\n",
            "[CV 5/5] END ...C=100, gamma=0.0001, kernel=rbf;, score=0.737 total time=   0.0s\n",
            "[CV 1/5] END .......C=1000, gamma=1, kernel=rbf;, score=0.579 total time=   0.0s\n",
            "[CV 2/5] END .......C=1000, gamma=1, kernel=rbf;, score=0.579 total time=   0.0s\n",
            "[CV 3/5] END .......C=1000, gamma=1, kernel=rbf;, score=0.579 total time=   0.0s\n",
            "[CV 4/5] END .......C=1000, gamma=1, kernel=rbf;, score=0.579 total time=   0.0s\n",
            "[CV 5/5] END .......C=1000, gamma=1, kernel=rbf;, score=0.579 total time=   0.0s\n",
            "[CV 1/5] END .....C=1000, gamma=0.1, kernel=rbf;, score=0.632 total time=   0.0s\n",
            "[CV 2/5] END .....C=1000, gamma=0.1, kernel=rbf;, score=0.684 total time=   0.0s\n",
            "[CV 3/5] END .....C=1000, gamma=0.1, kernel=rbf;, score=0.632 total time=   0.0s\n",
            "[CV 4/5] END .....C=1000, gamma=0.1, kernel=rbf;, score=0.579 total time=   0.0s\n",
            "[CV 5/5] END .....C=1000, gamma=0.1, kernel=rbf;, score=0.579 total time=   0.0s\n",
            "[CV 1/5] END ....C=1000, gamma=0.01, kernel=rbf;, score=0.684 total time=   0.0s\n",
            "[CV 2/5] END ....C=1000, gamma=0.01, kernel=rbf;, score=0.737 total time=   0.0s\n",
            "[CV 3/5] END ....C=1000, gamma=0.01, kernel=rbf;, score=0.632 total time=   0.0s\n",
            "[CV 4/5] END ....C=1000, gamma=0.01, kernel=rbf;, score=0.474 total time=   0.0s\n",
            "[CV 5/5] END ....C=1000, gamma=0.01, kernel=rbf;, score=0.737 total time=   0.0s\n",
            "[CV 1/5] END ...C=1000, gamma=0.001, kernel=rbf;, score=0.684 total time=   0.0s\n",
            "[CV 2/5] END ...C=1000, gamma=0.001, kernel=rbf;, score=0.684 total time=   0.0s\n",
            "[CV 3/5] END ...C=1000, gamma=0.001, kernel=rbf;, score=0.632 total time=   0.0s\n",
            "[CV 4/5] END ...C=1000, gamma=0.001, kernel=rbf;, score=0.684 total time=   0.0s\n",
            "[CV 5/5] END ...C=1000, gamma=0.001, kernel=rbf;, score=0.526 total time=   0.0s\n",
            "[CV 1/5] END ..C=1000, gamma=0.0001, kernel=rbf;, score=0.737 total time=   0.0s\n",
            "[CV 2/5] END ..C=1000, gamma=0.0001, kernel=rbf;, score=0.789 total time=   0.0s\n",
            "[CV 3/5] END ..C=1000, gamma=0.0001, kernel=rbf;, score=0.579 total time=   0.0s\n",
            "[CV 4/5] END ..C=1000, gamma=0.0001, kernel=rbf;, score=0.632 total time=   0.0s\n",
            "[CV 5/5] END ..C=1000, gamma=0.0001, kernel=rbf;, score=0.632 total time=   0.0s\n"
          ]
        },
        {
          "output_type": "execute_result",
          "data": {
            "text/plain": [
              "GridSearchCV(estimator=SVC(),\n",
              "             param_grid={'C': [0.1, 1, 10, 100, 1000],\n",
              "                         'gamma': [1, 0.1, 0.01, 0.001, 0.0001],\n",
              "                         'kernel': ['rbf']},\n",
              "             verbose=3)"
            ]
          },
          "metadata": {},
          "execution_count": 514
        }
      ]
    },
    {
      "cell_type": "code",
      "source": [
        "gridsvc.best_params_"
      ],
      "metadata": {
        "colab": {
          "base_uri": "https://localhost:8080/"
        },
        "id": "1BDgh_2-GG-e",
        "outputId": "e26c44cf-bfbd-4b5b-8eac-4e2cdb1f1a2c"
      },
      "execution_count": null,
      "outputs": [
        {
          "output_type": "execute_result",
          "data": {
            "text/plain": [
              "{'C': 100, 'gamma': 0.0001, 'kernel': 'rbf'}"
            ]
          },
          "metadata": {},
          "execution_count": 515
        }
      ]
    },
    {
      "cell_type": "code",
      "source": [
        "gridsvc.best_estimator_"
      ],
      "metadata": {
        "colab": {
          "base_uri": "https://localhost:8080/"
        },
        "id": "MLouNG_iGG7f",
        "outputId": "a5d72f49-38ed-4ccf-f47a-3414c80eeda5"
      },
      "execution_count": null,
      "outputs": [
        {
          "output_type": "execute_result",
          "data": {
            "text/plain": [
              "SVC(C=100, gamma=0.0001)"
            ]
          },
          "metadata": {},
          "execution_count": 516
        }
      ]
    },
    {
      "cell_type": "code",
      "source": [
        "grid_svc_predictions = gridsvc.predict(X_test)"
      ],
      "metadata": {
        "id": "9SCbsXLhmNb4"
      },
      "execution_count": null,
      "outputs": []
    },
    {
      "cell_type": "code",
      "source": [
        "grid_svc_predictions"
      ],
      "metadata": {
        "colab": {
          "base_uri": "https://localhost:8080/"
        },
        "id": "mbVjDFYpJ44U",
        "outputId": "44a180ed-093c-4ae4-ae59-f46ef525d5ee"
      },
      "execution_count": null,
      "outputs": [
        {
          "output_type": "execute_result",
          "data": {
            "text/plain": [
              "array([0, 0, 1, 0, 0, 0, 0, 1, 1, 0, 0, 1, 0, 0, 0, 0, 1, 0, 0, 0, 0, 0,\n",
              "       0, 0, 1, 1, 0, 1, 0, 0, 0, 0, 1, 0, 1, 0, 0, 1, 0, 0, 0, 1, 0, 0,\n",
              "       0, 0, 0, 0])"
            ]
          },
          "metadata": {},
          "execution_count": 518
        }
      ]
    },
    {
      "cell_type": "code",
      "source": [
        "print(accuracy_score(y_test,grid_svc_predictions))\n",
        "sns.heatmap(data = confusion_matrix(y_test,grid_svc_predictions),annot= True)\n",
        "print(classification_report(y_test,grid_svc_predictions))"
      ],
      "metadata": {
        "colab": {
          "base_uri": "https://localhost:8080/"
        },
        "id": "wvu2Po7rJxke",
        "outputId": "295a351a-8b65-419f-e863-d8d6cc60cc54"
      },
      "execution_count": null,
      "outputs": [
        {
          "output_type": "stream",
          "name": "stdout",
          "text": [
            "0.8333333333333334\n",
            "              precision    recall  f1-score   support\n",
            "\n",
            "           0       0.83      0.94      0.88        32\n",
            "           1       0.83      0.62      0.71        16\n",
            "\n",
            "    accuracy                           0.83        48\n",
            "   macro avg       0.83      0.78      0.80        48\n",
            "weighted avg       0.83      0.83      0.83        48\n",
            "\n"
          ]
        },
        {
          "output_type": "display_data",
          "data": {
            "text/plain": [
              "<Figure size 432x288 with 2 Axes>"
            ],
            "image/png": "[encoded data removed]"
          },
          "metadata": {
            "needs_background": "light"
          }
        }
      ]
    },
    {
      "cell_type": "code",
      "source": [
        "#Applying Grid Search CV on Logistic Regression.\n",
        "logr_param_grid = {'C': [0.001, 0.01, 0.1, 1, 10, 100, 1000] }"
      ],
      "metadata": {
        "id": "NM00_G-YJxh5"
      },
      "execution_count": null,
      "outputs": []
    },
    {
      "cell_type": "code",
      "source": [
        "grid_logr = GridSearchCV(LogisticRegression(),logr_param_grid,refit=True,verbose=3)"
      ],
      "metadata": {
        "id": "Co-CzvySJxc4"
      },
      "execution_count": null,
      "outputs": []
    },
    {
      "cell_type": "code",
      "source": [
        "grid_logr.fit(X_train,y_train)"
      ],
      "metadata": {
        "colab": {
          "base_uri": "https://localhost:8080/"
        },
        "id": "Jk15gmKdJxak",
        "outputId": "a4c754aa-ff29-4967-b0d3-2e6c446d9f5e"
      },
      "execution_count": null,
      "outputs": [
        {
          "output_type": "stream",
          "name": "stdout",
          "text": [
            "Fitting 5 folds for each of 7 candidates, totalling 35 fits\n",
            "[CV 1/5] END ...........................C=0.001;, score=0.632 total time=   0.0s\n",
            "[CV 2/5] END ...........................C=0.001;, score=0.789 total time=   0.0s\n",
            "[CV 3/5] END ...........................C=0.001;, score=0.579 total time=   0.0s\n",
            "[CV 4/5] END ...........................C=0.001;, score=0.632 total time=   0.0s\n",
            "[CV 5/5] END ...........................C=0.001;, score=0.842 total time=   0.0s\n",
            "[CV 1/5] END ............................C=0.01;, score=0.737 total time=   0.0s\n",
            "[CV 2/5] END ............................C=0.01;, score=0.842 total time=   0.0s\n",
            "[CV 3/5] END ............................C=0.01;, score=0.579 total time=   0.0s\n"
          ]
        },
        {
          "output_type": "stream",
          "name": "stderr",
          "text": [
            "/usr/local/lib/python3.7/dist-packages/sklearn/linear_model/_logistic.py:818: ConvergenceWarning: lbfgs failed to converge (status=1):\n",
            "STOP: TOTAL NO. of ITERATIONS REACHED LIMIT.\n",
            "\n",
            "Increase the number of iterations (max_iter) or scale the data as shown in:\n",
            "    https://scikit-learn.org/stable/modules/preprocessing.html\n",
            "Please also refer to the documentation for alternative solver options:\n",
            "    https://scikit-learn.org/stable/modules/linear_model.html#logistic-regression\n",
            "  extra_warning_msg=_LOGISTIC_SOLVER_CONVERGENCE_MSG,\n",
            "/usr/local/lib/python3.7/dist-packages/sklearn/linear_model/_logistic.py:818: ConvergenceWarning: lbfgs failed to converge (status=1):\n",
            "STOP: TOTAL NO. of ITERATIONS REACHED LIMIT.\n",
            "\n",
            "Increase the number of iterations (max_iter) or scale the data as shown in:\n",
            "    https://scikit-learn.org/stable/modules/preprocessing.html\n",
            "Please also refer to the documentation for alternative solver options:\n",
            "    https://scikit-learn.org/stable/modules/linear_model.html#logistic-regression\n",
            "  extra_warning_msg=_LOGISTIC_SOLVER_CONVERGENCE_MSG,\n",
            "/usr/local/lib/python3.7/dist-packages/sklearn/linear_model/_logistic.py:818: ConvergenceWarning: lbfgs failed to converge (status=1):\n",
            "STOP: TOTAL NO. of ITERATIONS REACHED LIMIT.\n",
            "\n",
            "Increase the number of iterations (max_iter) or scale the data as shown in:\n",
            "    https://scikit-learn.org/stable/modules/preprocessing.html\n",
            "Please also refer to the documentation for alternative solver options:\n",
            "    https://scikit-learn.org/stable/modules/linear_model.html#logistic-regression\n",
            "  extra_warning_msg=_LOGISTIC_SOLVER_CONVERGENCE_MSG,\n",
            "/usr/local/lib/python3.7/dist-packages/sklearn/linear_model/_logistic.py:818: ConvergenceWarning: lbfgs failed to converge (status=1):\n",
            "STOP: TOTAL NO. of ITERATIONS REACHED LIMIT.\n",
            "\n",
            "Increase the number of iterations (max_iter) or scale the data as shown in:\n",
            "    https://scikit-learn.org/stable/modules/preprocessing.html\n",
            "Please also refer to the documentation for alternative solver options:\n",
            "    https://scikit-learn.org/stable/modules/linear_model.html#logistic-regression\n",
            "  extra_warning_msg=_LOGISTIC_SOLVER_CONVERGENCE_MSG,\n",
            "/usr/local/lib/python3.7/dist-packages/sklearn/linear_model/_logistic.py:818: ConvergenceWarning: lbfgs failed to converge (status=1):\n",
            "STOP: TOTAL NO. of ITERATIONS REACHED LIMIT.\n",
            "\n",
            "Increase the number of iterations (max_iter) or scale the data as shown in:\n",
            "    https://scikit-learn.org/stable/modules/preprocessing.html\n",
            "Please also refer to the documentation for alternative solver options:\n",
            "    https://scikit-learn.org/stable/modules/linear_model.html#logistic-regression\n",
            "  extra_warning_msg=_LOGISTIC_SOLVER_CONVERGENCE_MSG,\n"
          ]
        },
        {
          "output_type": "stream",
          "name": "stdout",
          "text": [
            "[CV 4/5] END ............................C=0.01;, score=0.737 total time=   0.0s\n",
            "[CV 5/5] END ............................C=0.01;, score=0.842 total time=   0.0s\n",
            "[CV 1/5] END .............................C=0.1;, score=0.684 total time=   0.0s\n",
            "[CV 2/5] END .............................C=0.1;, score=0.789 total time=   0.0s\n",
            "[CV 3/5] END .............................C=0.1;, score=0.684 total time=   0.0s\n",
            "[CV 4/5] END .............................C=0.1;, score=0.789 total time=   0.0s\n",
            "[CV 5/5] END .............................C=0.1;, score=0.789 total time=   0.0s\n"
          ]
        },
        {
          "output_type": "stream",
          "name": "stderr",
          "text": [
            "/usr/local/lib/python3.7/dist-packages/sklearn/linear_model/_logistic.py:818: ConvergenceWarning: lbfgs failed to converge (status=1):\n",
            "STOP: TOTAL NO. of ITERATIONS REACHED LIMIT.\n",
            "\n",
            "Increase the number of iterations (max_iter) or scale the data as shown in:\n",
            "    https://scikit-learn.org/stable/modules/preprocessing.html\n",
            "Please also refer to the documentation for alternative solver options:\n",
            "    https://scikit-learn.org/stable/modules/linear_model.html#logistic-regression\n",
            "  extra_warning_msg=_LOGISTIC_SOLVER_CONVERGENCE_MSG,\n",
            "/usr/local/lib/python3.7/dist-packages/sklearn/linear_model/_logistic.py:818: ConvergenceWarning: lbfgs failed to converge (status=1):\n",
            "STOP: TOTAL NO. of ITERATIONS REACHED LIMIT.\n",
            "\n",
            "Increase the number of iterations (max_iter) or scale the data as shown in:\n",
            "    https://scikit-learn.org/stable/modules/preprocessing.html\n",
            "Please also refer to the documentation for alternative solver options:\n",
            "    https://scikit-learn.org/stable/modules/linear_model.html#logistic-regression\n",
            "  extra_warning_msg=_LOGISTIC_SOLVER_CONVERGENCE_MSG,\n",
            "/usr/local/lib/python3.7/dist-packages/sklearn/linear_model/_logistic.py:818: ConvergenceWarning: lbfgs failed to converge (status=1):\n",
            "STOP: TOTAL NO. of ITERATIONS REACHED LIMIT.\n",
            "\n",
            "Increase the number of iterations (max_iter) or scale the data as shown in:\n",
            "    https://scikit-learn.org/stable/modules/preprocessing.html\n",
            "Please also refer to the documentation for alternative solver options:\n",
            "    https://scikit-learn.org/stable/modules/linear_model.html#logistic-regression\n",
            "  extra_warning_msg=_LOGISTIC_SOLVER_CONVERGENCE_MSG,\n",
            "/usr/local/lib/python3.7/dist-packages/sklearn/linear_model/_logistic.py:818: ConvergenceWarning: lbfgs failed to converge (status=1):\n",
            "STOP: TOTAL NO. of ITERATIONS REACHED LIMIT.\n",
            "\n",
            "Increase the number of iterations (max_iter) or scale the data as shown in:\n",
            "    https://scikit-learn.org/stable/modules/preprocessing.html\n",
            "Please also refer to the documentation for alternative solver options:\n",
            "    https://scikit-learn.org/stable/modules/linear_model.html#logistic-regression\n",
            "  extra_warning_msg=_LOGISTIC_SOLVER_CONVERGENCE_MSG,\n",
            "/usr/local/lib/python3.7/dist-packages/sklearn/linear_model/_logistic.py:818: ConvergenceWarning: lbfgs failed to converge (status=1):\n",
            "STOP: TOTAL NO. of ITERATIONS REACHED LIMIT.\n",
            "\n",
            "Increase the number of iterations (max_iter) or scale the data as shown in:\n",
            "    https://scikit-learn.org/stable/modules/preprocessing.html\n",
            "Please also refer to the documentation for alternative solver options:\n",
            "    https://scikit-learn.org/stable/modules/linear_model.html#logistic-regression\n",
            "  extra_warning_msg=_LOGISTIC_SOLVER_CONVERGENCE_MSG,\n",
            "/usr/local/lib/python3.7/dist-packages/sklearn/linear_model/_logistic.py:818: ConvergenceWarning: lbfgs failed to converge (status=1):\n",
            "STOP: TOTAL NO. of ITERATIONS REACHED LIMIT.\n",
            "\n",
            "Increase the number of iterations (max_iter) or scale the data as shown in:\n",
            "    https://scikit-learn.org/stable/modules/preprocessing.html\n",
            "Please also refer to the documentation for alternative solver options:\n",
            "    https://scikit-learn.org/stable/modules/linear_model.html#logistic-regression\n",
            "  extra_warning_msg=_LOGISTIC_SOLVER_CONVERGENCE_MSG,\n",
            "/usr/local/lib/python3.7/dist-packages/sklearn/linear_model/_logistic.py:818: ConvergenceWarning: lbfgs failed to converge (status=1):\n",
            "STOP: TOTAL NO. of ITERATIONS REACHED LIMIT.\n",
            "\n",
            "Increase the number of iterations (max_iter) or scale the data as shown in:\n",
            "    https://scikit-learn.org/stable/modules/preprocessing.html\n",
            "Please also refer to the documentation for alternative solver options:\n",
            "    https://scikit-learn.org/stable/modules/linear_model.html#logistic-regression\n",
            "  extra_warning_msg=_LOGISTIC_SOLVER_CONVERGENCE_MSG,\n"
          ]
        },
        {
          "output_type": "stream",
          "name": "stdout",
          "text": [
            "[CV 1/5] END ...............................C=1;, score=0.632 total time=   0.0s\n",
            "[CV 2/5] END ...............................C=1;, score=0.684 total time=   0.0s\n",
            "[CV 3/5] END ...............................C=1;, score=0.737 total time=   0.0s\n",
            "[CV 4/5] END ...............................C=1;, score=0.737 total time=   0.0s\n",
            "[CV 5/5] END ...............................C=1;, score=0.789 total time=   0.0s\n",
            "[CV 1/5] END ..............................C=10;, score=0.684 total time=   0.0s\n",
            "[CV 2/5] END ..............................C=10;, score=0.737 total time=   0.0s\n"
          ]
        },
        {
          "output_type": "stream",
          "name": "stderr",
          "text": [
            "/usr/local/lib/python3.7/dist-packages/sklearn/linear_model/_logistic.py:818: ConvergenceWarning: lbfgs failed to converge (status=1):\n",
            "STOP: TOTAL NO. of ITERATIONS REACHED LIMIT.\n",
            "\n",
            "Increase the number of iterations (max_iter) or scale the data as shown in:\n",
            "    https://scikit-learn.org/stable/modules/preprocessing.html\n",
            "Please also refer to the documentation for alternative solver options:\n",
            "    https://scikit-learn.org/stable/modules/linear_model.html#logistic-regression\n",
            "  extra_warning_msg=_LOGISTIC_SOLVER_CONVERGENCE_MSG,\n",
            "/usr/local/lib/python3.7/dist-packages/sklearn/linear_model/_logistic.py:818: ConvergenceWarning: lbfgs failed to converge (status=1):\n",
            "STOP: TOTAL NO. of ITERATIONS REACHED LIMIT.\n",
            "\n",
            "Increase the number of iterations (max_iter) or scale the data as shown in:\n",
            "    https://scikit-learn.org/stable/modules/preprocessing.html\n",
            "Please also refer to the documentation for alternative solver options:\n",
            "    https://scikit-learn.org/stable/modules/linear_model.html#logistic-regression\n",
            "  extra_warning_msg=_LOGISTIC_SOLVER_CONVERGENCE_MSG,\n",
            "/usr/local/lib/python3.7/dist-packages/sklearn/linear_model/_logistic.py:818: ConvergenceWarning: lbfgs failed to converge (status=1):\n",
            "STOP: TOTAL NO. of ITERATIONS REACHED LIMIT.\n",
            "\n",
            "Increase the number of iterations (max_iter) or scale the data as shown in:\n",
            "    https://scikit-learn.org/stable/modules/preprocessing.html\n",
            "Please also refer to the documentation for alternative solver options:\n",
            "    https://scikit-learn.org/stable/modules/linear_model.html#logistic-regression\n",
            "  extra_warning_msg=_LOGISTIC_SOLVER_CONVERGENCE_MSG,\n",
            "/usr/local/lib/python3.7/dist-packages/sklearn/linear_model/_logistic.py:818: ConvergenceWarning: lbfgs failed to converge (status=1):\n",
            "STOP: TOTAL NO. of ITERATIONS REACHED LIMIT.\n",
            "\n",
            "Increase the number of iterations (max_iter) or scale the data as shown in:\n",
            "    https://scikit-learn.org/stable/modules/preprocessing.html\n",
            "Please also refer to the documentation for alternative solver options:\n",
            "    https://scikit-learn.org/stable/modules/linear_model.html#logistic-regression\n",
            "  extra_warning_msg=_LOGISTIC_SOLVER_CONVERGENCE_MSG,\n",
            "/usr/local/lib/python3.7/dist-packages/sklearn/linear_model/_logistic.py:818: ConvergenceWarning: lbfgs failed to converge (status=1):\n",
            "STOP: TOTAL NO. of ITERATIONS REACHED LIMIT.\n",
            "\n",
            "Increase the number of iterations (max_iter) or scale the data as shown in:\n",
            "    https://scikit-learn.org/stable/modules/preprocessing.html\n",
            "Please also refer to the documentation for alternative solver options:\n",
            "    https://scikit-learn.org/stable/modules/linear_model.html#logistic-regression\n",
            "  extra_warning_msg=_LOGISTIC_SOLVER_CONVERGENCE_MSG,\n",
            "/usr/local/lib/python3.7/dist-packages/sklearn/linear_model/_logistic.py:818: ConvergenceWarning: lbfgs failed to converge (status=1):\n",
            "STOP: TOTAL NO. of ITERATIONS REACHED LIMIT.\n",
            "\n",
            "Increase the number of iterations (max_iter) or scale the data as shown in:\n",
            "    https://scikit-learn.org/stable/modules/preprocessing.html\n",
            "Please also refer to the documentation for alternative solver options:\n",
            "    https://scikit-learn.org/stable/modules/linear_model.html#logistic-regression\n",
            "  extra_warning_msg=_LOGISTIC_SOLVER_CONVERGENCE_MSG,\n"
          ]
        },
        {
          "output_type": "stream",
          "name": "stdout",
          "text": [
            "[CV 3/5] END ..............................C=10;, score=0.737 total time=   0.0s\n",
            "[CV 4/5] END ..............................C=10;, score=0.737 total time=   0.1s\n",
            "[CV 5/5] END ..............................C=10;, score=0.737 total time=   0.0s\n",
            "[CV 1/5] END .............................C=100;, score=0.684 total time=   0.0s\n"
          ]
        },
        {
          "output_type": "stream",
          "name": "stderr",
          "text": [
            "/usr/local/lib/python3.7/dist-packages/sklearn/linear_model/_logistic.py:818: ConvergenceWarning: lbfgs failed to converge (status=1):\n",
            "STOP: TOTAL NO. of ITERATIONS REACHED LIMIT.\n",
            "\n",
            "Increase the number of iterations (max_iter) or scale the data as shown in:\n",
            "    https://scikit-learn.org/stable/modules/preprocessing.html\n",
            "Please also refer to the documentation for alternative solver options:\n",
            "    https://scikit-learn.org/stable/modules/linear_model.html#logistic-regression\n",
            "  extra_warning_msg=_LOGISTIC_SOLVER_CONVERGENCE_MSG,\n",
            "/usr/local/lib/python3.7/dist-packages/sklearn/linear_model/_logistic.py:818: ConvergenceWarning: lbfgs failed to converge (status=1):\n",
            "STOP: TOTAL NO. of ITERATIONS REACHED LIMIT.\n",
            "\n",
            "Increase the number of iterations (max_iter) or scale the data as shown in:\n",
            "    https://scikit-learn.org/stable/modules/preprocessing.html\n",
            "Please also refer to the documentation for alternative solver options:\n",
            "    https://scikit-learn.org/stable/modules/linear_model.html#logistic-regression\n",
            "  extra_warning_msg=_LOGISTIC_SOLVER_CONVERGENCE_MSG,\n"
          ]
        },
        {
          "output_type": "stream",
          "name": "stdout",
          "text": [
            "[CV 2/5] END .............................C=100;, score=0.737 total time=   0.1s\n",
            "[CV 3/5] END .............................C=100;, score=0.737 total time=   0.2s\n"
          ]
        },
        {
          "output_type": "stream",
          "name": "stderr",
          "text": [
            "/usr/local/lib/python3.7/dist-packages/sklearn/linear_model/_logistic.py:818: ConvergenceWarning: lbfgs failed to converge (status=1):\n",
            "STOP: TOTAL NO. of ITERATIONS REACHED LIMIT.\n",
            "\n",
            "Increase the number of iterations (max_iter) or scale the data as shown in:\n",
            "    https://scikit-learn.org/stable/modules/preprocessing.html\n",
            "Please also refer to the documentation for alternative solver options:\n",
            "    https://scikit-learn.org/stable/modules/linear_model.html#logistic-regression\n",
            "  extra_warning_msg=_LOGISTIC_SOLVER_CONVERGENCE_MSG,\n",
            "/usr/local/lib/python3.7/dist-packages/sklearn/linear_model/_logistic.py:818: ConvergenceWarning: lbfgs failed to converge (status=1):\n",
            "STOP: TOTAL NO. of ITERATIONS REACHED LIMIT.\n",
            "\n",
            "Increase the number of iterations (max_iter) or scale the data as shown in:\n",
            "    https://scikit-learn.org/stable/modules/preprocessing.html\n",
            "Please also refer to the documentation for alternative solver options:\n",
            "    https://scikit-learn.org/stable/modules/linear_model.html#logistic-regression\n",
            "  extra_warning_msg=_LOGISTIC_SOLVER_CONVERGENCE_MSG,\n"
          ]
        },
        {
          "output_type": "stream",
          "name": "stdout",
          "text": [
            "[CV 4/5] END .............................C=100;, score=0.684 total time=   0.1s\n",
            "[CV 5/5] END .............................C=100;, score=0.737 total time=   0.1s\n"
          ]
        },
        {
          "output_type": "stream",
          "name": "stderr",
          "text": [
            "/usr/local/lib/python3.7/dist-packages/sklearn/linear_model/_logistic.py:818: ConvergenceWarning: lbfgs failed to converge (status=1):\n",
            "STOP: TOTAL NO. of ITERATIONS REACHED LIMIT.\n",
            "\n",
            "Increase the number of iterations (max_iter) or scale the data as shown in:\n",
            "    https://scikit-learn.org/stable/modules/preprocessing.html\n",
            "Please also refer to the documentation for alternative solver options:\n",
            "    https://scikit-learn.org/stable/modules/linear_model.html#logistic-regression\n",
            "  extra_warning_msg=_LOGISTIC_SOLVER_CONVERGENCE_MSG,\n",
            "/usr/local/lib/python3.7/dist-packages/sklearn/linear_model/_logistic.py:818: ConvergenceWarning: lbfgs failed to converge (status=1):\n",
            "STOP: TOTAL NO. of ITERATIONS REACHED LIMIT.\n",
            "\n",
            "Increase the number of iterations (max_iter) or scale the data as shown in:\n",
            "    https://scikit-learn.org/stable/modules/preprocessing.html\n",
            "Please also refer to the documentation for alternative solver options:\n",
            "    https://scikit-learn.org/stable/modules/linear_model.html#logistic-regression\n",
            "  extra_warning_msg=_LOGISTIC_SOLVER_CONVERGENCE_MSG,\n"
          ]
        },
        {
          "output_type": "stream",
          "name": "stdout",
          "text": [
            "[CV 1/5] END ............................C=1000;, score=0.684 total time=   0.1s\n",
            "[CV 2/5] END ............................C=1000;, score=0.737 total time=   0.2s\n"
          ]
        },
        {
          "output_type": "stream",
          "name": "stderr",
          "text": [
            "/usr/local/lib/python3.7/dist-packages/sklearn/linear_model/_logistic.py:818: ConvergenceWarning: lbfgs failed to converge (status=1):\n",
            "STOP: TOTAL NO. of ITERATIONS REACHED LIMIT.\n",
            "\n",
            "Increase the number of iterations (max_iter) or scale the data as shown in:\n",
            "    https://scikit-learn.org/stable/modules/preprocessing.html\n",
            "Please also refer to the documentation for alternative solver options:\n",
            "    https://scikit-learn.org/stable/modules/linear_model.html#logistic-regression\n",
            "  extra_warning_msg=_LOGISTIC_SOLVER_CONVERGENCE_MSG,\n",
            "/usr/local/lib/python3.7/dist-packages/sklearn/linear_model/_logistic.py:818: ConvergenceWarning: lbfgs failed to converge (status=1):\n",
            "STOP: TOTAL NO. of ITERATIONS REACHED LIMIT.\n",
            "\n",
            "Increase the number of iterations (max_iter) or scale the data as shown in:\n",
            "    https://scikit-learn.org/stable/modules/preprocessing.html\n",
            "Please also refer to the documentation for alternative solver options:\n",
            "    https://scikit-learn.org/stable/modules/linear_model.html#logistic-regression\n",
            "  extra_warning_msg=_LOGISTIC_SOLVER_CONVERGENCE_MSG,\n"
          ]
        },
        {
          "output_type": "stream",
          "name": "stdout",
          "text": [
            "[CV 3/5] END ............................C=1000;, score=0.737 total time=   0.1s\n",
            "[CV 4/5] END ............................C=1000;, score=0.684 total time=   0.1s\n",
            "[CV 5/5] END ............................C=1000;, score=0.737 total time=   0.1s\n"
          ]
        },
        {
          "output_type": "stream",
          "name": "stderr",
          "text": [
            "/usr/local/lib/python3.7/dist-packages/sklearn/linear_model/_logistic.py:818: ConvergenceWarning: lbfgs failed to converge (status=1):\n",
            "STOP: TOTAL NO. of ITERATIONS REACHED LIMIT.\n",
            "\n",
            "Increase the number of iterations (max_iter) or scale the data as shown in:\n",
            "    https://scikit-learn.org/stable/modules/preprocessing.html\n",
            "Please also refer to the documentation for alternative solver options:\n",
            "    https://scikit-learn.org/stable/modules/linear_model.html#logistic-regression\n",
            "  extra_warning_msg=_LOGISTIC_SOLVER_CONVERGENCE_MSG,\n",
            "/usr/local/lib/python3.7/dist-packages/sklearn/linear_model/_logistic.py:818: ConvergenceWarning: lbfgs failed to converge (status=1):\n",
            "STOP: TOTAL NO. of ITERATIONS REACHED LIMIT.\n",
            "\n",
            "Increase the number of iterations (max_iter) or scale the data as shown in:\n",
            "    https://scikit-learn.org/stable/modules/preprocessing.html\n",
            "Please also refer to the documentation for alternative solver options:\n",
            "    https://scikit-learn.org/stable/modules/linear_model.html#logistic-regression\n",
            "  extra_warning_msg=_LOGISTIC_SOLVER_CONVERGENCE_MSG,\n"
          ]
        },
        {
          "output_type": "execute_result",
          "data": {
            "text/plain": [
              "GridSearchCV(estimator=LogisticRegression(),\n",
              "             param_grid={'C': [0.001, 0.01, 0.1, 1, 10, 100, 1000]}, verbose=3)"
            ]
          },
          "metadata": {},
          "execution_count": 522
        }
      ]
    },
    {
      "cell_type": "code",
      "source": [
        "grid_logr.best_params_"
      ],
      "metadata": {
        "colab": {
          "base_uri": "https://localhost:8080/"
        },
        "id": "jLqTZ-0cJxXf",
        "outputId": "c8afd3bc-066a-4128-9355-43f84855e7c5"
      },
      "execution_count": null,
      "outputs": [
        {
          "output_type": "execute_result",
          "data": {
            "text/plain": [
              "{'C': 0.1}"
            ]
          },
          "metadata": {},
          "execution_count": 523
        }
      ]
    },
    {
      "cell_type": "code",
      "source": [
        "grid_logr.best_estimator_"
      ],
      "metadata": {
        "colab": {
          "base_uri": "https://localhost:8080/"
        },
        "id": "4uaC--u-KG5D",
        "outputId": "50487b8d-a6a3-4bf8-e0d7-3ae9c02ffd26"
      },
      "execution_count": null,
      "outputs": [
        {
          "output_type": "execute_result",
          "data": {
            "text/plain": [
              "LogisticRegression(C=0.1)"
            ]
          },
          "metadata": {},
          "execution_count": 524
        }
      ]
    },
    {
      "cell_type": "code",
      "source": [
        "grid_logr_predictions = grid_logr.predict(X_test)"
      ],
      "metadata": {
        "id": "cIWiLM_xKG2b"
      },
      "execution_count": null,
      "outputs": []
    },
    {
      "cell_type": "code",
      "source": [
        "print(accuracy_score(y_test,grid_logr_predictions))\n",
        "sns.heatmap(data = confusion_matrix(y_test,grid_logr_predictions),annot = True)\n",
        "print(classification_report(y_test,grid_logr_predictions))"
      ],
      "metadata": {
        "colab": {
          "base_uri": "https://localhost:8080/"
        },
        "id": "M25Alp9LKGzi",
        "outputId": "eac29fc4-626c-4a7c-fd50-10861940b8cd"
      },
      "execution_count": null,
      "outputs": [
        {
          "output_type": "stream",
          "name": "stdout",
          "text": [
            "0.7291666666666666\n",
            "              precision    recall  f1-score   support\n",
            "\n",
            "           0       0.81      0.78      0.79        32\n",
            "           1       0.59      0.62      0.61        16\n",
            "\n",
            "    accuracy                           0.73        48\n",
            "   macro avg       0.70      0.70      0.70        48\n",
            "weighted avg       0.73      0.73      0.73        48\n",
            "\n"
          ]
        },
        {
          "output_type": "display_data",
          "data": {
            "text/plain": [
              "<Figure size 432x288 with 2 Axes>"
            ],
            "image/png": "[encoded data removed]"
          },
          "metadata": {
            "needs_background": "light"
          }
        }
      ]
    },
    {
      "cell_type": "code",
      "source": [],
      "metadata": {
        "id": "sQLabq8ZKGet"
      },
      "execution_count": null,
      "outputs": []
    },
    {
      "cell_type": "code",
      "source": [],
      "metadata": {
        "id": "9kB0u94_JxUz"
      },
      "execution_count": null,
      "outputs": []
    },
    {
      "cell_type": "code",
      "source": [],
      "metadata": {
        "id": "pvxiS9HpmC0Y"
      },
      "execution_count": null,
      "outputs": []
    },
    {
      "cell_type": "code",
      "source": [],
      "metadata": {
        "id": "_WvkA4eLmC3K"
      },
      "execution_count": null,
      "outputs": []
    },
    {
      "cell_type": "code",
      "source": [],
      "metadata": {
        "id": "GmMDvlqig9ID"
      },
      "execution_count": null,
      "outputs": []
    }
  ]
}