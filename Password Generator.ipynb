{
 "cells": [
  {
   "cell_type": "code",
   "execution_count": 3,
   "metadata": {},
   "outputs": [
    {
     "name": "stdout",
     "output_type": "stream",
     "text": [
      "Generated Password: AyFG%V[:3YF{\n"
     ]
    }
   ],
   "source": [
    "import random\n",
    "import string\n",
    "\n",
    "def generate_password(length=12):\n",
    "    # Define character sets\n",
    "    letters = string.ascii_letters  # Includes both uppercase and lowercase letters\n",
    "    digits = string.digits\n",
    "    special_characters = \"!@#$%^&*()_+=-{}[]|:;<>,.?/~\"\n",
    "\n",
    "    # Combine character sets\n",
    "    all_characters = letters + digits + special_characters\n",
    "\n",
    "    # Generate the password\n",
    "    password = ''.join(random.choice(all_characters) for _ in range(length))\n",
    "    return password\n",
    "\n",
    "# Example usage:\n",
    "password = generate_password()\n",
    "print(\"Generated Password:\", password)\n"
   ]
  },
  {
   "cell_type": "code",
   "execution_count": 1,
   "metadata": {},
   "outputs": [],
   "source": [
    "import random\n",
    "import string\n",
    "import tkinter as tk\n",
    "from tkinter import messagebox\n",
    "\n",
    "def generate_password(length=12):\n",
    "    # Define character sets\n",
    "    letters = string.ascii_letters  # Includes both uppercase and lowercase letters\n",
    "    digits = string.digits\n",
    "    special_characters = \"!@#$%^&*()_+=-{}[]|:;<>,.?/~\"\n",
    "\n",
    "    # Combine character sets\n",
    "    all_characters = letters + digits + special_characters\n",
    "\n",
    "    # Generate the password\n",
    "    password = ''.join(random.choice(all_characters) for _ in range(length))\n",
    "    return password\n",
    "\n",
    "def show_password_popup():\n",
    "    password = generate_password()\n",
    "    messagebox.showinfo(\"Generated Password\", f\"Your password is:\\n{password}\")\n",
    "\n",
    "# Create the main window\n",
    "root = tk.Tk()\n",
    "root.title(\"Password Generator\")\n",
    "\n",
    "# Create a button to generate and show the password\n",
    "generate_button = tk.Button(root, text=\"Generate Password\", command=show_password_popup)\n",
    "generate_button.pack(pady=20)\n",
    "\n",
    "# Start the main loop\n",
    "root.mainloop()\n"
   ]
  }
 ],
 "metadata": {
  "kernelspec": {
   "display_name": "Python 3",
   "language": "python",
   "name": "python3"
  },
  "language_info": {
   "codemirror_mode": {
    "name": "ipython",
    "version": 3
   },
   "file_extension": ".py",
   "mimetype": "text/x-python",
   "name": "python",
   "nbconvert_exporter": "python",
   "pygments_lexer": "ipython3",
   "version": "3.11.7"
  },
  "orig_nbformat": 4
 },
 "nbformat": 4,
 "nbformat_minor": 2
}
