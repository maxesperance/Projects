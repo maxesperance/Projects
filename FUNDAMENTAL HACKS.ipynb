{
 "cells": [
  {
   "cell_type": "code",
   "execution_count": 42,
   "metadata": {},
   "outputs": [],
   "source": [
    "#Top basic Python hacks all programmers must know"
   ]
  },
  {
   "cell_type": "code",
   "execution_count": 3,
   "metadata": {},
   "outputs": [
    {
     "data": {
      "text/plain": [
       "'\\nTransposing \\n'"
      ]
     },
     "execution_count": 3,
     "metadata": {},
     "output_type": "execute_result"
    }
   ],
   "source": [
    "'''\n",
    "Transposing \n",
    "'''"
   ]
  },
  {
   "cell_type": "code",
   "execution_count": 16,
   "metadata": {},
   "outputs": [],
   "source": [
    "import itertools\n",
    "import time\n",
    "import sys\n",
    "import sys"
   ]
  },
  {
   "cell_type": "code",
   "execution_count": 20,
   "metadata": {},
   "outputs": [
    {
     "name": "stdout",
     "output_type": "stream",
     "text": [
      "('MAX', 'THE')\n",
      "('SMOOTH', 'OPERATOR')\n",
      "('AND', 'ANALYST')\n"
     ]
    }
   ],
   "source": [
    "mat = [['MAX', 'SMOOTH', 'AND'], ['THE', 'OPERATOR', 'ANALYST']]\n",
    "new_mat=zip(*mat)\n",
    "for row in new_mat:\n",
    "    print(row)"
   ]
  },
  {
   "cell_type": "code",
   "execution_count": 21,
   "metadata": {},
   "outputs": [
    {
     "data": {
      "text/plain": [
       "'\\nExecution time of last job\\n'"
      ]
     },
     "execution_count": 21,
     "metadata": {},
     "output_type": "execute_result"
    }
   ],
   "source": [
    "'''\n",
    "Execution time of last job\n",
    "'''"
   ]
  },
  {
   "cell_type": "code",
   "execution_count": 22,
   "metadata": {},
   "outputs": [
    {
     "name": "stdout",
     "output_type": "stream",
     "text": [
      "Execution Time:  3.0994415283203125e-05\n"
     ]
    }
   ],
   "source": [
    "start_time = time.time()\n",
    "end_time = time.time()\n",
    "print(\"Execution Time: \",(end_time-start_time))"
   ]
  },
  {
   "cell_type": "code",
   "execution_count": 23,
   "metadata": {},
   "outputs": [
    {
     "data": {
      "text/plain": [
       "'\\nchecking and analyzing the memory unit of an object\\n'"
      ]
     },
     "execution_count": 23,
     "metadata": {},
     "output_type": "execute_result"
    }
   ],
   "source": [
    "'''\n",
    "checking and analyzing the memory unit of an object\n",
    "'''"
   ]
  },
  {
   "cell_type": "code",
   "execution_count": 24,
   "metadata": {},
   "outputs": [
    {
     "name": "stdout",
     "output_type": "stream",
     "text": [
      "112\n"
     ]
    }
   ],
   "source": [
    "\n",
    "print(sys.getsizeof(a))"
   ]
  },
  {
   "cell_type": "code",
   "execution_count": 25,
   "metadata": {},
   "outputs": [
    {
     "data": {
      "text/plain": [
       "'\\nCreating a single string\\n'"
      ]
     },
     "execution_count": 25,
     "metadata": {},
     "output_type": "execute_result"
    }
   ],
   "source": [
    "'''\n",
    "Creating a single string\n",
    "'''"
   ]
  },
  {
   "cell_type": "code",
   "execution_count": 10,
   "metadata": {},
   "outputs": [
    {
     "name": "stdout",
     "output_type": "stream",
     "text": [
      "I AM THE SMOOTHEST OF THEM ALL\n"
     ]
    }
   ],
   "source": [
    "a = [\"I\", \"AM\", \"THE\", \"SMOOTHEST\",\"OF\",\"THEM\",\"ALL\"]\n",
    "print(\" \".join(a))"
   ]
  },
  {
   "cell_type": "code",
   "execution_count": 11,
   "metadata": {},
   "outputs": [
    {
     "data": {
      "text/plain": [
       "'\\nSplit string\\n'"
      ]
     },
     "execution_count": 11,
     "metadata": {},
     "output_type": "execute_result"
    }
   ],
   "source": [
    "'''\n",
    "Split string\n",
    "'''"
   ]
  },
  {
   "cell_type": "code",
   "execution_count": 223,
   "metadata": {},
   "outputs": [
    {
     "name": "stdout",
     "output_type": "stream",
     "text": [
      "['MAX', 'IS', 'THE', 'SMOOTHEST', 'OF', 'THEM', 'ALL']\n"
     ]
    }
   ],
   "source": [
    "a=\"MAX IS THE SMOOTHEST OF THEM ALL\"\n",
    "b=a.split()\n",
    "print(b)"
   ]
  },
  {
   "cell_type": "code",
   "execution_count": 224,
   "metadata": {},
   "outputs": [
    {
     "data": {
      "text/plain": [
       "'\\nPrinting out multiple values of strings\\n'"
      ]
     },
     "execution_count": 224,
     "metadata": {},
     "output_type": "execute_result"
    }
   ],
   "source": [
    "'''\n",
    "Printing out multiple values of strings\n",
    "'''"
   ]
  },
  {
   "cell_type": "code",
   "execution_count": 225,
   "metadata": {},
   "outputs": [
    {
     "name": "stdout",
     "output_type": "stream",
     "text": [
      "SMOOTHSMOOTHSMOOTHSMOOTHSMOOTHSMOOTHSMOOTH OPERATOROPERATOROPERATOROPERATOROPERATOR\n"
     ]
    }
   ],
   "source": [
    "print(\"SMOOTH\"*7+' '+\"OPERATOR\"*5)"
   ]
  },
  {
   "cell_type": "code",
   "execution_count": 226,
   "metadata": {},
   "outputs": [
    {
     "data": {
      "text/plain": [
       "'\\nFlatten the lists\\n'"
      ]
     },
     "execution_count": 226,
     "metadata": {},
     "output_type": "execute_result"
    }
   ],
   "source": [
    "'''\n",
    "Flatten the lists\n",
    "'''"
   ]
  },
  {
   "cell_type": "code",
   "execution_count": 227,
   "metadata": {},
   "outputs": [
    {
     "name": "stdout",
     "output_type": "stream",
     "text": [
      "['MAX', 'THE', 'SMOOTH', 'OPERATOR', '+', 'ANALYST']\n"
     ]
    }
   ],
   "source": [
    "a = [['MAX', 'THE'], ['SMOOTH', 'OPERATOR'], ['+', 'ANALYST']]\n",
    "b = list(itertools.chain.from_iterable(a))\n",
    "print(b)"
   ]
  },
  {
   "cell_type": "code",
   "execution_count": 230,
   "metadata": {},
   "outputs": [
    {
     "data": {
      "text/plain": [
       "'\\nReverse a list\\n'"
      ]
     },
     "execution_count": 230,
     "metadata": {},
     "output_type": "execute_result"
    }
   ],
   "source": [
    "'''\n",
    "Reverse a list\n",
    "'''"
   ]
  },
  {
   "cell_type": "code",
   "execution_count": 231,
   "metadata": {},
   "outputs": [
    {
     "name": "stdout",
     "output_type": "stream",
     "text": [
      "['THE', 'SMOOTH', 'OPERATOR']\n"
     ]
    }
   ],
   "source": [
    "a=['OPERATOR','SMOOTH','THE']\n",
    "print(a[::-1])"
   ]
  },
  {
   "cell_type": "code",
   "execution_count": 232,
   "metadata": {},
   "outputs": [
    {
     "data": {
      "text/plain": [
       "'\\nReversing the string\\n'"
      ]
     },
     "execution_count": 232,
     "metadata": {},
     "output_type": "execute_result"
    }
   ],
   "source": [
    "'''\n",
    "Reversing the string\n",
    "'''"
   ]
  },
  {
   "cell_type": "code",
   "execution_count": 233,
   "metadata": {},
   "outputs": [
    {
     "name": "stdout",
     "output_type": "stream",
     "text": [
      "Reverse is htoomS rotarepO\n"
     ]
    }
   ],
   "source": [
    "a='Operator Smooth'\n",
    "print(\"Reverse is\", a[::-1])"
   ]
  },
  {
   "cell_type": "code",
   "execution_count": 234,
   "metadata": {},
   "outputs": [
    {
     "data": {
      "text/plain": [
       "'\\nHack is useful for scraping unwanted data. \\nhelps trim unwanted text or special characters in a string. \\nincludes special characters like newlines, tabs or unwanted text like \\t, \\n, \\t, etc.  \\nThe hack in Python named strip() will trim all the scraped data.\\n'"
      ]
     },
     "execution_count": 234,
     "metadata": {},
     "output_type": "execute_result"
    }
   ],
   "source": [
    "'''\n",
    "Hack is useful for scraping unwanted data. \n",
    "helps trim unwanted text or special characters in a string. \n",
    "includes special characters like newlines, tabs or unwanted text like \\t, \\n, \\t, etc.  \n",
    "The hack in Python named strip() will trim all the scraped data.\n",
    "'''"
   ]
  },
  {
   "cell_type": "code",
   "execution_count": 235,
   "metadata": {},
   "outputs": [
    {
     "name": "stdout",
     "output_type": "stream",
     "text": [
      "MAX_THE_ANALYST\n"
     ]
    }
   ],
   "source": [
    "data = '\\nMAX_THE_ANALYST'\n",
    "\n",
    "print(data.strip())"
   ]
  },
  {
   "cell_type": "code",
   "execution_count": 236,
   "metadata": {},
   "outputs": [
    {
     "name": "stdout",
     "output_type": "stream",
     "text": [
      "THE SMOOTH OPERATOR\n"
     ]
    }
   ],
   "source": [
    "data = '\\n\\n\\nTHE SMOOTH OPERATOR\\n\\n\\t'\n",
    "\n",
    "print(data.strip('\\n\\t')) \n"
   ]
  },
  {
   "cell_type": "code",
   "execution_count": 237,
   "metadata": {},
   "outputs": [
    {
     "data": {
      "text/plain": [
       "'\\nCombining different lists\\n'"
      ]
     },
     "execution_count": 237,
     "metadata": {},
     "output_type": "execute_result"
    }
   ],
   "source": [
    "'''\n",
    "Combining different lists\n",
    "'''"
   ]
  },
  {
   "cell_type": "code",
   "execution_count": 238,
   "metadata": {},
   "outputs": [
    {
     "name": "stdout",
     "output_type": "stream",
     "text": [
      "the smooth\n",
      "operator max\n",
      "the analyst\n"
     ]
    }
   ],
   "source": [
    "a=['the','operator','the']\n",
    "b=['smooth','max','analyst']\n",
    "for x, y in zip(a, b):\n",
    "    print(x,y)"
   ]
  },
  {
   "cell_type": "code",
   "execution_count": 239,
   "metadata": {},
   "outputs": [
    {
     "data": {
      "text/plain": [
       "'\\nMerging two dictionaries hack\\nhelps the user merge two dictionaries of any length into one.  \\nmost commonly used trick is the ** (double star). \\nsingle expression is used to merge two dictionaries and store it in a third dictionary.\\ndouble star implies an argument is a dictionary and works as a shortcut to pass multiple arguments to a function directly using a dictionary.\\n'"
      ]
     },
     "execution_count": 239,
     "metadata": {},
     "output_type": "execute_result"
    }
   ],
   "source": [
    "'''\n",
    "Merging two dictionaries hack\n",
    "helps the user merge two dictionaries of any length into one.  \n",
    "most commonly used trick is the ** (double star). \n",
    "single expression is used to merge two dictionaries and store it in a third dictionary.\n",
    "double star implies an argument is a dictionary and works as a shortcut to pass multiple arguments to a function directly using a dictionary.\n",
    "'''"
   ]
  },
  {
   "cell_type": "code",
   "execution_count": 240,
   "metadata": {},
   "outputs": [
    {
     "name": "stdout",
     "output_type": "stream",
     "text": [
      "{'CHAMP': 100, 'SMOOTH': 100, 'OPERATOR': 100, 'ANALYST': 100}\n"
     ]
    }
   ],
   "source": [
    "def Merge(dict1, dict2):\n",
    "\n",
    "    res = {**dict1, **dict2}\n",
    "\n",
    "    return res\n",
    "\n",
    "# Driver code\n",
    "\n",
    "dict1 = {'CHAMP': 100, 'SMOOTH': 100}\n",
    "\n",
    "dict2 = {'OPERATOR': 100, 'ANALYST': 100}\n",
    "\n",
    "dict3 = Merge(dict1, dict2)\n",
    "\n",
    "print(dict3)"
   ]
  },
  {
   "cell_type": "code",
   "execution_count": 241,
   "metadata": {},
   "outputs": [
    {
     "data": {
      "text/plain": [
       "'\\nConvering a list into a string is a common Python function. \\nWhile the Loop approach is prevalent, this hack is easier. \\n'"
      ]
     },
     "execution_count": 241,
     "metadata": {},
     "output_type": "execute_result"
    }
   ],
   "source": [
    "'''\n",
    "Convering a list into a string is a common Python function. \n",
    "While the Loop approach is prevalent, this hack is easier. \n",
    "'''"
   ]
  },
  {
   "cell_type": "code",
   "execution_count": 242,
   "metadata": {},
   "outputs": [
    {
     "name": "stdout",
     "output_type": "stream",
     "text": [
      "EatSmooth OperatorBoxSmooth OperatorCodeSmooth OperatorSleep\n"
     ]
    }
   ],
   "source": [
    "# Iterable to List\n",
    "\n",
    "mylist1 = [\"Eat\", \"Box\", \"Code\", \"Sleep\"]\n",
    "\n",
    "print(\"Smooth Operator\".join(mylist1)) \n"
   ]
  },
  {
   "cell_type": "code",
   "execution_count": 243,
   "metadata": {},
   "outputs": [
    {
     "name": "stdout",
     "output_type": "stream",
     "text": [
      "EatOperatorSleepOperatorBoxOperatorCode\n"
     ]
    }
   ],
   "source": [
    "mylist2 = [\"Eat\", \"Sleep\", \"Box\", \"Code\"]\n",
    "\n",
    "print(\"Operator\".join(mylist2))  "
   ]
  },
  {
   "cell_type": "code",
   "execution_count": 244,
   "metadata": {},
   "outputs": [
    {
     "data": {
      "text/plain": [
       "'\\nCalculate execution time \\nmodules like time, timeit, and DateTime store the time-stamps\\ncan be manipulated to calculate the time taken to execute the program. \\nThe timeit module works only with small code snippets, and the rest can take a long time. \\nThis hack provides the easiest way to calculate the time.\\n'"
      ]
     },
     "execution_count": 244,
     "metadata": {},
     "output_type": "execute_result"
    }
   ],
   "source": [
    "'''\n",
    "Calculate execution time \n",
    "modules like time, timeit, and DateTime store the time-stamps\n",
    "can be manipulated to calculate the time taken to execute the program. \n",
    "The timeit module works only with small code snippets, and the rest can take a long time. \n",
    "This hack provides the easiest way to calculate the time.\n",
    "'''"
   ]
  },
  {
   "cell_type": "code",
   "execution_count": 245,
   "metadata": {},
   "outputs": [
    {
     "data": {
      "text/plain": [
       "'\\nComparing two unordered lists\\nhack comes in handy when two lists with the same elements but are structured in different orders.\\n'"
      ]
     },
     "execution_count": 245,
     "metadata": {},
     "output_type": "execute_result"
    }
   ],
   "source": [
    "'''\n",
    "Comparing two unordered lists\n",
    "hack comes in handy when two lists with the same elements but are structured in different orders.\n",
    "'''"
   ]
  },
  {
   "cell_type": "code",
   "execution_count": 246,
   "metadata": {},
   "outputs": [
    {
     "name": "stdout",
     "output_type": "stream",
     "text": [
      "True\n"
     ]
    }
   ],
   "source": [
    "from collections import Counter\n",
    "\n",
    "a = ['SMOOTH', 'OPERATOR', 'SMOOTH', 'SMOOTH', 'OPERATOR', 'OPERATOR']\n",
    "b = ['OPERATOR', 'OPERATOR', 'SMOOTH', 'OPERATOR', 'SMOOTH', 'SMOOTH']\n",
    "\n",
    "print(Counter(a) == Counter(b))"
   ]
  },
  {
   "cell_type": "code",
   "execution_count": 247,
   "metadata": {},
   "outputs": [
    {
     "name": "stdout",
     "output_type": "stream",
     "text": [
      "False\n"
     ]
    }
   ],
   "source": [
    "c = ['SMOOTH', 'OPERATOR', 'SMOOTH', 'SMOOTH', 'OPERATOR', 'OPERATOR']\n",
    "d = ['1', '3', 'SMOOTH', 'OPERATOR', 'SMOOTH', '2']\n",
    "\n",
    "print(Counter(c) == Counter(d))"
   ]
  },
  {
   "cell_type": "code",
   "execution_count": 248,
   "metadata": {},
   "outputs": [
    {
     "name": "stdout",
     "output_type": "stream",
     "text": [
      "SMOOTH\n"
     ]
    }
   ],
   "source": [
    "'''\n",
    "Analyzing the most frequent on the list\n",
    "'''\n",
    "print(max(set(a), key = a.count))"
   ]
  },
  {
   "cell_type": "code",
   "execution_count": 249,
   "metadata": {},
   "outputs": [
    {
     "data": {
      "text/plain": [
       "'\\nChecking if two words are anagrams\\n'"
      ]
     },
     "execution_count": 249,
     "metadata": {},
     "output_type": "execute_result"
    }
   ],
   "source": [
    "'''\n",
    "Checking if two words are anagrams\n",
    "'''"
   ]
  },
  {
   "cell_type": "code",
   "execution_count": 250,
   "metadata": {},
   "outputs": [
    {
     "name": "stdout",
     "output_type": "stream",
     "text": [
      "False\n",
      "False\n"
     ]
    }
   ],
   "source": [
    "from collections import Counter\n",
    "def is_anagram(str1, str2):\n",
    "    return Counter(str1) == Counter(str2)\n",
    "print(is_anagram('MAX', 'SMOOTH'))\n",
    "print(is_anagram('ANALYST', 'OPERATOR'))"
   ]
  },
  {
   "cell_type": "code",
   "execution_count": null,
   "metadata": {},
   "outputs": [],
   "source": [
    "'''\n",
    "comparison operators\n",
    "'''"
   ]
  },
  {
   "cell_type": "code",
   "execution_count": 254,
   "metadata": {},
   "outputs": [
    {
     "name": "stdout",
     "output_type": "stream",
     "text": [
      "False\n",
      "True\n"
     ]
    }
   ],
   "source": [
    "a = 'SMOOTH'\n",
    "b = 'OPERATOR'\n",
    "c = 'SMOOTH'\n",
    "print(a == b)\n",
    "print(a == c)"
   ]
  },
  {
   "cell_type": "code",
   "execution_count": 256,
   "metadata": {},
   "outputs": [],
   "source": [
    "#a_list = list()\n",
    "#a_dict = dict()\n",
    "#a_map = map()\n",
    "#a_set = set()"
   ]
  },
  {
   "cell_type": "code",
   "execution_count": 258,
   "metadata": {},
   "outputs": [
    {
     "name": "stdout",
     "output_type": "stream",
     "text": [
      "28\n"
     ]
    }
   ],
   "source": []
  },
  {
   "cell_type": "code",
   "execution_count": 257,
   "metadata": {},
   "outputs": [
    {
     "name": "stdout",
     "output_type": "stream",
     "text": [
      "28\n"
     ]
    }
   ],
   "source": []
  },
  {
   "cell_type": "code",
   "execution_count": null,
   "metadata": {},
   "outputs": [],
   "source": []
  },
  {
   "cell_type": "code",
   "execution_count": null,
   "metadata": {},
   "outputs": [],
   "source": []
  },
  {
   "cell_type": "code",
   "execution_count": null,
   "metadata": {},
   "outputs": [],
   "source": []
  },
  {
   "cell_type": "code",
   "execution_count": null,
   "metadata": {},
   "outputs": [],
   "source": []
  },
  {
   "cell_type": "code",
   "execution_count": null,
   "metadata": {},
   "outputs": [],
   "source": []
  },
  {
   "cell_type": "code",
   "execution_count": null,
   "metadata": {},
   "outputs": [],
   "source": []
  },
  {
   "cell_type": "code",
   "execution_count": null,
   "metadata": {},
   "outputs": [],
   "source": []
  },
  {
   "cell_type": "code",
   "execution_count": null,
   "metadata": {},
   "outputs": [],
   "source": []
  },
  {
   "cell_type": "code",
   "execution_count": null,
   "metadata": {},
   "outputs": [],
   "source": []
  },
  {
   "cell_type": "code",
   "execution_count": null,
   "metadata": {},
   "outputs": [],
   "source": []
  },
  {
   "cell_type": "code",
   "execution_count": null,
   "metadata": {},
   "outputs": [],
   "source": []
  },
  {
   "cell_type": "code",
   "execution_count": null,
   "metadata": {},
   "outputs": [],
   "source": []
  }
 ],
 "metadata": {
  "kernelspec": {
   "display_name": "Python 3",
   "language": "python",
   "name": "python3"
  },
  "language_info": {
   "codemirror_mode": {
    "name": "ipython",
    "version": 3
   },
   "file_extension": ".py",
   "mimetype": "text/x-python",
   "name": "python",
   "nbconvert_exporter": "python",
   "pygments_lexer": "ipython3",
   "version": "3.8.5"
  }
 },
 "nbformat": 4,
 "nbformat_minor": 4
}
