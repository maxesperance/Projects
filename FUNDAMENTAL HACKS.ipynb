{
 "cells": [
  {
   "cell_type": "code",
   "execution_count": 10,
   "metadata": {},
   "outputs": [],
   "source": [
    "#Import necessary packages\n",
    "import numpy as np \n",
    "import pandas as pd \n",
    "from scipy.stats import iqr as sc\n",
    "import statsmodels.api as sm\n",
    "pd.set_option('max_columns', 100)\n",
    "\n",
    "#visualizing\n",
    "import matplotlib.pyplot as plt\n",
    "import matplotlib.image as mpimg\n",
    "import seaborn as sns\n",
    "import numpy as np\n",
    "import seaborn as sns\n",
    "sns.set()\n",
    "%matplotlib inline\n",
    "\n",
    "#metrics and split\n",
    "from sklearn.metrics import r2_score\n",
    "from sklearn.model_selection import train_test_split\n",
    "from sklearn.metrics import confusion_matrix\n",
    "from sklearn.metrics import accuracy_score\n",
    "\n",
    "#model imports\n",
    "from sklearn import linear_model\n",
    "from sklearn.tree import DecisionTreeRegressor\n",
    "from sklearn.ensemble import GradientBoostingRegressor\n",
    "from sklearn.ensemble import RandomForestRegressor\n",
    "from sklearn.ensemble import  ExtraTreesRegressor\n",
    "from sklearn.model_selection import RandomizedSearchCV\n",
    "from sklearn.linear_model import LogisticRegression\n",
    "from sklearn.neighbors import KNeighborsClassifier\n",
    "from sklearn.feature_selection import f_regression\n",
    "from sklearn.metrics import recall_score,classification_report\n",
    "from sklearn.linear_model import LassoCV\n",
    "from sklearn.preprocessing import StandardScaler\n",
    "from sklearn.model_selection import train_test_split, cross_val_score\n",
    "from sklearn.linear_model import LinearRegression, LassoCV, RidgeCV\n",
    "from sklearn.metrics import mean_squared_error, r2_score"
   ]
  },
  {
   "cell_type": "code",
   "execution_count": 11,
   "metadata": {},
   "outputs": [],
   "source": [
    "import itertools\n",
    "import time\n",
    "import sys"
   ]
  },
  {
   "cell_type": "code",
   "execution_count": 12,
   "metadata": {},
   "outputs": [
    {
     "data": {
      "text/plain": [
       "'\\nTransposing\\n'"
      ]
     },
     "execution_count": 12,
     "metadata": {},
     "output_type": "execute_result"
    }
   ],
   "source": [
    "'''\n",
    "Transposing\n",
    "'''"
   ]
  },
  {
   "cell_type": "code",
   "execution_count": 16,
   "metadata": {},
   "outputs": [
    {
     "name": "stdout",
     "output_type": "stream",
     "text": [
      "('Floyd',)\n",
      "('Hagler',)\n",
      "('Teofimo',)\n",
      "('Loma',)\n"
     ]
    }
   ],
   "source": [
    "df = [['Floyd','Hagler','Teofimo','Loma']]\n",
    "new_df =zip(*df)\n",
    "for row in new_df:\n",
    "    print(row)"
   ]
  },
  {
   "cell_type": "code",
   "execution_count": null,
   "metadata": {},
   "outputs": [],
   "source": [
    "'''\n",
    "Execution time of last job\n",
    "'''"
   ]
  },
  {
   "cell_type": "code",
   "execution_count": 85,
   "metadata": {},
   "outputs": [
    {
     "name": "stdout",
     "output_type": "stream",
     "text": [
      "time of last job:  3.1948089599609375e-05\n"
     ]
    }
   ],
   "source": [
    "starttime=time.time()\n",
    "endtime=time.time()\n",
    "print(\"time of last job: \",(endtime-starttime))"
   ]
  },
  {
   "cell_type": "code",
   "execution_count": null,
   "metadata": {},
   "outputs": [],
   "source": [
    "'''\n",
    "creating a single string\n",
    "'''"
   ]
  },
  {
   "cell_type": "code",
   "execution_count": 21,
   "metadata": {},
   "outputs": [
    {
     "name": "stdout",
     "output_type": "stream",
     "text": [
      "THE BEST EVER\n"
     ]
    }
   ],
   "source": [
    "string1 = [\"THE\", \"BEST\", \"EVER\"]\n",
    "print(\" \".join(string1))"
   ]
  },
  {
   "cell_type": "code",
   "execution_count": 87,
   "metadata": {},
   "outputs": [
    {
     "name": "stdout",
     "output_type": "stream",
     "text": [
      "THE HITMAN\n"
     ]
    }
   ],
   "source": [
    "string1 = [\"THE\", \"HITMAN\"]\n",
    "print(\" \".join(string1))"
   ]
  },
  {
   "cell_type": "code",
   "execution_count": null,
   "metadata": {},
   "outputs": [],
   "source": [
    "'''\n",
    "Split string\n",
    "'''"
   ]
  },
  {
   "cell_type": "code",
   "execution_count": 22,
   "metadata": {},
   "outputs": [
    {
     "name": "stdout",
     "output_type": "stream",
     "text": [
      "['MAX', 'is', 'the', 'SMOOTH', 'OPERATOR']\n"
     ]
    }
   ],
   "source": [
    "string2= \"MAX is the SMOOTH OPERATOR\"\n",
    "string3=string2.split()\n",
    "print(string3)"
   ]
  },
  {
   "cell_type": "code",
   "execution_count": 23,
   "metadata": {},
   "outputs": [
    {
     "name": "stdout",
     "output_type": "stream",
     "text": [
      "152\n"
     ]
    }
   ],
   "source": [
    "print(sys.getsizeof(string3))"
   ]
  },
  {
   "cell_type": "code",
   "execution_count": null,
   "metadata": {},
   "outputs": [],
   "source": [
    "'''\n",
    "printing multiple values of same string\n",
    "'''"
   ]
  },
  {
   "cell_type": "code",
   "execution_count": 88,
   "metadata": {},
   "outputs": [
    {
     "name": "stdout",
     "output_type": "stream",
     "text": [
      "SMOOTHSMOOTHSMOOTHSMOOTHSMOOTHSMOOTHSMOOTH OPERATOROPERATOROPERATOROPERATOROPERATOROPERATOROPERATOR\n"
     ]
    }
   ],
   "source": [
    "print(\"SMOOTH\"*7+' '+\"OPERATOR\"*7)"
   ]
  },
  {
   "cell_type": "code",
   "execution_count": 89,
   "metadata": {},
   "outputs": [
    {
     "name": "stdout",
     "output_type": "stream",
     "text": [
      "ALIALIALIALIALIALIALIALI TYSONTYSONTYSONTYSON\n"
     ]
    }
   ],
   "source": [
    "print(\"ALI\"*8+' '+\"TYSON\"*4)"
   ]
  },
  {
   "cell_type": "code",
   "execution_count": 29,
   "metadata": {},
   "outputs": [
    {
     "data": {
      "text/plain": [
       "'\\nFlatten lines\\n'"
      ]
     },
     "execution_count": 29,
     "metadata": {},
     "output_type": "execute_result"
    }
   ],
   "source": [
    "'''\n",
    "Flatten lines\n",
    "'''"
   ]
  },
  {
   "cell_type": "code",
   "execution_count": 90,
   "metadata": {},
   "outputs": [
    {
     "name": "stdout",
     "output_type": "stream",
     "text": [
      "['Floyd', 'is', 'the', 'greatest', 'of', 'all', 'time']\n"
     ]
    }
   ],
   "source": [
    "string4=[['Floyd','is'],['the','greatest'],['of','all','time']]\n",
    "string5= list(itertools.chain.from_iterable(string4))\n",
    "print(string5)"
   ]
  },
  {
   "cell_type": "code",
   "execution_count": 36,
   "metadata": {},
   "outputs": [
    {
     "name": "stdout",
     "output_type": "stream",
     "text": [
      "['are', 'you', 'sure', 'about', 'that', '?']\n"
     ]
    }
   ],
   "source": [
    "string4=[['are','you'],['sure','about'],['that','?']]\n",
    "string5= list(itertools.chain.from_iterable(string4))\n",
    "print(string5)"
   ]
  },
  {
   "cell_type": "code",
   "execution_count": null,
   "metadata": {},
   "outputs": [],
   "source": [
    "'''\n",
    "Reverse a list \n",
    "'''"
   ]
  },
  {
   "cell_type": "code",
   "execution_count": 40,
   "metadata": {},
   "outputs": [
    {
     "name": "stdout",
     "output_type": "stream",
     "text": [
      "['lets', 'be', 'great']\n"
     ]
    }
   ],
   "source": [
    "string6=['great','be','lets']\n",
    "print(string6[::-1])"
   ]
  },
  {
   "cell_type": "code",
   "execution_count": 91,
   "metadata": {},
   "outputs": [
    {
     "name": "stdout",
     "output_type": "stream",
     "text": [
      "greatgreatgreatgreatgreatgreat greatestgreatestgreatestgreatestgreatestgreatest\n"
     ]
    }
   ],
   "source": [
    "print(\"great\"*6+' '+\"greatest\"*6)"
   ]
  },
  {
   "cell_type": "code",
   "execution_count": null,
   "metadata": {},
   "outputs": [],
   "source": [
    "'''\n",
    "Reverse a string\n",
    "'''"
   ]
  },
  {
   "cell_type": "code",
   "execution_count": 92,
   "metadata": {},
   "outputs": [
    {
     "name": "stdout",
     "output_type": "stream",
     "text": [
      "Rever$e-Rever$e: dyolF rehtaewyaM\n"
     ]
    }
   ],
   "source": [
    "string7='Mayweather Floyd'\n",
    "print(\"Rever$e-Rever$e:\", string7[::-1])"
   ]
  },
  {
   "cell_type": "code",
   "execution_count": 94,
   "metadata": {},
   "outputs": [
    {
     "name": "stdout",
     "output_type": "stream",
     "text": [
      "MI$$Y-Rever$ed IT: )dog dooG( taht krow ot woh wonk erus uoY)ooW( seidal ym oTno emoCi put my thang down flip it and reverse iTi put my thang down flip it and reverse iTay krow attog I drah woh tuo dnif oTay hcraes em tel ,gib a tog uoy fIi put my thang down flip it and reverse iTi put my thang down flip it and reverse iTti esrever dna ti pilf ,nwod gnaht ym tup Iti krow em teL ?ti htrow ti sI no emoC evisulcxe emit eno ttoillE yssiM a si sihT enil tseuqer eht no mI enohp ruoy pu kcip ,esaelp JD\n"
     ]
    }
   ],
   "source": [
    "string7='DJ please, pick up your phone Im on the request line This is a Missy Elliott one time exclusive Come on Is it worth it? Let me work itI put my thang down, flip it and reverse itTi esrever dna ti pilf nwod gnaht ym tup iTi esrever dna ti pilf nwod gnaht ym tup iIf you got a big, let me search yaTo find out how hard I gotta work yaTi esrever dna ti pilf nwod gnaht ym tup iTi esrever dna ti pilf nwod gnaht ym tup iCome onTo my ladies (Woo)You sure know how to work that (Good god)'\n",
    "print(\"MI$$Y-Rever$ed IT:\", string7[::-1])"
   ]
  },
  {
   "cell_type": "code",
   "execution_count": 99,
   "metadata": {},
   "outputs": [
    {
     "name": "stdout",
     "output_type": "stream",
     "text": [
      "MI$$Y-Rever$ed IT: assam asey ho ,niyas skcalb erutciPris on ,niaga evals a ,etniK atnuKapap eman ym egnahc em teg tndluoc ecnirPrepus emaf fo tol a tog I esuac tsuJ emag eht fo daeha uoy erus ekam tsuJgniht ruoy od ,seidal emahs on tniA\n"
     ]
    }
   ],
   "source": [
    "string7='Aint no shame ladies, do your thingJust make sure you ahead of the game Just cause I got a lot of fame superPrince couldnt get me change my name papaKunta Kinte, a slave again, no sirPicture blacks sayin, oh yesa massa'\n",
    "print(\"MI$$Y-Rever$ed IT:\", string7[::-1])"
   ]
  },
  {
   "cell_type": "code",
   "execution_count": 102,
   "metadata": {},
   "outputs": [
    {
     "name": "stdout",
     "output_type": "stream",
     "text": [
      "MI$$Y-Rever$ed IT: i put my thang down flip it and reverse iTi put my thang down flip it and reverse iTti esrever dna ti pilf ,nwod gniht ym tup Iti krow em teL ?ti htrow ti sI\n"
     ]
    }
   ],
   "source": [
    "string7='Is it worth it? Let me work itI put my thing down, flip it and reverse itTi esrever dna ti pilf nwod gnaht ym tup iTi esrever dna ti pilf nwod gnaht ym tup i'\n",
    "print(\"MI$$Y-Rever$ed IT:\", string7[::-1])"
   ]
  },
  {
   "cell_type": "code",
   "execution_count": null,
   "metadata": {},
   "outputs": [],
   "source": []
  },
  {
   "cell_type": "code",
   "execution_count": null,
   "metadata": {},
   "outputs": [],
   "source": []
  },
  {
   "cell_type": "code",
   "execution_count": null,
   "metadata": {},
   "outputs": [],
   "source": []
  },
  {
   "cell_type": "code",
   "execution_count": null,
   "metadata": {},
   "outputs": [],
   "source": [
    "'''\n",
    "scrapping unwated data\n",
    "'''"
   ]
  },
  {
   "cell_type": "code",
   "execution_count": 103,
   "metadata": {},
   "outputs": [
    {
     "name": "stdout",
     "output_type": "stream",
     "text": [
      "USA-BOXING\n"
     ]
    }
   ],
   "source": [
    "data='\\nUSA-BOXING'\n",
    "print(data.strip())"
   ]
  },
  {
   "cell_type": "code",
   "execution_count": 104,
   "metadata": {},
   "outputs": [
    {
     "name": "stdout",
     "output_type": "stream",
     "text": [
      "FLICKER-JAB\n"
     ]
    }
   ],
   "source": [
    "data='\\nFLICKER-JAB'\n",
    "print(data.strip())"
   ]
  },
  {
   "cell_type": "code",
   "execution_count": 109,
   "metadata": {},
   "outputs": [
    {
     "name": "stdout",
     "output_type": "stream",
     "text": [
      "\f",
      "\f",
      "\f",
      "THE WINNER TAKES IT ALL\n"
     ]
    }
   ],
   "source": [
    "data='\\f\\f\\fTHE WINNER TAKES IT ALL\\n\\n\\n\\t'\n",
    "print(data.strip('\\n\\t'))"
   ]
  },
  {
   "cell_type": "code",
   "execution_count": null,
   "metadata": {},
   "outputs": [],
   "source": [
    "'''\n",
    "combining differnt lines\n",
    "'''"
   ]
  },
  {
   "cell_type": "code",
   "execution_count": 110,
   "metadata": {},
   "outputs": [
    {
     "name": "stdout",
     "output_type": "stream",
     "text": [
      "The Smooth\n",
      "Operator: MAX_\n",
      "THE _ANALYST\n"
     ]
    }
   ],
   "source": [
    "string8 =['The','Operator:', 'THE']\n",
    "string9= ['Smooth','MAX_','_ANALYST']\n",
    "for x, y in zip(string8, string9):\n",
    "    print(x,y)"
   ]
  },
  {
   "cell_type": "code",
   "execution_count": null,
   "metadata": {},
   "outputs": [],
   "source": [
    "'''\n",
    "combining two dictionaries\n",
    "'''"
   ]
  },
  {
   "cell_type": "code",
   "execution_count": 57,
   "metadata": {},
   "outputs": [
    {
     "name": "stdout",
     "output_type": "stream",
     "text": [
      "{'SMOOTH': 100, 'CHAMP': 100, 'ANALYTICS': 100, 'WIN': 100}\n"
     ]
    }
   ],
   "source": [
    "def merge(dict1,dict2):\n",
    "    res = {**dict1, **dict2}\n",
    "    return res\n",
    "\n",
    "dict1= {'SMOOTH': 100, 'CHAMP':100}\n",
    "dict2= {'ANALYTICS': 100, 'WIN':100}\n",
    "dict3 = merge(dict1,dict2)\n",
    "print(dict3)"
   ]
  },
  {
   "cell_type": "code",
   "execution_count": 58,
   "metadata": {},
   "outputs": [
    {
     "data": {
      "text/plain": [
       "'\\nconvering a list into a string\\n'"
      ]
     },
     "execution_count": 58,
     "metadata": {},
     "output_type": "execute_result"
    }
   ],
   "source": [
    "'''\n",
    "convering a list into a string\n",
    "'''"
   ]
  },
  {
   "cell_type": "code",
   "execution_count": 60,
   "metadata": {},
   "outputs": [
    {
     "name": "stdout",
     "output_type": "stream",
     "text": [
      "trainEVERYDAYworkEVERYDAYsleepEVERYDAYFIGHT\n"
     ]
    }
   ],
   "source": [
    "list1 = [\"train\",\"work\",\"sleep\",\"FIGHT\"]\n",
    "print(\"EVERYDAY\".join(list1))"
   ]
  },
  {
   "cell_type": "code",
   "execution_count": 61,
   "metadata": {},
   "outputs": [],
   "source": [
    "from collections import Counter"
   ]
  },
  {
   "cell_type": "code",
   "execution_count": 70,
   "metadata": {},
   "outputs": [
    {
     "name": "stdout",
     "output_type": "stream",
     "text": [
      "True\n"
     ]
    }
   ],
   "source": [
    "r = ['TRAIN','WORK','TRAIN','WORK','WORK','WORK']\n",
    "b = ['WORK','WORK','TRAIN','FIGHT','TRAIN','WORK']\n",
    "print(Counter(b)==Counter(c))"
   ]
  },
  {
   "cell_type": "code",
   "execution_count": 71,
   "metadata": {},
   "outputs": [
    {
     "name": "stdout",
     "output_type": "stream",
     "text": [
      "False\n"
     ]
    }
   ],
   "source": [
    "c = ['SMOOTH', 'OPERATOR', 'SMOOTH', 'SMOOTH', 'OPERATOR', 'OPERATOR']\n",
    "z = ['OPERATOR', 'OPERATOR', 'SMOOTH', 'OPERATOR', 'SMOOTH', 'SMOOTH']\n",
    "\n",
    "print(Counter(a) == Counter(b))"
   ]
  },
  {
   "cell_type": "code",
   "execution_count": 72,
   "metadata": {},
   "outputs": [
    {
     "data": {
      "text/plain": [
       "'\\nmost frequent on list\\n'"
      ]
     },
     "execution_count": 72,
     "metadata": {},
     "output_type": "execute_result"
    }
   ],
   "source": [
    "'''\n",
    "most frequent on list\n",
    "'''"
   ]
  },
  {
   "cell_type": "code",
   "execution_count": 73,
   "metadata": {},
   "outputs": [
    {
     "name": "stdout",
     "output_type": "stream",
     "text": [
      "WORK\n"
     ]
    }
   ],
   "source": [
    "print(max(set(b),key=b.count))"
   ]
  },
  {
   "cell_type": "code",
   "execution_count": 74,
   "metadata": {},
   "outputs": [
    {
     "name": "stdout",
     "output_type": "stream",
     "text": [
      "OPERATOR\n"
     ]
    }
   ],
   "source": [
    "print(max(set(z),key=b.count))"
   ]
  },
  {
   "cell_type": "code",
   "execution_count": 77,
   "metadata": {},
   "outputs": [
    {
     "name": "stdout",
     "output_type": "stream",
     "text": [
      "False\n",
      "False\n"
     ]
    }
   ],
   "source": [
    "'''\n",
    "checking if two word are anagrams\n",
    "'''\n",
    "def is_anagram(str1,str2):\n",
    "    return Counter(str1)==Counter(str2)\n",
    "print(is_anagram('MAX','SMOOTH'))\n",
    "print(is_anagram('OPERATOR','ANALYST'))"
   ]
  },
  {
   "cell_type": "code",
   "execution_count": null,
   "metadata": {},
   "outputs": [],
   "source": []
  },
  {
   "cell_type": "code",
   "execution_count": null,
   "metadata": {},
   "outputs": [],
   "source": []
  },
  {
   "cell_type": "code",
   "execution_count": null,
   "metadata": {},
   "outputs": [],
   "source": []
  },
  {
   "cell_type": "code",
   "execution_count": 78,
   "metadata": {},
   "outputs": [
    {
     "name": "stdout",
     "output_type": "stream",
     "text": [
      "TF version:  2.10.0\n",
      "Hub version:  0.12.0\n"
     ]
    }
   ],
   "source": [
    "import tensorflow as tf\n",
    "import tensorflow_hub as hub\n",
    "print(\"TF version: \", tf.__version__)\n",
    "print(\"Hub version: \", hub.__version__)"
   ]
  },
  {
   "cell_type": "code",
   "execution_count": 79,
   "metadata": {},
   "outputs": [],
   "source": [
    "from tensorflow.keras import models\n",
    "from tensorflow.keras import layers\n",
    "from tensorflow.keras import optimizers\n",
    "import json"
   ]
  },
  {
   "cell_type": "code",
   "execution_count": 82,
   "metadata": {},
   "outputs": [
    {
     "name": "stderr",
     "output_type": "stream",
     "text": [
      "[nltk_data] Downloading package punkt to\n",
      "[nltk_data]     /Users/maxesperance/nltk_data...\n",
      "[nltk_data]   Package punkt is already up-to-date!\n",
      "[nltk_data] Downloading package stopwords to\n",
      "[nltk_data]     /Users/maxesperance/nltk_data...\n",
      "[nltk_data]   Package stopwords is already up-to-date!\n",
      "[nltk_data] Downloading package wordnet to\n",
      "[nltk_data]     /Users/maxesperance/nltk_data...\n",
      "[nltk_data]   Package wordnet is already up-to-date!\n",
      "[nltk_data] Downloading package averaged_perceptron_tagger to\n",
      "[nltk_data]     /Users/maxesperance/nltk_data...\n",
      "[nltk_data]   Package averaged_perceptron_tagger is already up-to-\n",
      "[nltk_data]       date!\n"
     ]
    }
   ],
   "source": [
    "import nltk\n",
    "import os\n",
    "import nltk.corpus\n",
    "import lyricsgenius\n",
    "from lyricsgenius import Genius\n",
    "# Importing Porterstemmer from nltk library\n",
    "import nltk\n",
    "from nltk.stem import PorterStemmer\n",
    "nltk.download('punkt')\n",
    "nltk.download('stopwords')\n",
    "nltk.download('wordnet')\n",
    "nltk.download('averaged_perceptron_tagger')\n",
    "from nltk.corpus import stopwords\n",
    "from nltk.tokenize import word_tokenize\n",
    "from nltk.tokenize import sent_tokenize\n",
    "from nltk.probability import FreqDist"
   ]
  },
  {
   "cell_type": "code",
   "execution_count": 83,
   "metadata": {},
   "outputs": [],
   "source": [
    "#from lyric genius website\n",
    "api_key = \"jYj-E5Zy7gsLD9X2FtZYifUYgFh4gnlbJc6cnD0Fv7Q1Zpzvyva1p2amMMvYGEAp\""
   ]
  },
  {
   "cell_type": "code",
   "execution_count": 84,
   "metadata": {},
   "outputs": [
    {
     "name": "stdout",
     "output_type": "stream",
     "text": [
      "Searching for songs by Sade...\n",
      "\n",
      "Song 1: \"All About Our Love\"\n",
      "Song 2: \"All About Our Love (Live 2011)\"\n",
      "Song 3: \"Babyfather\"\n",
      "Song 4: \"Be That Easy\"\n",
      "Song 5: \"Bring Me Home\"\n",
      "Song 6: \"Bullet Proof Soul\"\n",
      "Song 7: \"By Your Side\"\n",
      "Song 8: \"By Your Side (Ben Watt Lazy Dog Remix)\"\n",
      "Song 9: \"By Your Side (Cottonbelly Fola Mix)\"\n",
      "Song 10: \"By Your Side (Live 2001)\"\n",
      "\n",
      "Reached user-specified song limit (10).\n",
      "Done. Found 10 songs.\n",
      "Searching for \"Smooth Operator\" by Sade...\n",
      "Done.\n",
      "Smooth Operator Lyrics[Intro]\n",
      "He's laughing with another girl\n",
      "And playing with another heart\n",
      "Placing high stakes, making hearts ache\n",
      "He's loved in seven languages\n",
      "Jukebox life, Diamond nights and ruby lights\n",
      "High in the sky\n",
      "Heaven help him when he falls\n",
      "\n",
      "[Verse 1]\n",
      "Diamond life lover boy\n",
      "He moves in space with minimum waste and maximum joy\n",
      "City lights and business nights\n",
      "When you require streetcar desire for higher heights\n",
      "[Pre-Chorus]\n",
      "No place for beginners or sensitive hearts\n",
      "The sentiment is left to chance\n",
      "No place to be ending but somewhere to start\n",
      "\n",
      "[Chorus]\n",
      "No need to ask\n",
      "He's a smooth operator\n",
      "Smooth operator\n",
      "Smooth operator\n",
      "Smooth operator\n",
      "\n",
      "[Post-Chorus]\n",
      "Coast-to-coast, L.A. to Chicago: Western male\n",
      "Across the North and South, to Key Largo: love for sale\n",
      "\n",
      "[Verse 2]\n",
      "Face-to-face, each classic case\n",
      "We shadow box and double-cross\n",
      "Yet need the chase\n",
      "\n",
      "[Pre-Chorus]\n",
      "A license to love, insurance to hold\n",
      "Melts all your memories and change into gold\n",
      "His eyes are like angels; his heart is cold\n",
      "You might also like[Chorus]\n",
      "No need to ask\n",
      "He's a smooth operator\n",
      "Smooth operator\n",
      "Smooth operator\n",
      "Smooth operator\n",
      "\n",
      "[Post-Chorus]\n",
      "Coast-to-coast, L.A. to Chicago: Western male\n",
      "Across the North and South, to Key Largo: love for sale\n",
      "\n",
      "[Outro]\n",
      "Smooth operator\n",
      "Smooth operator\n",
      "Smooth operator\n",
      "Smooth operator\n",
      "Smooth operator\n",
      "Smooth operator\n",
      "Smooth operator26Embed\n"
     ]
    }
   ],
   "source": [
    "genius = lyricsgenius.Genius(api_key)\n",
    "artist = genius.search_artist(\"Sade\", \n",
    "max_songs=10,sort=\"title\")\n",
    "song = artist.song(\"Smooth Operator\")\n",
    "print(song.lyrics)"
   ]
  },
  {
   "cell_type": "code",
   "execution_count": null,
   "metadata": {},
   "outputs": [],
   "source": []
  },
  {
   "cell_type": "code",
   "execution_count": null,
   "metadata": {},
   "outputs": [],
   "source": []
  },
  {
   "cell_type": "code",
   "execution_count": null,
   "metadata": {},
   "outputs": [],
   "source": []
  },
  {
   "cell_type": "code",
   "execution_count": null,
   "metadata": {},
   "outputs": [],
   "source": []
  },
  {
   "cell_type": "code",
   "execution_count": null,
   "metadata": {},
   "outputs": [],
   "source": []
  },
  {
   "cell_type": "code",
   "execution_count": null,
   "metadata": {},
   "outputs": [],
   "source": []
  },
  {
   "cell_type": "code",
   "execution_count": null,
   "metadata": {},
   "outputs": [],
   "source": []
  },
  {
   "cell_type": "code",
   "execution_count": null,
   "metadata": {},
   "outputs": [],
   "source": []
  },
  {
   "cell_type": "code",
   "execution_count": null,
   "metadata": {},
   "outputs": [],
   "source": []
  },
  {
   "cell_type": "code",
   "execution_count": null,
   "metadata": {},
   "outputs": [],
   "source": []
  },
  {
   "cell_type": "code",
   "execution_count": null,
   "metadata": {},
   "outputs": [],
   "source": []
  },
  {
   "cell_type": "code",
   "execution_count": null,
   "metadata": {},
   "outputs": [],
   "source": []
  },
  {
   "cell_type": "code",
   "execution_count": null,
   "metadata": {},
   "outputs": [],
   "source": []
  },
  {
   "cell_type": "code",
   "execution_count": null,
   "metadata": {},
   "outputs": [],
   "source": []
  },
  {
   "cell_type": "code",
   "execution_count": null,
   "metadata": {},
   "outputs": [],
   "source": []
  },
  {
   "cell_type": "code",
   "execution_count": null,
   "metadata": {},
   "outputs": [],
   "source": []
  },
  {
   "cell_type": "code",
   "execution_count": null,
   "metadata": {},
   "outputs": [],
   "source": []
  },
  {
   "cell_type": "code",
   "execution_count": null,
   "metadata": {},
   "outputs": [],
   "source": []
  },
  {
   "cell_type": "code",
   "execution_count": null,
   "metadata": {},
   "outputs": [],
   "source": []
  },
  {
   "cell_type": "code",
   "execution_count": null,
   "metadata": {},
   "outputs": [],
   "source": []
  },
  {
   "cell_type": "code",
   "execution_count": null,
   "metadata": {},
   "outputs": [],
   "source": []
  },
  {
   "cell_type": "code",
   "execution_count": null,
   "metadata": {},
   "outputs": [],
   "source": []
  }
 ],
 "metadata": {
  "kernelspec": {
   "display_name": "Python 3",
   "language": "python",
   "name": "python3"
  },
  "language_info": {
   "codemirror_mode": {
    "name": "ipython",
    "version": 3
   },
   "file_extension": ".py",
   "mimetype": "text/x-python",
   "name": "python",
   "nbconvert_exporter": "python",
   "pygments_lexer": "ipython3",
   "version": "3.8.5"
  }
 },
 "nbformat": 4,
 "nbformat_minor": 4
}
